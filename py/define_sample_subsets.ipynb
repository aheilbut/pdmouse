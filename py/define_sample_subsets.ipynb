{
 "metadata": {
  "name": "define_sample_subsets"
 },
 "nbformat": 3,
 "nbformat_minor": 0,
 "worksheets": [
  {
   "cells": [
    {
     "cell_type": "code",
     "collapsed": false,
     "input": [
      "import load_pd_data; reload(load_pd_data); from load_pd_data import *"
     ],
     "language": "python",
     "metadata": {},
     "outputs": [],
     "prompt_number": 12
    },
    {
     "cell_type": "code",
     "collapsed": false,
     "input": [
      "# define subsets\n",
      "ss_cp73_chronicHigh = pd_covar.select(lambda x: (pd_covar.ix[x, \"MouseType\"] == \"CP73\" \n",
      "                                                and pd_covar.ix[x, \"LesionType\"] == \"6-OHDA\" \n",
      "                                                and pd_covar.ix[x, \"DrugTreat\"] == \"Chronic high levodopa\"))\n",
      "\n",
      "ss_cp73_chronicLow = pd_covar.select(lambda x: (pd_covar.ix[x, \"MouseType\"] == \"CP73\" \n",
      "                                                and pd_covar.ix[x, \"LesionType\"] == \"6-OHDA\" \n",
      "                                                and pd_covar.ix[x, \"DrugTreat\"] == \"Chronic low levodopa\"))\n",
      "\n",
      "ss_cp101_chronicHigh = pd_covar.select(lambda x: (pd_covar.ix[x, \"MouseType\"] == \"CP101\" \n",
      "                                                and pd_covar.ix[x, \"LesionType\"] == \"6-OHDA\" \n",
      "                                                and pd_covar.ix[x, \"DrugTreat\"] == \"Chronic high levodopa\")) \n",
      "\n",
      "ss_cp101_chronicLow = pd_covar.select(lambda x: (pd_covar.ix[x, \"MouseType\"] == \"CP101\" \n",
      "                                                and pd_covar.ix[x, \"LesionType\"] == \"6-OHDA\" \n",
      "                                                and pd_covar.ix[x, \"DrugTreat\"] == \"Chronic low levodopa\" \n",
      "                                                and pd_covar.ix[x, \"MouseID\"] != 1343)) \n",
      "\n",
      "ss_cp101_allchronic = pd_covar.select(lambda x: (pd_covar.ix[x, \"MouseType\"] == \"CP101\" \n",
      "                                                and pd_covar.ix[x, \"LesionType\"] == \"6-OHDA\" \n",
      "                                                and (pd_covar.ix[x, \"DrugTreat\"] == \"Chronic low levodopa\" \n",
      "                                                     or pd_covar.ix[x, \"DrugTreat\"] == \"Chronic high levodopa\")\n",
      "                                                and pd_covar.ix[x, \"MouseID\"] != 1343)) \n",
      "\n",
      "ss_cp101_allchronic = pd_covar.select(lambda x: (pd_covar.ix[x, \"MouseType\"] == \"CP101\" \n",
      "                                                 and pd_covar.ix[x, \"LesionType\"] == \"6-OHDA\" \n",
      "                                                 and (pd_covar.ix[x, \"DrugTreat\"] == \"Chronic low levodopa\" \n",
      "                                                        or pd_covar.ix[x, \"DrugTreat\"] == \"Chronic high levodopa\") \n",
      "                                                 and pd_covar.ix[x, \"MouseID\"] != 1343)) \n",
      "\n",
      "ss_cp73_allchronic = pd_covar.select(lambda x: (pd_covar.ix[x, \"MouseType\"] == \"CP73\" \n",
      "                                                and pd_covar.ix[x, \"LesionType\"] == \"6-OHDA\" \n",
      "                                                and (pd_covar.ix[x, \"DrugTreat\"] == \"Chronic low levodopa\" \\\n",
      "                                                     or pd_covar.ix[x, \"DrugTreat\"] == \"Chronic high levodopa\")\n",
      "                                                and pd_covar.ix[x, \"MouseID\"] != 1343)) \n",
      "\n",
      "ss_cp73_allChronic_LDOPA = pd_covar.select(lambda x: (pd_covar.ix[x, \"MouseType\"] == \"CP73\" \n",
      "                                                and pd_covar.ix[x, \"LesionType\"] == \"6-OHDA\" \n",
      "                                                and (pd_covar.ix[x, \"DrugTreat\"] == \"Chronic high levodopa\" \n",
      "                                                    or pd_covar.ix[x, \"DrugTreat\"] == \"Chronic low levodopa\")))\n",
      "                                          \n",
      "ss_cp101_allChronic_LDOPA = pd_covar.select(lambda x: (pd_covar.ix[x, \"MouseType\"] == \"CP101\" \n",
      "                                                and pd_covar.ix[x, \"LesionType\"] == \"6-OHDA\" \n",
      "                                                and pd_covar.ix[x, \"MouseID\"] != 1343\n",
      "                                                and (pd_covar.ix[x, \"DrugTreat\"] == \"Chronic high levodopa\" \n",
      "                                                     or pd_covar.ix[x, \"DrugTreat\"] == \"Chronic low levodopa\")))\n",
      "                                          \n",
      "\n",
      "cp73_chronic_saline = pd_covar.select(lambda x: pd_covar.ix[x, \"MouseType\"] == \"CP73\" \n",
      "                                        and pd_covar.ix[x, \"LesionType\"] == \"6-OHDA\" \n",
      "                                        and pd_covar.ix[x, \"DrugTreat\"] == \"Chronic saline\")\n",
      "cp101_chronic_saline = pd_covar.select(lambda x: pd_covar.ix[x, \"MouseType\"] == \"CP101\" \n",
      "                                        and pd_covar.ix[x, \"LesionType\"] == \"6-OHDA\" \n",
      "                                        and pd_covar.ix[x, \"DrugTreat\"] == \"Chronic saline\")\n",
      "\n",
      "ss_cp73_acuteHigh =  pd_covar.select(lambda x: (pd_covar.ix[x, \"MouseType\"] == \"CP73\" \n",
      "                                                and pd_covar.ix[x, \"LesionType\"] == \"6-OHDA\" \n",
      "                                                and pd_covar.ix[x, \"DrugTreat\"] == \"Acute high levodopa\"))\n",
      "\n",
      "ss_cp73_acuteSaline =  pd_covar.select(lambda x: (pd_covar.ix[x, \"MouseType\"] == \"CP73\" \n",
      "                                                and pd_covar.ix[x, \"LesionType\"] == \"6-OHDA\" \n",
      "                                                and pd_covar.ix[x, \"DrugTreat\"] == \"Acute saline\"))\n"
     ],
     "language": "python",
     "metadata": {},
     "outputs": [],
     "prompt_number": 13
    },
    {
     "cell_type": "code",
     "collapsed": false,
     "input": [
      "ss_cp101_ascorbate_saline = pd_covar.select( lambda x: pd_covar.ix[x, \"MouseType\"] == \"CP101\" \n",
      "                                                    and pd_covar.ix[x, \"DrugTreat\"] == \"Chronic saline\" \n",
      "                                                    and pd_covar.ix[x, \"LesionType\"] == \"Ascorbate\"  )\n",
      "\n",
      "ss_cp101_OHDA_saline = pd_covar.select( lambda x: pd_covar.ix[x, \"MouseType\"] == \"CP101\" \n",
      "                                                    and pd_covar.ix[x, \"DrugTreat\"] == \"Chronic saline\" \n",
      "                                                    and pd_covar.ix[x, \"LesionType\"] == \"6-OHDA\"  )"
     ],
     "language": "python",
     "metadata": {},
     "outputs": []
    },
    {
     "cell_type": "code",
     "collapsed": false,
     "input": [
      "ss_cp73_ascorbate_saline = pd_covar.select( lambda x: pd_covar.ix[x, \"MouseType\"] == \"CP73\" \n",
      "                                                    and pd_covar.ix[x, \"DrugTreat\"] == \"Chronic saline\" \n",
      "                                                    and pd_covar.ix[x, \"LesionType\"] == \"Ascorbate\"  )\n",
      "\n",
      "ss_cp73_OHDA_saline = pd_covar.select( lambda x: pd_covar.ix[x, \"MouseType\"] == \"CP73\" \n",
      "                                                    and pd_covar.ix[x, \"DrugTreat\"] == \"Chronic saline\" \n",
      "                                                    and pd_covar.ix[x, \"LesionType\"] == \"6-OHDA\"  )"
     ],
     "language": "python",
     "metadata": {},
     "outputs": []
    }
   ],
   "metadata": {}
  }
 ]
}