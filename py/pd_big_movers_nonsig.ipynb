{
 "metadata": {
  "name": "pd_big_movers_nonsig"
 },
 "nbformat": 3,
 "nbformat_minor": 0,
 "worksheets": [
  {
   "cells": [
    {
     "cell_type": "code",
     "collapsed": false,
     "input": [
      "p"
     ],
     "language": "python",
     "metadata": {},
     "outputs": []
    },
    {
     "cell_type": "code",
     "collapsed": false,
     "input": [],
     "language": "python",
     "metadata": {},
     "outputs": []
    },
    {
     "cell_type": "code",
     "collapsed": false,
     "input": [
      "sorted_ss_cp73_chronicHigh = ss_cp73_chronicHigh.sort(\"totalAIM\")"
     ],
     "language": "python",
     "metadata": {},
     "outputs": []
    },
    {
     "cell_type": "code",
     "collapsed": false,
     "input": [
      "worst_responders = sorted_ss_cp73_chronicHigh.ix[sorted_ss_cp73_chronicHigh.index[0:3], :]"
     ],
     "language": "python",
     "metadata": {},
     "outputs": []
    },
    {
     "cell_type": "code",
     "collapsed": false,
     "input": [
      "top_responders = sorted_ss_cp73_chronicHigh.ix[sorted_ss_cp73_chronicHigh.index[-4:-1], :]"
     ],
     "language": "python",
     "metadata": {},
     "outputs": []
    },
    {
     "cell_type": "code",
     "collapsed": false,
     "input": [
      "biggest_change = pda.calcChangeStats(pd_all, top_responders, worst_responders)"
     ],
     "language": "python",
     "metadata": {},
     "outputs": []
    },
    {
     "cell_type": "code",
     "collapsed": false,
     "input": [
      "big_movers = mo430info.merge( biggest_change.sort(\"fc_exp\", ascending=False)[0:50], how=\"right\", left_index=True, right_index=True)"
     ],
     "language": "python",
     "metadata": {},
     "outputs": []
    },
    {
     "cell_type": "code",
     "collapsed": false,
     "input": [],
     "language": "python",
     "metadata": {},
     "outputs": []
    },
    {
     "cell_type": "code",
     "collapsed": false,
     "input": [
      "figsize(5, 25)"
     ],
     "language": "python",
     "metadata": {},
     "outputs": []
    },
    {
     "cell_type": "code",
     "collapsed": false,
     "input": [
      "for i, p in enumerate(big_movers.index[0:10]):\n",
      "    subplot(10, 1, i)\n",
      "    pda.plotProbe( pd_all, pd_covar, p, \"CP73\")"
     ],
     "language": "python",
     "metadata": {},
     "outputs": []
    }
   ],
   "metadata": {}
  }
 ]
}