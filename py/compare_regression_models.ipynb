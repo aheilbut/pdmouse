{
 "metadata": {
  "name": "compare_regression_models"
 },
 "nbformat": 3,
 "nbformat_minor": 0,
 "worksheets": [
  {
   "cells": [
    {
     "cell_type": "code",
     "collapsed": false,
     "input": [
      "import cPickle"
     ],
     "language": "python",
     "metadata": {},
     "outputs": []
    },
    {
     "cell_type": "code",
     "collapsed": false,
     "input": [
      "import pandas\n",
      "from statsmodels.formula.api import ols \n",
      "from statsmodels.stats.anova import anova_lm\n",
      "import statsmodels.sandbox.stats.multicomp as multicomp"
     ],
     "language": "python",
     "metadata": {},
     "outputs": [],
     "prompt_number": 1
    },
    {
     "cell_type": "code",
     "collapsed": false,
     "input": [
      "import define_sample_subsets; reload(define_sample_subsets); from define_sample_subsets import *;"
     ],
     "language": "python",
     "metadata": {},
     "outputs": [],
     "prompt_number": 2
    },
    {
     "cell_type": "code",
     "collapsed": false,
     "input": [
      "model2 = \"AIM ~ expression + dose + 1\"\n",
      "model3 = \"AIM ~ dose*expression + 1\"\n",
      "model4 = \"AIM ~ expression + expression:dose + 1\"\n",
      "model5 = \"AIM ~ dose\"\n",
      "model6 = \"AIM ~ expression\"\n",
      "model7 = \"AIM ~ C(dose)*expression\"\n",
      "model8 = \"expression ~ AIM + dose\"\n",
      "model9 = \"expression ~ dose\"\n",
      "model10 = \"expression ~ AIM*dose\""
     ],
     "language": "python",
     "metadata": {},
     "outputs": [],
     "prompt_number": 7
    },
    {
     "cell_type": "code",
     "collapsed": false,
     "input": [
      "probeset = \"1422507_at\"\n",
      "cur_gene = pandas.DataFrame( { \"expression\" : pd_all.ix[probeset, ss_cp73_allchronic.filenames],\n",
      "                               \"dose\" : [int(i) for i in ss_cp73_allchronic[\"DrugTreat\"] == \"Chronic high levodopa\"], \n",
      "                               \"AIM\" : list(ss_cp73_allchronic[\"totalAIM\"].fillna(0)) } )\n",
      "\n",
      "aim_models = [\"AIM ~ expression + C(dose) + expression:C(dose)\", \"AIM ~ expression + C(dose)\", \"AIM ~ C(dose)\",  \"AIM ~ expression\"]\n",
      "expr_models = [\"expression ~ AIM*C(dose)\", \"expression ~ AIM + C(dose)\", \"expression ~ C(dose)\"]\n",
      "\n",
      "aim_model_fits = {}\n",
      "for m in aim_models:\n",
      "    aim_model_fits[m] = ols(m, cur_gene).fit()\n",
      "    \n",
      "#expr_model_fits = {}\n",
      "#for m in expr_models:\n",
      "#    expr_model_fits[m] = ols(m, cur_gene).fit()"
     ],
     "language": "python",
     "metadata": {},
     "outputs": [],
     "prompt_number": 5
    },
    {
     "cell_type": "code",
     "collapsed": false,
     "input": [
      "for m in aim_model_fits.keys():\n",
      "    print aim_model_fits[m].summary()"
     ],
     "language": "python",
     "metadata": {},
     "outputs": [
      {
       "output_type": "stream",
       "stream": "stdout",
       "text": [
        "                            OLS Regression Results                            \n",
        "==============================================================================\n",
        "Dep. Variable:                    AIM   R-squared:                       0.668\n",
        "Model:                            OLS   Adj. R-squared:                  0.652\n",
        "Method:                 Least Squares   F-statistic:                     42.30\n",
        "Date:                Mon, 01 Apr 2013   Prob (F-statistic):           1.92e-06\n",
        "Time:                        14:31:55   Log-Likelihood:                -100.42\n",
        "No. Observations:                  23   AIC:                             204.8\n",
        "Df Residuals:                      21   BIC:                             207.1\n",
        "Df Model:                           1                                         \n",
        "==============================================================================\n",
        "                 coef    std err          t      P>|t|      [95.0% Conf. Int.]\n",
        "------------------------------------------------------------------------------\n",
        "Intercept   -373.5903     69.821     -5.351      0.000      -518.790  -228.390\n",
        "expression    45.0828      6.932      6.504      0.000        30.668    59.498\n",
        "==============================================================================\n",
        "Omnibus:                        1.466   Durbin-Watson:                   2.067\n",
        "Prob(Omnibus):                  0.480   Jarque-Bera (JB):                1.083\n",
        "Skew:                           0.274   Prob(JB):                        0.582\n",
        "Kurtosis:                       2.090   Cond. No.                         171.\n",
        "==============================================================================\n",
        "                            OLS Regression Results                            \n",
        "==============================================================================\n",
        "Dep. Variable:                    AIM   R-squared:                       0.704\n",
        "Model:                            OLS   Adj. R-squared:                  0.657\n",
        "Method:                 Least Squares   F-statistic:                     15.07\n",
        "Date:                Mon, 01 Apr 2013   Prob (F-statistic):           2.92e-05\n",
        "Time:                        14:31:55   Log-Likelihood:                -99.099\n",
        "No. Observations:                  23   AIC:                             206.2\n",
        "Df Residuals:                      19   BIC:                             210.7\n",
        "Df Model:                           3                                         \n",
        "===========================================================================================\n",
        "                              coef    std err          t      P>|t|      [95.0% Conf. Int.]\n",
        "-------------------------------------------------------------------------------------------\n",
        "Intercept                -133.9603    172.825     -0.775      0.448      -495.687   227.766\n",
        "C(dose)[T.1]             -250.2828    364.437     -0.687      0.501     -1013.058   512.493\n",
        "expression                 19.7235     18.105      1.089      0.290       -18.171    57.618\n",
        "expression:C(dose)[T.1]    26.5996     35.226      0.755      0.459       -47.129   100.328\n",
        "==============================================================================\n",
        "Omnibus:                        0.179   Durbin-Watson:                   2.168\n",
        "Prob(Omnibus):                  0.914   Jarque-Bera (JB):                0.312\n",
        "Skew:                           0.176   Prob(JB):                        0.856\n",
        "Kurtosis:                       2.551   Cond. No.                     1.07e+03\n",
        "==============================================================================\n",
        "\n",
        "The condition number is large, 1.07e+03. This might indicate that there are\n",
        "strong multicollinearity or other numerical problems.\n",
        "                            OLS Regression Results                            \n",
        "==============================================================================\n",
        "Dep. Variable:                    AIM   R-squared:                       0.649\n",
        "Model:                            OLS   Adj. R-squared:                  0.632\n",
        "Method:                 Least Squares   F-statistic:                     38.84\n",
        "Date:                Mon, 01 Apr 2013   Prob (F-statistic):           3.51e-06\n",
        "Time:                        14:31:55   Log-Likelihood:                -101.06\n",
        "No. Observations:                  23   AIC:                             206.1\n",
        "Df Residuals:                      21   BIC:                             208.4\n",
        "Df Model:                           1                                         \n",
        "================================================================================\n",
        "                   coef    std err          t      P>|t|      [95.0% Conf. Int.]\n",
        "--------------------------------------------------------------------------------\n",
        "Intercept       54.2083      5.919      9.159      0.000        41.900    66.517\n",
        "C(dose)[T.1]    53.3371      8.558      6.232      0.000        35.539    71.135\n",
        "==============================================================================\n",
        "Omnibus:                        0.322   Durbin-Watson:                   1.888\n",
        "Prob(Omnibus):                  0.851   Jarque-Bera (JB):                0.485\n",
        "Skew:                           0.060   Prob(JB):                        0.785\n",
        "Kurtosis:                       2.299   Cond. No.                         2.57\n",
        "==============================================================================\n",
        "                            OLS Regression Results                            \n",
        "==============================================================================\n",
        "Dep. Variable:                    AIM   R-squared:                       0.695\n",
        "Model:                            OLS   Adj. R-squared:                  0.665\n",
        "Method:                 Least Squares   F-statistic:                     22.81\n",
        "Date:                Mon, 01 Apr 2013   Prob (F-statistic):           6.91e-06\n",
        "Time:                        14:31:55   Log-Likelihood:                -99.440\n",
        "No. Observations:                  23   AIC:                             204.9\n",
        "Df Residuals:                      20   BIC:                             208.3\n",
        "Df Model:                           2                                         \n",
        "================================================================================\n",
        "                   coef    std err          t      P>|t|      [95.0% Conf. Int.]\n",
        "--------------------------------------------------------------------------------\n",
        "Intercept     -200.9992    146.677     -1.370      0.186      -506.962   104.963\n",
        "C(dose)[T.1]    24.5490     18.443      1.331      0.198       -13.922    63.020\n",
        "expression      26.7504     15.363      1.741      0.097        -5.296    58.797\n",
        "==============================================================================\n",
        "Omnibus:                        0.767   Durbin-Watson:                   1.979\n",
        "Prob(Omnibus):                  0.681   Jarque-Bera (JB):                0.746\n",
        "Skew:                           0.193   Prob(JB):                        0.688\n",
        "Kurtosis:                       2.206   Cond. No.                         368.\n",
        "==============================================================================\n"
       ]
      }
     ],
     "prompt_number": 6
    },
    {
     "cell_type": "code",
     "collapsed": false,
     "input": [
      "for m in expr_models[1:]:\n",
      "    print m + \" vs. \" + expr_models[0]\n",
      "    print anova_lm( expr_model_fits[m], expr_model_fits[expr_models[0]])"
     ],
     "language": "python",
     "metadata": {},
     "outputs": [
      {
       "output_type": "stream",
       "stream": "stdout",
       "text": [
        "expression ~ AIM + C(dose) vs. expression ~ AIM*C(dose)\n",
        "   df_resid       ssr  df_diff   ss_diff         F    Pr(>F)\n",
        "0        20  1.410199        0       NaN       NaN       NaN\n",
        "1        19  1.387964        1  0.022235  0.304382  0.587579\n",
        "expression ~ C(dose) vs. expression ~ AIM*C(dose)\n",
        "   df_resid       ssr  df_diff   ss_diff         F    Pr(>F)\n",
        "0        21  1.623975        0       NaN       NaN       NaN\n",
        "1        19  1.387964        2  0.236012  1.615397  0.224951\n"
       ]
      }
     ],
     "prompt_number": 106
    },
    {
     "cell_type": "code",
     "collapsed": false,
     "input": [
      "anova_lm( aim_model_fits[\"AIM ~ C(dose)\"],  aim_model_fits[\"AIM ~ expression + C(dose)\"])"
     ],
     "language": "python",
     "metadata": {},
     "outputs": [
      {
       "html": [
        "<div style=\"max-height:1000px;max-width:1500px;overflow:auto;\">\n",
        "<table border=\"1\" class=\"dataframe\">\n",
        "  <thead>\n",
        "    <tr style=\"text-align: right;\">\n",
        "      <th></th>\n",
        "      <th>df_resid</th>\n",
        "      <th>ssr</th>\n",
        "      <th>df_diff</th>\n",
        "      <th>ss_diff</th>\n",
        "      <th>F</th>\n",
        "      <th>Pr(&gt;F)</th>\n",
        "    </tr>\n",
        "  </thead>\n",
        "  <tbody>\n",
        "    <tr>\n",
        "      <th>0</th>\n",
        "      <td> 21</td>\n",
        "      <td> 8827.956439</td>\n",
        "      <td> 0</td>\n",
        "      <td>         NaN</td>\n",
        "      <td>      NaN</td>\n",
        "      <td>      NaN</td>\n",
        "    </tr>\n",
        "    <tr>\n",
        "      <th>1</th>\n",
        "      <td> 20</td>\n",
        "      <td> 7665.864405</td>\n",
        "      <td> 1</td>\n",
        "      <td> 1162.092034</td>\n",
        "      <td> 3.031862</td>\n",
        "      <td> 0.097006</td>\n",
        "    </tr>\n",
        "  </tbody>\n",
        "</table>\n",
        "</div>"
       ],
       "output_type": "pyout",
       "prompt_number": 13,
       "text": [
        "   df_resid          ssr  df_diff      ss_diff         F    Pr(>F)\n",
        "0        21  8827.956439        0          NaN       NaN       NaN\n",
        "1        20  7665.864405        1  1162.092034  3.031862  0.097006"
       ]
      }
     ],
     "prompt_number": 13
    },
    {
     "cell_type": "code",
     "collapsed": false,
     "input": [
      "for m in aim_models[1:]:\n",
      "    print m + \" vs. \" + aim_models[0]\n",
      "    print anova_lm( aim_model_fits[m], aim_model_fits[aim_models[0]])"
     ],
     "language": "python",
     "metadata": {},
     "outputs": [
      {
       "output_type": "stream",
       "stream": "stdout",
       "text": [
        "AIM ~ expression + C(dose) vs. AIM ~ expression + C(dose) + expression:C(dose)\n",
        "   df_resid          ssr  df_diff     ss_diff       F    Pr(>F)\n",
        "0        20  7665.864405        0         NaN     NaN       NaN\n",
        "1        19  7442.510769        1  223.353636  0.5702  0.459438\n",
        "AIM ~ C(dose) vs. AIM ~ expression + C(dose) + expression:C(dose)\n",
        "   df_resid          ssr  df_diff     ss_diff         F    Pr(>F)\n",
        "0        21  8827.956439        0         NaN       NaN       NaN\n",
        "1        19  7442.510769        2  1385.44567  1.768453  0.197544\n",
        "AIM ~ expression vs. AIM ~ expression + C(dose) + expression:C(dose)\n",
        "   df_resid          ssr  df_diff     ss_diff         F    Pr(>F)\n",
        "0        21  8344.988846        0         NaN       NaN       NaN\n",
        "1        19  7442.510769        2  902.478077  1.151969  0.337124\n"
       ]
      }
     ],
     "prompt_number": 7
    },
    {
     "cell_type": "code",
     "collapsed": false,
     "input": [
      "aim_model_fits[aim_models[0]].compare_f_test( aim_model_fits[aim_models[1]] )"
     ],
     "language": "python",
     "metadata": {},
     "outputs": [
      {
       "output_type": "pyout",
       "prompt_number": 10,
       "text": [
        "(0.57019992590664825, 0.45943832358274539, 1.0)"
       ]
      }
     ],
     "prompt_number": 10
    },
    {
     "cell_type": "code",
     "collapsed": false,
     "input": [
      "figsize(30, 5)\n",
      "subplot(1, 4, 1)\n",
      "title(\"AIM ~ expression + C(dose) + expression:C(dose) \\n %s\" % probeset )\n",
      "xlabel(\"expression\")\n",
      "ylabel(\"AIMs\")\n",
      "plot( cur_gene.expression, aim_model_fits[\"AIM ~ expression + C(dose) + expression:C(dose)\"].fittedvalues, \"o\" )\n",
      "plot( cur_gene.expression, cur_gene.AIM, \"ro\" )\n",
      "\n",
      "subplot(1, 4, 2)\n",
      "title(\"AIM ~ expression + C(dose) \\n %s\" % probeset)\n",
      "xlabel(\"expression\")\n",
      "ylabel(\"AIMs\")\n",
      "plot( cur_gene.expression, aim_model_fits[\"AIM ~ expression + C(dose)\"].fittedvalues, \"o\" )\n",
      "plot( cur_gene.expression, cur_gene.AIM, \"ro\" )\n",
      "\n",
      "subplot(1, 4, 3)\n",
      "title(\"AIM ~ C(dose) \\n %s\" % probeset)\n",
      "xlabel(\"expression\")\n",
      "ylabel(\"AIMs\")\n",
      "plot( cur_gene.expression, aim_model_fits[\"AIM ~ C(dose)\"].fittedvalues, \"o\" )\n",
      "plot( cur_gene.expression, cur_gene.AIM, \"ro\" )\n",
      "\n",
      "subplot(1, 4, 4)\n",
      "xlabel(\"expression\")\n",
      "ylabel(\"AIMs\")\n",
      "title(\"AIM ~ C(expression) \\n %s\" % probeset)\n",
      "plot( cur_gene.expression, aim_model_fits[\"AIM ~ expression\"].fittedvalues, \"o\" )\n",
      "plot( cur_gene.expression, cur_gene.AIM, \"ro\" )"
     ],
     "language": "python",
     "metadata": {},
     "outputs": [
      {
       "output_type": "pyout",
       "prompt_number": 126,
       "text": [
        "[<matplotlib.lines.Line2D at 0xaba8890>]"
       ]
      },
      {
       "output_type": "display_data",
       "png": "[encoded data removed]",
       "text": [
        "<matplotlib.figure.Figure at 0x6e99410>"
       ]
      }
     ],
     "prompt_number": 126
    },
    {
     "cell_type": "code",
     "collapsed": false,
     "input": [
      "print anova_lm( aim_model_fits['AIM ~ expression + C(dose)'],\n",
      "                aim_model_fits[\"AIM ~ expression + C(dose) + expression:C(dose)\"], \n",
      "               )"
     ],
     "language": "python",
     "metadata": {},
     "outputs": [
      {
       "output_type": "stream",
       "stream": "stdout",
       "text": [
        "   df_resid          ssr  df_diff     ss_diff       F    Pr(>F)\n",
        "0        20  7665.864405        0         NaN     NaN       NaN\n",
        "1        19  7442.510769        1  223.353636  0.5702  0.459438\n"
       ]
      }
     ],
     "prompt_number": 99
    },
    {
     "cell_type": "code",
     "collapsed": false,
     "input": [
      "print anova_lm( aim_model_fits['AIM ~ C(dose)'],\n",
      "                aim_model_fits[\"AIM ~ expression + C(dose)\"], \n",
      "               )"
     ],
     "language": "python",
     "metadata": {},
     "outputs": [
      {
       "output_type": "stream",
       "stream": "stdout",
       "text": [
        "   df_resid          ssr  df_diff      ss_diff         F    Pr(>F)\n",
        "0        21  8827.956439        0          NaN       NaN       NaN\n",
        "1        20  7665.864405        1  1162.092034  3.031862  0.097006\n"
       ]
      }
     ],
     "prompt_number": 100
    },
    {
     "cell_type": "code",
     "collapsed": false,
     "input": [
      "print anova_lm( aim_model_fits['AIM ~ C(dose)'],\n",
      "                aim_model_fits[\"AIM ~ expression + C(dose) + expression:C(dose)\"], \n",
      "               )"
     ],
     "language": "python",
     "metadata": {},
     "outputs": [
      {
       "output_type": "stream",
       "stream": "stdout",
       "text": [
        "   df_resid          ssr  df_diff     ss_diff         F    Pr(>F)\n",
        "0        21  8827.956439        0         NaN       NaN       NaN\n",
        "1        19  7442.510769        2  1385.44567  1.768453  0.197544\n"
       ]
      }
     ],
     "prompt_number": 113
    },
    {
     "cell_type": "code",
     "collapsed": false,
     "input": [
      "print aim_model_fits[\"AIM ~ expression + C(dose)\"].summary()"
     ],
     "language": "python",
     "metadata": {},
     "outputs": [
      {
       "output_type": "stream",
       "stream": "stdout",
       "text": [
        "                            OLS Regression Results                            \n",
        "==============================================================================\n",
        "Dep. Variable:                    AIM   R-squared:                       0.695\n",
        "Model:                            OLS   Adj. R-squared:                  0.665\n",
        "Method:                 Least Squares   F-statistic:                     22.81\n",
        "Date:                Sun, 10 Feb 2013   Prob (F-statistic):           6.91e-06\n",
        "Time:                        19:21:21   Log-Likelihood:                -99.440\n",
        "No. Observations:                  23   AIC:                             204.9\n",
        "Df Residuals:                      20   BIC:                             208.3\n",
        "Df Model:                           2                                         \n",
        "================================================================================\n",
        "                   coef    std err          t      P>|t|      [95.0% Conf. Int.]\n",
        "--------------------------------------------------------------------------------\n",
        "Intercept     -200.9992    146.677     -1.370      0.186      -506.962   104.963\n",
        "C(dose)[T.1]    24.5490     18.443      1.331      0.198       -13.922    63.020\n",
        "expression      26.7504     15.363      1.741      0.097        -5.296    58.797\n",
        "==============================================================================\n",
        "Omnibus:                        0.767   Durbin-Watson:                   1.979\n",
        "Prob(Omnibus):                  0.681   Jarque-Bera (JB):                0.746\n",
        "Skew:                           0.193   Prob(JB):                        0.688\n",
        "Kurtosis:                       2.206   Cond. No.                         368.\n",
        "==============================================================================\n"
       ]
      }
     ],
     "prompt_number": 103
    },
    {
     "cell_type": "code",
     "collapsed": false,
     "input": [
      "aim_models"
     ],
     "language": "python",
     "metadata": {},
     "outputs": [
      {
       "output_type": "pyout",
       "prompt_number": 59,
       "text": [
        "['AIM ~ expression*C(dose)',\n",
        " 'AIM ~ expression + C(dose)',\n",
        " 'AIM ~ C(dose)',\n",
        " 'AIM ~ expression']"
       ]
      }
     ],
     "prompt_number": 59
    },
    {
     "cell_type": "code",
     "collapsed": false,
     "input": [
      "aim_model_fits[aim_models[0]].compare_f_test(aim_model_fits[aim_models[1]])"
     ],
     "language": "python",
     "metadata": {},
     "outputs": [
      {
       "output_type": "pyout",
       "prompt_number": 81,
       "text": [
        "(0.57019992590664825, 0.45943832358274539, 1.0)"
       ]
      }
     ],
     "prompt_number": 81
    },
    {
     "cell_type": "code",
     "collapsed": false,
     "input": [
      "anova"
     ],
     "language": "python",
     "metadata": {},
     "outputs": []
    },
    {
     "cell_type": "code",
     "collapsed": false,
     "input": [
      "help(anova_lm)"
     ],
     "language": "python",
     "metadata": {},
     "outputs": [
      {
       "output_type": "stream",
       "stream": "stdout",
       "text": [
        "Help on function anova_lm in module statsmodels.stats.anova:\n",
        "\n",
        "anova_lm(*args, **kwargs)\n",
        "    ANOVA table for one or more fitted linear models.\n",
        "    \n",
        "    Parmeters\n",
        "    ---------\n",
        "    args : fitted linear model results instance\n",
        "        One or more fitted linear models\n",
        "    \n",
        "    **kwargs**\n",
        "    \n",
        "    scale : float\n",
        "        Estimate of variance, If None, will be estimated from the largest\n",
        "        model. Default is None.\n",
        "    test : str {\"F\", \"Chisq\", \"Cp\"} or None\n",
        "        Test statistics to provide. Default is \"F\".\n",
        "    typ : str or int {\"I\",\"II\",\"III\"} or {1,2,3}\n",
        "        The type of ANOVA test to perform. See notes.\n",
        "    robust : {None, \"hc0\", \"hc1\", \"hc2\", \"hc3\"}\n",
        "        Use heteroscedasticity-corrected coefficient covariance matrix.\n",
        "        If robust covariance is desired, it is recommended to use `hc3`.\n",
        "    \n",
        "    Returns\n",
        "    -------\n",
        "    anova : DataFrame\n",
        "    A DataFrame containing.\n",
        "    \n",
        "    Notes\n",
        "    -----\n",
        "    Model statistics are given in the order of args. Models must have\n",
        "    a formula_str attribute.\n",
        "    \n",
        "    See Also\n",
        "    --------\n",
        "    model_results.compare_f_test, model_results.compare_lm_test\n",
        "\n"
       ]
      }
     ],
     "prompt_number": 78
    },
    {
     "cell_type": "code",
     "collapsed": false,
     "input": [
      "aim_model_fits[aim_models[0]].compare_anov(aim_model_fits[aim_models[1]])"
     ],
     "language": "python",
     "metadata": {},
     "outputs": [
      {
       "ename": "AttributeError",
       "evalue": "'OLSResults' object has no attribute 'compare_anova'",
       "output_type": "pyerr",
       "traceback": [
        "\u001b[1;31m---------------------------------------------------------------------------\u001b[0m\n\u001b[1;31mAttributeError\u001b[0m                            Traceback (most recent call last)",
        "\u001b[1;32m<ipython-input-76-69b0af5aa126>\u001b[0m in \u001b[0;36m<module>\u001b[1;34m()\u001b[0m\n\u001b[1;32m----> 1\u001b[1;33m \u001b[0maim_model_fits\u001b[0m\u001b[1;33m[\u001b[0m\u001b[0maim_models\u001b[0m\u001b[1;33m[\u001b[0m\u001b[1;36m0\u001b[0m\u001b[1;33m]\u001b[0m\u001b[1;33m]\u001b[0m\u001b[1;33m.\u001b[0m\u001b[0mcompare_anova\u001b[0m\u001b[1;33m(\u001b[0m\u001b[0maim_model_fits\u001b[0m\u001b[1;33m[\u001b[0m\u001b[0maim_models\u001b[0m\u001b[1;33m[\u001b[0m\u001b[1;36m1\u001b[0m\u001b[1;33m]\u001b[0m\u001b[1;33m]\u001b[0m\u001b[1;33m)\u001b[0m\u001b[1;33m\u001b[0m\u001b[0m\n\u001b[0m",
        "\u001b[1;32m/usr/local/lib/python2.7/site-packages/statsmodels-0.5.0-py2.7-linux-x86_64.egg/statsmodels/base/wrapper.pyc\u001b[0m in \u001b[0;36m__getattribute__\u001b[1;34m(self, attr)\u001b[0m\n\u001b[0;32m     33\u001b[0m             \u001b[1;32mpass\u001b[0m\u001b[1;33m\u001b[0m\u001b[0m\n\u001b[0;32m     34\u001b[0m \u001b[1;33m\u001b[0m\u001b[0m\n\u001b[1;32m---> 35\u001b[1;33m         \u001b[0mobj\u001b[0m \u001b[1;33m=\u001b[0m \u001b[0mgetattr\u001b[0m\u001b[1;33m(\u001b[0m\u001b[0mresults\u001b[0m\u001b[1;33m,\u001b[0m \u001b[0mattr\u001b[0m\u001b[1;33m)\u001b[0m\u001b[1;33m\u001b[0m\u001b[0m\n\u001b[0m\u001b[0;32m     36\u001b[0m         \u001b[0mdata\u001b[0m \u001b[1;33m=\u001b[0m \u001b[0mresults\u001b[0m\u001b[1;33m.\u001b[0m\u001b[0mmodel\u001b[0m\u001b[1;33m.\u001b[0m\u001b[0mdata\u001b[0m\u001b[1;33m\u001b[0m\u001b[0m\n\u001b[0;32m     37\u001b[0m         \u001b[0mhow\u001b[0m \u001b[1;33m=\u001b[0m \u001b[0mself\u001b[0m\u001b[1;33m.\u001b[0m\u001b[0m_wrap_attrs\u001b[0m\u001b[1;33m.\u001b[0m\u001b[0mget\u001b[0m\u001b[1;33m(\u001b[0m\u001b[0mattr\u001b[0m\u001b[1;33m)\u001b[0m\u001b[1;33m\u001b[0m\u001b[0m\n",
        "\u001b[1;31mAttributeError\u001b[0m: 'OLSResults' object has no attribute 'compare_anova'"
       ]
      }
     ],
     "prompt_number": 76
    },
    {
     "cell_type": "code",
     "collapsed": false,
     "input": [
      "aim_model_fits[aim_models[2]].summary()"
     ],
     "language": "python",
     "metadata": {},
     "outputs": [
      {
       "html": [
        "<table class=\"simpletable\">\n",
        "<caption>OLS Regression Results</caption>\n",
        "<tr>\n",
        "  <th>Dep. Variable:</th>           <td>AIM</td>       <th>  R-squared:         </th> <td>   0.649</td>\n",
        "</tr>\n",
        "<tr>\n",
        "  <th>Model:</th>                   <td>OLS</td>       <th>  Adj. R-squared:    </th> <td>   0.632</td>\n",
        "</tr>\n",
        "<tr>\n",
        "  <th>Method:</th>             <td>Least Squares</td>  <th>  F-statistic:       </th> <td>   38.84</td>\n",
        "</tr>\n",
        "<tr>\n",
        "  <th>Date:</th>             <td>Sun, 10 Feb 2013</td> <th>  Prob (F-statistic):</th> <td>3.51e-06</td>\n",
        "</tr>\n",
        "<tr>\n",
        "  <th>Time:</th>                 <td>18:15:55</td>     <th>  Log-Likelihood:    </th> <td> -101.06</td>\n",
        "</tr>\n",
        "<tr>\n",
        "  <th>No. Observations:</th>      <td>    23</td>      <th>  AIC:               </th> <td>   206.1</td>\n",
        "</tr>\n",
        "<tr>\n",
        "  <th>Df Residuals:</th>          <td>    21</td>      <th>  BIC:               </th> <td>   208.4</td>\n",
        "</tr>\n",
        "<tr>\n",
        "  <th>Df Model:</th>              <td>     1</td>      <th>                     </th>     <td> </td>   \n",
        "</tr>\n",
        "</table>\n",
        "<table class=\"simpletable\">\n",
        "<tr>\n",
        "        <td></td>          <th>coef</th>     <th>std err</th>      <th>t</th>      <th>P>|t|</th> <th>[95.0% Conf. Int.]</th> \n",
        "</tr>\n",
        "<tr>\n",
        "  <th>Intercept</th>    <td>   54.2083</td> <td>    5.919</td> <td>    9.159</td> <td> 0.000</td> <td>   41.900    66.517</td>\n",
        "</tr>\n",
        "<tr>\n",
        "  <th>C(dose)[T.1]</th> <td>   53.3371</td> <td>    8.558</td> <td>    6.232</td> <td> 0.000</td> <td>   35.539    71.135</td>\n",
        "</tr>\n",
        "</table>\n",
        "<table class=\"simpletable\">\n",
        "<tr>\n",
        "  <th>Omnibus:</th>       <td> 0.322</td> <th>  Durbin-Watson:     </th> <td>   1.888</td>\n",
        "</tr>\n",
        "<tr>\n",
        "  <th>Prob(Omnibus):</th> <td> 0.851</td> <th>  Jarque-Bera (JB):  </th> <td>   0.485</td>\n",
        "</tr>\n",
        "<tr>\n",
        "  <th>Skew:</th>          <td> 0.060</td> <th>  Prob(JB):          </th> <td>   0.785</td>\n",
        "</tr>\n",
        "<tr>\n",
        "  <th>Kurtosis:</th>      <td> 2.299</td> <th>  Cond. No.          </th> <td>    2.57</td>\n",
        "</tr>\n",
        "</table>"
       ],
       "output_type": "pyout",
       "prompt_number": 61,
       "text": [
        "<class 'statsmodels.iolib.summary.Summary'>\n",
        "\"\"\"\n",
        "                            OLS Regression Results                            \n",
        "==============================================================================\n",
        "Dep. Variable:                    AIM   R-squared:                       0.649\n",
        "Model:                            OLS   Adj. R-squared:                  0.632\n",
        "Method:                 Least Squares   F-statistic:                     38.84\n",
        "Date:                Sun, 10 Feb 2013   Prob (F-statistic):           3.51e-06\n",
        "Time:                        18:15:55   Log-Likelihood:                -101.06\n",
        "No. Observations:                  23   AIC:                             206.1\n",
        "Df Residuals:                      21   BIC:                             208.4\n",
        "Df Model:                           1                                         \n",
        "================================================================================\n",
        "                   coef    std err          t      P>|t|      [95.0% Conf. Int.]\n",
        "--------------------------------------------------------------------------------\n",
        "Intercept       54.2083      5.919      9.159      0.000        41.900    66.517\n",
        "C(dose)[T.1]    53.3371      8.558      6.232      0.000        35.539    71.135\n",
        "==============================================================================\n",
        "Omnibus:                        0.322   Durbin-Watson:                   1.888\n",
        "Prob(Omnibus):                  0.851   Jarque-Bera (JB):                0.485\n",
        "Skew:                           0.060   Prob(JB):                        0.785\n",
        "Kurtosis:                       2.299   Cond. No.                         2.57\n",
        "==============================================================================\n",
        "\"\"\""
       ]
      }
     ],
     "prompt_number": 61
    },
    {
     "cell_type": "code",
     "collapsed": false,
     "input": [
      "aim_model_fits[aim_models[3]].summary()"
     ],
     "language": "python",
     "metadata": {},
     "outputs": [
      {
       "html": [
        "<table class=\"simpletable\">\n",
        "<caption>OLS Regression Results</caption>\n",
        "<tr>\n",
        "  <th>Dep. Variable:</th>           <td>AIM</td>       <th>  R-squared:         </th> <td>   0.668</td>\n",
        "</tr>\n",
        "<tr>\n",
        "  <th>Model:</th>                   <td>OLS</td>       <th>  Adj. R-squared:    </th> <td>   0.652</td>\n",
        "</tr>\n",
        "<tr>\n",
        "  <th>Method:</th>             <td>Least Squares</td>  <th>  F-statistic:       </th> <td>   42.30</td>\n",
        "</tr>\n",
        "<tr>\n",
        "  <th>Date:</th>             <td>Sun, 10 Feb 2013</td> <th>  Prob (F-statistic):</th> <td>1.92e-06</td>\n",
        "</tr>\n",
        "<tr>\n",
        "  <th>Time:</th>                 <td>18:16:06</td>     <th>  Log-Likelihood:    </th> <td> -100.42</td>\n",
        "</tr>\n",
        "<tr>\n",
        "  <th>No. Observations:</th>      <td>    23</td>      <th>  AIC:               </th> <td>   204.8</td>\n",
        "</tr>\n",
        "<tr>\n",
        "  <th>Df Residuals:</th>          <td>    21</td>      <th>  BIC:               </th> <td>   207.1</td>\n",
        "</tr>\n",
        "<tr>\n",
        "  <th>Df Model:</th>              <td>     1</td>      <th>                     </th>     <td> </td>   \n",
        "</tr>\n",
        "</table>\n",
        "<table class=\"simpletable\">\n",
        "<tr>\n",
        "       <td></td>         <th>coef</th>     <th>std err</th>      <th>t</th>      <th>P>|t|</th> <th>[95.0% Conf. Int.]</th> \n",
        "</tr>\n",
        "<tr>\n",
        "  <th>Intercept</th>  <td> -373.5903</td> <td>   69.821</td> <td>   -5.351</td> <td> 0.000</td> <td> -518.790  -228.390</td>\n",
        "</tr>\n",
        "<tr>\n",
        "  <th>expression</th> <td>   45.0828</td> <td>    6.932</td> <td>    6.504</td> <td> 0.000</td> <td>   30.668    59.498</td>\n",
        "</tr>\n",
        "</table>\n",
        "<table class=\"simpletable\">\n",
        "<tr>\n",
        "  <th>Omnibus:</th>       <td> 1.466</td> <th>  Durbin-Watson:     </th> <td>   2.067</td>\n",
        "</tr>\n",
        "<tr>\n",
        "  <th>Prob(Omnibus):</th> <td> 0.480</td> <th>  Jarque-Bera (JB):  </th> <td>   1.083</td>\n",
        "</tr>\n",
        "<tr>\n",
        "  <th>Skew:</th>          <td> 0.274</td> <th>  Prob(JB):          </th> <td>   0.582</td>\n",
        "</tr>\n",
        "<tr>\n",
        "  <th>Kurtosis:</th>      <td> 2.090</td> <th>  Cond. No.          </th> <td>    171.</td>\n",
        "</tr>\n",
        "</table>"
       ],
       "output_type": "pyout",
       "prompt_number": 62,
       "text": [
        "<class 'statsmodels.iolib.summary.Summary'>\n",
        "\"\"\"\n",
        "                            OLS Regression Results                            \n",
        "==============================================================================\n",
        "Dep. Variable:                    AIM   R-squared:                       0.668\n",
        "Model:                            OLS   Adj. R-squared:                  0.652\n",
        "Method:                 Least Squares   F-statistic:                     42.30\n",
        "Date:                Sun, 10 Feb 2013   Prob (F-statistic):           1.92e-06\n",
        "Time:                        18:16:06   Log-Likelihood:                -100.42\n",
        "No. Observations:                  23   AIC:                             204.8\n",
        "Df Residuals:                      21   BIC:                             207.1\n",
        "Df Model:                           1                                         \n",
        "==============================================================================\n",
        "                 coef    std err          t      P>|t|      [95.0% Conf. Int.]\n",
        "------------------------------------------------------------------------------\n",
        "Intercept   -373.5903     69.821     -5.351      0.000      -518.790  -228.390\n",
        "expression    45.0828      6.932      6.504      0.000        30.668    59.498\n",
        "==============================================================================\n",
        "Omnibus:                        1.466   Durbin-Watson:                   2.067\n",
        "Prob(Omnibus):                  0.480   Jarque-Bera (JB):                1.083\n",
        "Skew:                           0.274   Prob(JB):                        0.582\n",
        "Kurtosis:                       2.090   Cond. No.                         171.\n",
        "==============================================================================\n",
        "\"\"\""
       ]
      }
     ],
     "prompt_number": 62
    },
    {
     "cell_type": "code",
     "collapsed": false,
     "input": [
      "aim_model_fits[aim_models[0]].summary()"
     ],
     "language": "python",
     "metadata": {},
     "outputs": [
      {
       "html": [
        "<table class=\"simpletable\">\n",
        "<caption>OLS Regression Results</caption>\n",
        "<tr>\n",
        "  <th>Dep. Variable:</th>           <td>AIM</td>       <th>  R-squared:         </th> <td>   0.704</td>\n",
        "</tr>\n",
        "<tr>\n",
        "  <th>Model:</th>                   <td>OLS</td>       <th>  Adj. R-squared:    </th> <td>   0.657</td>\n",
        "</tr>\n",
        "<tr>\n",
        "  <th>Method:</th>             <td>Least Squares</td>  <th>  F-statistic:       </th> <td>   15.07</td>\n",
        "</tr>\n",
        "<tr>\n",
        "  <th>Date:</th>             <td>Sun, 10 Feb 2013</td> <th>  Prob (F-statistic):</th> <td>2.92e-05</td>\n",
        "</tr>\n",
        "<tr>\n",
        "  <th>Time:</th>                 <td>18:24:33</td>     <th>  Log-Likelihood:    </th> <td> -99.099</td>\n",
        "</tr>\n",
        "<tr>\n",
        "  <th>No. Observations:</th>      <td>    23</td>      <th>  AIC:               </th> <td>   206.2</td>\n",
        "</tr>\n",
        "<tr>\n",
        "  <th>Df Residuals:</th>          <td>    19</td>      <th>  BIC:               </th> <td>   210.7</td>\n",
        "</tr>\n",
        "<tr>\n",
        "  <th>Df Model:</th>              <td>     3</td>      <th>                     </th>     <td> </td>   \n",
        "</tr>\n",
        "</table>\n",
        "<table class=\"simpletable\">\n",
        "<tr>\n",
        "             <td></td>                <th>coef</th>     <th>std err</th>      <th>t</th>      <th>P>|t|</th> <th>[95.0% Conf. Int.]</th> \n",
        "</tr>\n",
        "<tr>\n",
        "  <th>Intercept</th>               <td> -133.9603</td> <td>  172.825</td> <td>   -0.775</td> <td> 0.448</td> <td> -495.687   227.766</td>\n",
        "</tr>\n",
        "<tr>\n",
        "  <th>C(dose)[T.1]</th>            <td> -250.2828</td> <td>  364.437</td> <td>   -0.687</td> <td> 0.501</td> <td>-1013.058   512.493</td>\n",
        "</tr>\n",
        "<tr>\n",
        "  <th>expression</th>              <td>   19.7235</td> <td>   18.105</td> <td>    1.089</td> <td> 0.290</td> <td>  -18.171    57.618</td>\n",
        "</tr>\n",
        "<tr>\n",
        "  <th>expression:C(dose)[T.1]</th> <td>   26.5996</td> <td>   35.226</td> <td>    0.755</td> <td> 0.459</td> <td>  -47.129   100.328</td>\n",
        "</tr>\n",
        "</table>\n",
        "<table class=\"simpletable\">\n",
        "<tr>\n",
        "  <th>Omnibus:</th>       <td> 0.179</td> <th>  Durbin-Watson:     </th> <td>   2.168</td>\n",
        "</tr>\n",
        "<tr>\n",
        "  <th>Prob(Omnibus):</th> <td> 0.914</td> <th>  Jarque-Bera (JB):  </th> <td>   0.312</td>\n",
        "</tr>\n",
        "<tr>\n",
        "  <th>Skew:</th>          <td> 0.176</td> <th>  Prob(JB):          </th> <td>   0.856</td>\n",
        "</tr>\n",
        "<tr>\n",
        "  <th>Kurtosis:</th>      <td> 2.551</td> <th>  Cond. No.          </th> <td>1.07e+03</td>\n",
        "</tr>\n",
        "</table>"
       ],
       "output_type": "pyout",
       "prompt_number": 69,
       "text": [
        "<class 'statsmodels.iolib.summary.Summary'>\n",
        "\"\"\"\n",
        "                            OLS Regression Results                            \n",
        "==============================================================================\n",
        "Dep. Variable:                    AIM   R-squared:                       0.704\n",
        "Model:                            OLS   Adj. R-squared:                  0.657\n",
        "Method:                 Least Squares   F-statistic:                     15.07\n",
        "Date:                Sun, 10 Feb 2013   Prob (F-statistic):           2.92e-05\n",
        "Time:                        18:24:33   Log-Likelihood:                -99.099\n",
        "No. Observations:                  23   AIC:                             206.2\n",
        "Df Residuals:                      19   BIC:                             210.7\n",
        "Df Model:                           3                                         \n",
        "===========================================================================================\n",
        "                              coef    std err          t      P>|t|      [95.0% Conf. Int.]\n",
        "-------------------------------------------------------------------------------------------\n",
        "Intercept                -133.9603    172.825     -0.775      0.448      -495.687   227.766\n",
        "C(dose)[T.1]             -250.2828    364.437     -0.687      0.501     -1013.058   512.493\n",
        "expression                 19.7235     18.105      1.089      0.290       -18.171    57.618\n",
        "expression:C(dose)[T.1]    26.5996     35.226      0.755      0.459       -47.129   100.328\n",
        "==============================================================================\n",
        "Omnibus:                        0.179   Durbin-Watson:                   2.168\n",
        "Prob(Omnibus):                  0.914   Jarque-Bera (JB):                0.312\n",
        "Skew:                           0.176   Prob(JB):                        0.856\n",
        "Kurtosis:                       2.551   Cond. No.                     1.07e+03\n",
        "==============================================================================\n",
        "\n",
        "The condition number is large, 1.07e+03. This might indicate that there are\n",
        "strong multicollinearity or other numerical problems.\n",
        "\"\"\""
       ]
      }
     ],
     "prompt_number": 69
    },
    {
     "cell_type": "code",
     "collapsed": false,
     "input": [
      "def getModelComparisons(celltype_subset):\n",
      "    mods = {}\n",
      "    for probeset in pd_all.index:\n",
      "        cur_gene = pandas.DataFrame( { \"expression\" : pd_all.ix[probeset, celltype_subset.filenames],\n",
      "                                       \"dose\" : [int(i) for i in celltype_subset[\"DrugTreat\"] == \"Chronic high levodopa\"], \n",
      "                                       \"AIM\" : list(celltype_subset[\"totalAIM\"].fillna(0)) } )\n",
      "        m1 = \"AIM ~ expression + C(dose)\"\n",
      "        m2 = \"AIM ~ C(dose)\"\n",
      "        \n",
      "        m1_fit = ols(m1, cur_gene).fit()\n",
      "        m2_fit = ols(m2, cur_gene).fit()\n",
      "        \n",
      "        mods[probeset] = {\"m1\" : m1_fit, \"m2\" : m2_fit }\n",
      "\n",
      "    ps = []\n",
      "    for k in mods.keys():\n",
      "        g = anova_lm(mods[k][\"m2\"], mods[k][\"m1\"]) \n",
      "        ps.append( ( k, g.ix[1,\"Pr(>F)\"])  )\n",
      "    ps = pandas.DataFrame( ps, columns=[\"probeset\", \"pval\"])\n",
      "    ps[\"bh\"] = multicomp.multipletests(ps.pval, method=\"fdr_bh\")[1]\n",
      "    ps[\"bonf\"] = multicomp.multipletests(ps.pval, method=\"bonferroni\")[1]\n",
      "    ps = ps.sort_index(by=\"pval\", ascending=True)\n",
      "    return ps"
     ],
     "language": "python",
     "metadata": {},
     "outputs": [],
     "prompt_number": 43
    },
    {
     "cell_type": "code",
     "collapsed": false,
     "input": [
      "ps_cp101 = getModelComparisons(ss_cp101_allchronic)"
     ],
     "language": "python",
     "metadata": {},
     "outputs": [],
     "prompt_number": 44
    },
    {
     "cell_type": "code",
     "collapsed": false,
     "input": [
      "ps_cp73 = getModelComparisons(ss_cp73_allchronic)"
     ],
     "language": "python",
     "metadata": {},
     "outputs": [],
     "prompt_number": 47
    },
    {
     "cell_type": "code",
     "collapsed": false,
     "input": [
      "figsize(10,5)\n",
      "title(\"CP101 : histogram of b-h adjusted p values for F-test, \\n comparing linear model (c) to model (b) over all probesets\")\n",
      "xlabel(\"adjusted p-value\")\n",
      "ylabel(\"log # of probesets\")\n",
      "y, binEdges = np.histogram(ps_cp101[\"bh\"], 50)\n",
      "bar( binEdges[0:-1], y, width=binEdges[1]-binEdges[0], log=True )\n",
      "#gca().set_yscale('log')"
     ],
     "language": "python",
     "metadata": {},
     "outputs": [
      {
       "output_type": "pyout",
       "prompt_number": 69,
       "text": [
        "<Container object of 50 artists>"
       ]
      },
      {
       "output_type": "display_data",
       "png": "[encoded data removed]",
       "text": [
        "<matplotlib.figure.Figure at 0x32573f410>"
       ]
      }
     ],
     "prompt_number": 69
    },
    {
     "cell_type": "code",
     "collapsed": false,
     "input": [
      "figsize(10,5)\n",
      "title(\"CP73 : histogram of b-h adjusted p values for F-test, \\n comparing linear model (c) to model (b) over all probesets\")\n",
      "xlabel(\"adjusted p-value\")\n",
      "ylabel(\"log # of probesets\")\n",
      "y, binEdges = np.histogram(ps_cp73[\"bh\"], 50)\n",
      "bar( binEdges[0:-1], y, width=binEdges[1]-binEdges[0], log=True )\n",
      "#gca().set_yscale('log')"
     ],
     "language": "python",
     "metadata": {},
     "outputs": [
      {
       "output_type": "pyout",
       "prompt_number": 70,
       "text": [
        "<Container object of 50 artists>"
       ]
      },
      {
       "output_type": "display_data",
       "png": "[encoded data removed]",
       "text": [
        "<matplotlib.figure.Figure at 0x32514a510>"
       ]
      }
     ],
     "prompt_number": 70
    },
    {
     "cell_type": "code",
     "collapsed": false,
     "input": [
      "ps_cp73_info = ps_cp73.merge(mo430info, how='left', left_on=\"probeset\", right_index=True)"
     ],
     "language": "python",
     "metadata": {},
     "outputs": [],
     "prompt_number": 78
    },
    {
     "cell_type": "code",
     "collapsed": false,
     "input": [
      "ps_cp101_info = ps_cp101.merge(mo430info, how='left', left_on=\"probeset\", right_index=True)"
     ],
     "language": "python",
     "metadata": {},
     "outputs": [],
     "prompt_number": 77
    },
    {
     "cell_type": "code",
     "collapsed": false,
     "input": [
      "cPickle.dump(ps_cp73_info, open(\"/data/adrian/Dropbox/Projects/Broad/PD_mouse/results/apr3/cp73_model_comp_stats.pickle\", \"wb\"))"
     ],
     "language": "python",
     "metadata": {},
     "outputs": [],
     "prompt_number": 80
    },
    {
     "cell_type": "code",
     "collapsed": false,
     "input": [
      "cPickle.dump(ps_cp101_info, open(\"/data/adrian/Dropbox/Projects/Broad/PD_mouse/results/apr3/cp101_model_comp_stats.pickle\", \"wb\"))"
     ],
     "language": "python",
     "metadata": {},
     "outputs": [],
     "prompt_number": 81
    },
    {
     "cell_type": "code",
     "collapsed": false,
     "input": [
      "ps_cp101_info.ix[2,:]"
     ],
     "language": "python",
     "metadata": {},
     "outputs": [
      {
       "ename": "NameError",
       "evalue": "name 'ps_cp101_info' is not defined",
       "output_type": "pyerr",
       "traceback": [
        "\u001b[0;31m---------------------------------------------------------------------------\u001b[0m\n\u001b[0;31mNameError\u001b[0m                                 Traceback (most recent call last)",
        "\u001b[0;32m<ipython-input-3-ff58253dd85b>\u001b[0m in \u001b[0;36m<module>\u001b[0;34m()\u001b[0m\n\u001b[0;32m----> 1\u001b[0;31m \u001b[0mps_cp101_info\u001b[0m\u001b[0;34m.\u001b[0m\u001b[0mix\u001b[0m\u001b[0;34m[\u001b[0m\u001b[0;36m2\u001b[0m\u001b[0;34m,\u001b[0m\u001b[0;34m:\u001b[0m\u001b[0;34m]\u001b[0m\u001b[0;34m\u001b[0m\u001b[0m\n\u001b[0m",
        "\u001b[0;31mNameError\u001b[0m: name 'ps_cp101_info' is not defined"
       ]
      }
     ],
     "prompt_number": 3
    },
    {
     "cell_type": "code",
     "collapsed": false,
     "input": [
      "ps_cp101_info = cPickle.load(open(\"/data/adrian/Dropbox/Projects/Broad/PD_mouse/results/apr3/cp101_model_comp_stats.pickle\"))"
     ],
     "language": "python",
     "metadata": {},
     "outputs": [],
     "prompt_number": 5
    },
    {
     "cell_type": "code",
     "collapsed": false,
     "input": [
      "ps_cp101_info.to_records()[18]"
     ],
     "language": "python",
     "metadata": {},
     "outputs": [
      {
       "output_type": "pyout",
       "prompt_number": 29,
       "text": [
        "(21875, '1446221_at', 0.000333806672683613, 0.7430284090808049, 1.0, nan, nan, nan)"
       ]
      }
     ],
     "prompt_number": 29
    },
    {
     "cell_type": "code",
     "collapsed": false,
     "input": [
      "type(ps_cp101_info.to_records()[18][1]) is str"
     ],
     "language": "python",
     "metadata": {},
     "outputs": [
      {
       "output_type": "pyout",
       "prompt_number": 32,
       "text": [
        "True"
       ]
      }
     ],
     "prompt_number": 32
    },
    {
     "cell_type": "code",
     "collapsed": false,
     "input": [
      "ps_cp101_info.probe_id.apply(lambda x: \"<a href='/probeset/%s'>\" % str(x) + str(x) + \"</a>\")"
     ],
     "language": "python",
     "metadata": {},
     "outputs": [
      {
       "output_type": "pyout",
       "prompt_number": 38,
       "text": [
        "17178        <a href='/probeset/1453220_at'>1453220_at</a>\n",
        "29070        <a href='/probeset/1432254_at'>1432254_at</a>\n",
        "37646        <a href='/probeset/1425463_at'>1425463_at</a>\n",
        "36746        <a href='/probeset/1438492_at'>1438492_at</a>\n",
        "18538    <a href='/probeset/1448540_a_at'>1448540_a_at</a>\n",
        "23541        <a href='/probeset/1418252_at'>1418252_at</a>\n",
        "29362        <a href='/probeset/1445877_at'>1445877_at</a>\n",
        "84           <a href='/probeset/1417016_at'>1417016_at</a>\n",
        "23674    <a href='/probeset/1419891_s_at'>1419891_s_at</a>\n",
        "22979        <a href='/probeset/1427582_at'>1427582_at</a>\n",
        "34297        <a href='/probeset/1424360_at'>1424360_at</a>\n",
        "15802    <a href='/probeset/1447624_s_at'>1447624_s_at</a>\n",
        "13283    <a href='/probeset/1430526_a_at'>1430526_a_at</a>\n",
        "44407    <a href='/probeset/1453341_a_at'>1453341_a_at</a>\n",
        "30176        <a href='/probeset/1436001_at'>1436001_at</a>\n",
        "...\n",
        "24278        <a href='/probeset/1457236_at'>1457236_at</a>\n",
        "12981        <a href='/probeset/1439238_at'>1439238_at</a>\n",
        "18890        <a href='/probeset/1432791_at'>1432791_at</a>\n",
        "34219    <a href='/probeset/1416024_x_at'>1416024_x_at</a>\n",
        "3530         <a href='/probeset/1418962_at'>1418962_at</a>\n",
        "16045    <a href='/probeset/1451168_a_at'>1451168_a_at</a>\n",
        "26491        <a href='/probeset/1429013_at'>1429013_at</a>\n",
        "11950        <a href='/probeset/1451607_at'>1451607_at</a>\n",
        "39613        <a href='/probeset/1430556_at'>1430556_at</a>\n",
        "10310        <a href='/probeset/1443030_at'>1443030_at</a>\n",
        "2556         <a href='/probeset/1460214_at'>1460214_at</a>\n",
        "10414    <a href='/probeset/1421586_a_at'>1421586_a_at</a>\n",
        "18297        <a href='/probeset/1430081_at'>1430081_at</a>\n",
        "7201         <a href='/probeset/1428885_at'>1428885_at</a>\n",
        "21856        <a href='/probeset/1456392_at'>1456392_at</a>\n",
        "Name: probe_id, Length: 45101"
       ]
      }
     ],
     "prompt_number": 38
    },
    {
     "cell_type": "code",
     "collapsed": false,
     "input": [],
     "language": "python",
     "metadata": {},
     "outputs": []
    },
    {
     "cell_type": "code",
     "collapsed": false,
     "input": [
      "fimodel = \"AIM ~ expression\"\n",
      "cur_gene = pandas.DataFrame( { \"expression\" : pd_all.ix[\"1422507_at\", ss_cp73_allchronic.filenames],\n",
      "                               \"dose\" : [int(i) for i in ss_cp73_allchronic[\"DrugTreat\"] == \"Chronic high levodopa\"], \n",
      "                               \"AIM\" : list(ss_cp73_allchronic[\"totalAIM\"].fillna(0)) } )"
     ],
     "language": "python",
     "metadata": {},
     "outputs": []
    },
    {
     "cell_type": "code",
     "collapsed": false,
     "input": [
      "model2 = \"AIM ~ expression + dose + 1\"\n",
      "model3 = \"AIM ~ dose*expression + 1\"\n",
      "model4 = \"AIM ~ expression + expression:dose + 1\"\n",
      "model5 = \"AIM ~ dose\"\n",
      "model6 = \"AIM ~ expression\"\n",
      "model7 = \"AIM ~ C(dose)*expression\"\n",
      "model8 = \"expression ~ AIM + dose\"\n",
      "model9 = \"expression ~ dose\"\n",
      "model10 = \"expression ~ AIM*dose\""
     ],
     "language": "python",
     "metadata": {},
     "outputs": []
    },
    {
     "cell_type": "code",
     "collapsed": false,
     "input": [
      "m1 = ols(fimodel, cur_gene).fit()\n",
      "m2 = ols(model2, cur_gene).fit()\n",
      "m3 = ols(model3, cur_gene).fit()\n",
      "m4 = ols(model4, cur_gene).fit()\n",
      "m5 = ols(model5, cur_gene).fit()\n",
      "m6 = ols(model6, cur_gene).fit()\n",
      "m7 = ols(model7, cur_gene).fit()\n",
      "m8 = ols(model8, cur_gene).fit()\n",
      "m9 = ols(model9, cur_gene).fit()\n",
      "m10 = ols(model10, cur_gene).fit()"
     ],
     "language": "python",
     "metadata": {},
     "outputs": []
    },
    {
     "cell_type": "code",
     "collapsed": false,
     "input": [
      "m2.compare_f_test(m5)"
     ],
     "language": "python",
     "metadata": {},
     "outputs": []
    },
    {
     "cell_type": "code",
     "collapsed": false,
     "input": [
      "anova_lm(m6, m2)"
     ],
     "language": "python",
     "metadata": {},
     "outputs": []
    },
    {
     "cell_type": "code",
     "collapsed": false,
     "input": [],
     "language": "python",
     "metadata": {},
     "outputs": []
    },
    {
     "cell_type": "code",
     "collapsed": false,
     "input": [
      "figsize(20, 5)\n",
      "subplot(1, 4, 1)\n",
      "plot( cur_gene.expression, m1.fittedvalues, \"o\" )\n",
      "plot( cur_gene.expression, cur_gene.AIM, \"ro\" )\n",
      "\n",
      "subplot(1, 4, 2)\n",
      "plot( cur_gene.expression, m2.fittedvalues, \"o\" )\n",
      "plot( cur_gene.expression, cur_gene.AIM, \"ro\" )\n",
      "\n",
      "subplot(1, 4, 3)\n",
      "plot( cur_gene.expression, m3.fittedvalues, \"o\" )\n",
      "plot( cur_gene.expression, cur_gene.AIM, \"ro\" )\n",
      "\n",
      "subplot(1, 4, 4)\n",
      "plot( cur_gene.expression, m4.fittedvalues, \"o\" )\n",
      "plot( cur_gene.expression, cur_gene.AIM, \"ro\" )"
     ],
     "language": "python",
     "metadata": {},
     "outputs": []
    },
    {
     "cell_type": "code",
     "collapsed": false,
     "input": [],
     "language": "python",
     "metadata": {},
     "outputs": []
    },
    {
     "cell_type": "code",
     "collapsed": false,
     "input": [],
     "language": "python",
     "metadata": {},
     "outputs": []
    },
    {
     "cell_type": "code",
     "collapsed": false,
     "input": [],
     "language": "python",
     "metadata": {},
     "outputs": []
    }
   ],
   "metadata": {}
  }
 ]
}