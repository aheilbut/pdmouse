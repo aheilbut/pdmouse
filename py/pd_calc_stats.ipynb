{
 "metadata": {
  "name": "pd_calc_stats"
 },
 "nbformat": 3,
 "nbformat_minor": 0,
 "worksheets": [
  {
   "cells": [
    {
     "cell_type": "code",
     "collapsed": false,
     "input": [
      "sys.path.append(\"/Users/heilbut/code/broad/pdmouse/py/web/\")\n",
      "sys.path.append(\"/Users/heilbut/code/broad\")"
     ],
     "language": "python",
     "metadata": {},
     "outputs": [],
     "prompt_number": 3
    },
    {
     "cell_type": "code",
     "collapsed": false,
     "input": [
      "import pd_locals\n",
      "import pd_analysis as pda\n",
      "import pandas, statsmodels\n",
      "import pandas as pd\n",
      "import cPickle\n",
      "import statsmodels.sandbox.stats.multicomp\n",
      "import glob"
     ],
     "language": "python",
     "metadata": {},
     "outputs": [],
     "prompt_number": 4
    },
    {
     "cell_type": "code",
     "collapsed": false,
     "input": [
      "pandas.set_option('display.height', 500)\n",
      "pandas.set_option('display.max_rows', 500)\n",
      "pandas.set_option('display.width', 500)\n",
      "pandas.set_option('display.max_columns', 50)"
     ],
     "language": "python",
     "metadata": {},
     "outputs": [],
     "prompt_number": 76
    },
    {
     "cell_type": "code",
     "collapsed": false,
     "input": [
      "pandas.set_option('display.max_colwidth', 200)"
     ],
     "language": "python",
     "metadata": {},
     "outputs": [],
     "prompt_number": 79
    },
    {
     "cell_type": "code",
     "collapsed": false,
     "input": [
      "import load_pd_data; reload(load_pd_data); from load_pd_data import *;"
     ],
     "language": "python",
     "metadata": {},
     "outputs": [],
     "prompt_number": 5
    },
    {
     "cell_type": "code",
     "collapsed": false,
     "input": [
      "import define_sample_subsets; reload(define_sample_subsets); from define_sample_subsets import *;"
     ],
     "language": "python",
     "metadata": {},
     "outputs": [],
     "prompt_number": 6
    },
    {
     "cell_type": "code",
     "collapsed": false,
     "input": [
      "def matchProbe(x, query):\n",
      "    if ( re.match(\".*%s.*\" % query.lower(), mo430info.gene_name[x].lower()) \n",
      "        or re.match(\".*%s.*\" % query.lower(), mo430info.symbol[x].lower())\n",
      "        or query == mo430info.probe_id[x]):\n",
      "        return True\n",
      "    else:\n",
      "        return False"
     ],
     "language": "python",
     "metadata": {},
     "outputs": [],
     "prompt_number": 17
    },
    {
     "cell_type": "code",
     "collapsed": false,
     "input": [
      "aim_model_set = ['aim_models_cp73_chronicHigh', 'aim_models_cp73_chronicLow', \n",
      "                 'aim_models_cp101_chronicHigh', 'aim_models_cp101_chronicLow']"
     ],
     "language": "python",
     "metadata": {},
     "outputs": [],
     "prompt_number": 134
    },
    {
     "cell_type": "code",
     "collapsed": false,
     "input": [
      "print \"save pickle models\"\n",
      "#for m in aim_model_set:\n",
      "#    cPickle.dump(eval(m), open(\"/data/adrian/data/temp/%s.pickle\" % m,\"w\"), protocol=-1)\n",
      "\n",
      "\n",
      "#aim_models_cp73_chronic = pda.fitModels(pd_all.index, ss_cp73_allChronic_LDOPA)\n",
      "#aim_models_cp101_chronic = pda.fitModels(pd_all.index, ss_cp101_allChronic_LDOPA)\n"
     ],
     "language": "python",
     "metadata": {},
     "outputs": [
      {
       "output_type": "stream",
       "stream": "stdout",
       "text": [
        "save pickle models\n"
       ]
      }
     ],
     "prompt_number": 92
    },
    {
     "cell_type": "code",
     "collapsed": false,
     "input": [
      "aim_models_cp73_allchronic = pda.fitModels(pd_all.index, ss_cp73_allchronic, pd_all)\n",
      "aim_models_cp73_chronicHigh = pda.fitModels(pd_all.index, ss_cp73_chronicHigh, pd_all)\n",
      "aim_models_cp73_chronicLow = pda.fitModels(pd_all.index, ss_cp73_chronicLow, pd_all)"
     ],
     "language": "python",
     "metadata": {},
     "outputs": [],
     "prompt_number": 11
    },
    {
     "cell_type": "code",
     "collapsed": false,
     "input": [
      "aim_models_cp101_allchronic = pda.fitModels(pd_all.index, ss_cp101_allchronic, pd_all)\n",
      "aim_models_cp101_chronicHigh = pda.fitModels(pd_all.index, ss_cp101_chronicHigh, pd_all)\n",
      "aim_models_cp101_chronicLow = pda.fitModels(pd_all.index, ss_cp101_chronicLow, pd_all)"
     ],
     "language": "python",
     "metadata": {},
     "outputs": [],
     "prompt_number": "*"
    },
    {
     "cell_type": "code",
     "collapsed": false,
     "input": [
      "aim_models_cp73_allchronic = aim_models_cp73_allchronic.drop(\"model\", axis=1)\n",
      "aim_models_cp73_chronicHigh = aim_models_cp73_chronicHigh.drop(\"model\", axis=1)\n",
      "aim_models_cp73_chronicLow = aim_models_cp73_chronicLow.drop(\"model\", axis=1)"
     ],
     "language": "python",
     "metadata": {},
     "outputs": [],
     "prompt_number": 17
    },
    {
     "cell_type": "code",
     "collapsed": false,
     "input": [
      "print \"load pickled models\"\n",
      "for m in aim_model_set:\n",
      "    locals()[m] = cPickle.load(open(\"/data/adrian/data/temp/%s.pickle\" % m))\n"
     ],
     "language": "python",
     "metadata": {},
     "outputs": [
      {
       "output_type": "stream",
       "stream": "stdout",
       "text": [
        "load pickled models\n"
       ]
      }
     ],
     "prompt_number": 137
    },
    {
     "cell_type": "heading",
     "level": 2,
     "metadata": {},
     "source": [
      "Compute basic stats for each comparison (fold change, t-test, etc)"
     ]
    },
    {
     "cell_type": "code",
     "collapsed": false,
     "input": [
      "reload(pda)"
     ],
     "language": "python",
     "metadata": {},
     "outputs": [
      {
       "output_type": "pyout",
       "prompt_number": 37,
       "text": [
        "<module 'pd_analysis' from 'pd_analysis.py'>"
       ]
      }
     ],
     "prompt_number": 37
    },
    {
     "cell_type": "code",
     "collapsed": false,
     "input": [],
     "language": "python",
     "metadata": {},
     "outputs": [],
     "prompt_number": 47
    },
    {
     "cell_type": "code",
     "collapsed": false,
     "input": [
      "[a for a in [dict(cn) for cn in cp73_highVsSaline_changeStats.columns] if a[\"st\"] == 'stddev']"
     ],
     "language": "python",
     "metadata": {},
     "outputs": [
      {
       "output_type": "pyout",
       "prompt_number": 50,
       "text": [
        "[{'cg': 'ctrl',\n",
        "  'cmp': ('chronicHigh', 'chronicSaline'),\n",
        "  'ct': 'cp73',\n",
        "  'st': 'stddev'},\n",
        " {'cg': 'exp',\n",
        "  'cmp': ('chronicHigh', 'chronicSaline'),\n",
        "  'ct': 'cp73',\n",
        "  'st': 'stddev'}]"
       ]
      }
     ],
     "prompt_number": 50
    },
    {
     "cell_type": "code",
     "collapsed": false,
     "input": [
      "print \"calc change stats\"\n",
      "cp73_highVsSaline_changeStats = pda.calcChangeStats(pd_all, ss_cp73_chronicHigh, cp73_chronic_saline, \n",
      "                tags=((\"ct\", \"cp73\"), (\"cmp\", (\"chronicHigh\", \"chronicSaline\"))) )\n",
      "\n",
      "cp73_highVsSaline_changeStats = pda.calcChangeStats(pd_all, ss_cp73_chronicHigh, cp73_chronic_saline)\n",
      "cp101_highVsSaline_changeStats = pda.calcChangeStats(pd_all, ss_cp101_chronicHigh, cp101_chronic_saline) \n",
      "cp73_lowVsSaline_changeStats = pda.calcChangeStats(pd_all, ss_cp73_chronicLow, cp73_chronic_saline) \n",
      "cp101_lowVsSaline_changeStats = pda.calcChangeStats(pd_all, ss_cp101_chronicLow, cp101_chronic_saline) \n",
      "\n",
      "print \"calc t tests\"\n",
      "cp73_high_ttest = pda.calc_ttest(pd_all, ss_cp73_chronicHigh, cp73_chronic_saline)\n",
      "cp73_low_ttest = pda.calc_ttest(pd_all, ss_cp73_chronicLow, cp73_chronic_saline)\n",
      "cp101_high_ttest = pda.calc_ttest(pd_all, ss_cp101_chronicHigh, cp101_chronic_saline)\n",
      "cp101_low_ttest = pda.calc_ttest(pd_all, ss_cp101_chronicLow, cp101_chronic_saline)\n",
      "\n",
      "print \"merge results\"\n",
      "cp73_highVsSaline_changeStats = cp73_highVsSaline_changeStats.merge(cp73_high_ttest, left_index=True, right_index=True)\n",
      "cp73_lowVsSaline_changeStats = cp73_lowVsSaline_changeStats.merge(cp73_low_ttest, left_index=True, right_index=True)\n",
      "cp101_highVsSaline_changeStats = cp101_highVsSaline_changeStats.merge(cp101_high_ttest, left_index=True, right_index=True)\n",
      "cp101_lowVsSaline_changeStats = cp101_lowVsSaline_changeStats.merge(cp101_low_ttest, left_index=True, right_index=True)\n",
      "\n",
      "\n",
      "cp73_highVsLow_changeStats = pda.calcChangeStats(pd_all, ss_cp73_chronicHigh, ss_cp73_chronicLow)\n",
      "cp101_highVsLow_changeStats = pda.calcChangeStats(pd_all, ss_cp101_chronicHigh, ss_cp101_chronicLow)\n",
      "\n",
      "cp73_highVsLow_ttest = pda.calc_ttest(pd_all, ss_cp73_chronicHigh, ss_cp73_chronicLow)\n",
      "cp101_highVsLow_ttest = pda.calc_ttest(pd_all, ss_cp101_chronicHigh, ss_cp101_chronicLow)\n",
      "\n",
      "cp73_highVsLow_changeStats = cp73_highVsLow_changeStats.merge(cp73_highVsLow_ttest, left_index=True, right_index=True)\n",
      "cp101_highVsLow_changeStats = cp101_highVsLow_changeStats.merge(cp101_highVsLow_ttest, left_index=True, right_index=True)\n",
      "\n"
     ],
     "language": "python",
     "metadata": {},
     "outputs": [
      {
       "output_type": "stream",
       "stream": "stdout",
       "text": [
        "calc change stats\n",
        "calc t tests"
       ]
      },
      {
       "output_type": "stream",
       "stream": "stdout",
       "text": [
        "\n",
        "merge results"
       ]
      },
      {
       "output_type": "stream",
       "stream": "stdout",
       "text": [
        "\n"
       ]
      }
     ],
     "prompt_number": 19
    },
    {
     "cell_type": "code",
     "collapsed": false,
     "input": [
      "cp101_dopDepletion_changeStats = pda.calcChangeStats(pd_all, ss_cp101_OHDA_saline, ss_cp101_ascorbate_saline)\n",
      "cp101_dopDepletion_ttest = pda.calc_ttest(pd_all, ss_cp101_OHDA_saline, ss_cp101_ascorbate_saline)\n",
      "cp101_dopDepletion_changeStats = cp101_dopDepletion_changeStats.merge( cp101_dopDepletion_ttest, left_index=True, right_index=True)"
     ],
     "language": "python",
     "metadata": {},
     "outputs": [],
     "prompt_number": 20
    },
    {
     "cell_type": "code",
     "collapsed": false,
     "input": [
      "cp73_dopDepletion_changeStats = pda.calcChangeStats(pd_all, ss_cp73_OHDA_saline, ss_cp73_ascorbate_saline)\n",
      "cp73_dopDepletion_ttest = pda.calc_ttest(pd_all, ss_cp73_OHDA_saline, ss_cp73_ascorbate_saline)\n",
      "cp73_dopDepletion_changeStats = cp73_dopDepletion_changeStats.merge( cp73_dopDepletion_ttest, left_index=True, right_index=True)"
     ],
     "language": "python",
     "metadata": {},
     "outputs": [],
     "prompt_number": 21
    },
    {
     "cell_type": "code",
     "collapsed": false,
     "input": [
      "cp73_acuteVsSaline_changeStats = pda.calcChangeStats(pd_all, ss_cp73_acuteHigh, ss_cp73_acuteSaline)\n",
      "cp73_acuteVsChronic_changeStats = pda.calcChangeStats(pd_all, ss_cp73_chronicHigh, ss_cp73_acuteHigh)\n",
      "\n",
      "# calc t tests\n",
      "cp73_acute_vs_saline_ttest = pda.calc_ttest(pd_all, ss_cp73_acuteHigh, ss_cp73_acuteSaline)\n",
      "cp73_acute_vs_chronic_ttest = pda.calc_ttest(pd_all, ss_cp73_acuteHigh, ss_cp73_chronicHigh)\n",
      "\n",
      "# merge results\n",
      "cp73_acuteVsSaline_changeStats = cp73_acuteVsSaline_changeStats.merge(cp73_acute_vs_saline_ttest, left_index=True, right_index=True)\n",
      "cp73_acuteVsChronic_changeStats = cp73_acuteVsChronic_changeStats.merge(cp73_acute_vs_chronic_ttest, left_index=True, right_index=True)"
     ],
     "language": "python",
     "metadata": {},
     "outputs": [],
     "prompt_number": 22
    },
    {
     "cell_type": "code",
     "collapsed": false,
     "input": [
      "cp73_lowVsSaline_changeStats.columns = [('cp73_low_vs_saline', d) for d in cp73_lowVsSaline_changeStats.columns]\n",
      "cp73_highVsSaline_changeStats.columns = [('cp73_high_vs_saline', d) for d in cp73_highVsSaline_changeStats.columns]\n",
      "cp73_highVsLow_changeStats.columns = [('cp73_high_vs_low', d) for d in cp73_highVsLow_changeStats.columns]"
     ],
     "language": "python",
     "metadata": {},
     "outputs": [],
     "prompt_number": 23
    },
    {
     "cell_type": "code",
     "collapsed": false,
     "input": [
      "aim_models_cp73_allchronic.columns = [('cp73_allchronic_AIM', d) for d in aim_models_cp73_allchronic.columns]\n",
      "aim_models_cp73_chronicHigh.columns = [('cp73_highchronic_AIM', d) for d in aim_models_cp73_chronicHigh.columns]\n",
      "aim_models_cp73_chronicLow.columns = [('cp73_lowchronic_AIM', d) for d in aim_models_cp73_chronicLow.columns]"
     ],
     "language": "python",
     "metadata": {},
     "outputs": [],
     "prompt_number": 24
    },
    {
     "cell_type": "code",
     "collapsed": false,
     "input": [
      "cp73_acuteVsChronic_changeStats.columns = [('cp73_acute_vs_chronic', d) for d in cp73_acuteVsChronic_changeStats.columns]\n",
      "cp73_acuteVsSaline_changeStats.columns = [('cp73_acute_vs_saline', d) for d in cp73_acuteVsSaline_changeStats.columns]"
     ],
     "language": "python",
     "metadata": {},
     "outputs": [],
     "prompt_number": 29
    },
    {
     "cell_type": "code",
     "collapsed": false,
     "input": [
      "cp101_lowVsSaline_changeStats.columns = [('cp101_low_vs_saline', d) for d in cp101_lowVsSaline_changeStats.columns]\n",
      "cp101_highVsSaline_changeStats.columns = [('cp101_high_vs_saline', d) for d in cp101_highVsSaline_changeStats.columns]\n",
      "cp101_highVsLow_changeStats.columns = [('cp101_high_vs_low', d) for d in cp101_highVsLow_changeStats.columns]"
     ],
     "language": "python",
     "metadata": {},
     "outputs": [],
     "prompt_number": 25
    },
    {
     "cell_type": "code",
     "collapsed": false,
     "input": [
      "aim_models_cp101_allchronic.columns = [('cp101_allchronic_AIM', d) for d in aim_models_cp101_allchronic.columns]\n",
      "aim_models_cp101_chronicHigh.columns = [('cp101_highchronic_AIM', d) for d in aim_models_cp101_chronicHigh.columns]\n",
      "aim_models_cp101_chronicLow.columns = [('cp101_lowchronic_AIM', d) for d in aim_models_cp101_chronicLow.columns]"
     ],
     "language": "python",
     "metadata": {},
     "outputs": []
    },
    {
     "cell_type": "code",
     "collapsed": false,
     "input": [
      "cp73_dopDepletion_changeStats.columns = [(\"cp73_dopDepletion\", d) for d in cp73_dopDepletion_changeStats.columns]\n",
      "cp101_dopDepletion_changeStats.columns = [(\"cp101_dopDepletion\", d) for d in cp101_dopDepletion_changeStats.columns]"
     ],
     "language": "python",
     "metadata": {},
     "outputs": [],
     "prompt_number": 26
    },
    {
     "cell_type": "code",
     "collapsed": false,
     "input": [
      "cp73_wide = ( cp73_dopDepletion_changeStats\n",
      "    .merge( cp73_lowVsSaline_changeStats, left_index=True, right_index=True )\n",
      "    .merge( cp73_highVsSaline_changeStats, left_index=True, right_index=True )\n",
      "    .merge( cp73_highVsLow_changeStats, left_index=True, right_index=True)\n",
      "    .merge( cp73_acuteVsChronic_changeStats, left_index=True, right_index=True)\n",
      "    .merge( cp73_acuteVsSaline_changeStats, left_index=True, right_index=True)           \n",
      "    .merge(aim_models_cp73_allchronic, left_index=True, right_index=True)\n",
      "    .merge(aim_models_cp73_chronicHigh, left_index=True, right_index=True)\n",
      "    .merge(aim_models_cp73_chronicLow, left_index=True, right_index=True)\n",
      ")"
     ],
     "language": "python",
     "metadata": {},
     "outputs": [],
     "prompt_number": 30
    },
    {
     "cell_type": "code",
     "collapsed": false,
     "input": [
      "cp73_wide"
     ],
     "language": "python",
     "metadata": {},
     "outputs": [
      {
       "html": [
        "<pre>\n",
        "&ltclass 'pandas.core.frame.DataFrame'&gt\n",
        "Index: 45101 entries, 1415670_at to AFFX-TrpnX-M_at\n",
        "Data columns (total 72 columns):\n",
        "(cp73_dopDepletion, cv_exp)            45101  non-null values\n",
        "(cp73_dopDepletion, fc_exp)            45101  non-null values\n",
        "(cp73_dopDepletion, mean_exp)          45101  non-null values\n",
        "(cp73_dopDepletion, median_exp)        45101  non-null values\n",
        "(cp73_dopDepletion, std_exp)           45101  non-null values\n",
        "(cp73_dopDepletion, t)                 45101  non-null values\n",
        "(cp73_dopDepletion, pval)              45101  non-null values\n",
        "(cp73_dopDepletion, bonf)              45101  non-null values\n",
        "(cp73_dopDepletion, bh)                45101  non-null values\n",
        "(cp73_low_vs_saline, cv_exp)           45101  non-null values\n",
        "(cp73_low_vs_saline, fc_exp)           45101  non-null values\n",
        "(cp73_low_vs_saline, mean_exp)         45101  non-null values\n",
        "(cp73_low_vs_saline, median_exp)       45101  non-null values\n",
        "(cp73_low_vs_saline, std_exp)          45101  non-null values\n",
        "(cp73_low_vs_saline, t)                45101  non-null values\n",
        "(cp73_low_vs_saline, pval)             45101  non-null values\n",
        "(cp73_low_vs_saline, bonf)             45101  non-null values\n",
        "(cp73_low_vs_saline, bh)               45101  non-null values\n",
        "(cp73_high_vs_saline, cv_exp)          45101  non-null values\n",
        "(cp73_high_vs_saline, fc_exp)          45101  non-null values\n",
        "(cp73_high_vs_saline, mean_exp)        45101  non-null values\n",
        "(cp73_high_vs_saline, median_exp)      45101  non-null values\n",
        "(cp73_high_vs_saline, std_exp)         45101  non-null values\n",
        "(cp73_high_vs_saline, t)               45101  non-null values\n",
        "(cp73_high_vs_saline, pval)            45101  non-null values\n",
        "(cp73_high_vs_saline, bonf)            45101  non-null values\n",
        "(cp73_high_vs_saline, bh)              45101  non-null values\n",
        "(cp73_high_vs_low, cv_exp)             45101  non-null values\n",
        "(cp73_high_vs_low, fc_exp)             45101  non-null values\n",
        "(cp73_high_vs_low, mean_exp)           45101  non-null values\n",
        "(cp73_high_vs_low, median_exp)         45101  non-null values\n",
        "(cp73_high_vs_low, std_exp)            45101  non-null values\n",
        "(cp73_high_vs_low, t)                  45101  non-null values\n",
        "(cp73_high_vs_low, pval)               45101  non-null values\n",
        "(cp73_high_vs_low, bonf)               45101  non-null values\n",
        "(cp73_high_vs_low, bh)                 45101  non-null values\n",
        "(cp73_acute_vs_chronic, cv_exp)        45101  non-null values\n",
        "(cp73_acute_vs_chronic, fc_exp)        45101  non-null values\n",
        "(cp73_acute_vs_chronic, mean_exp)      45101  non-null values\n",
        "(cp73_acute_vs_chronic, median_exp)    45101  non-null values\n",
        "(cp73_acute_vs_chronic, std_exp)       45101  non-null values\n",
        "(cp73_acute_vs_chronic, t)             45101  non-null values\n",
        "(cp73_acute_vs_chronic, pval)          45101  non-null values\n",
        "(cp73_acute_vs_chronic, bonf)          45101  non-null values\n",
        "(cp73_acute_vs_chronic, bh)            45101  non-null values\n",
        "(cp73_acute_vs_saline, cv_exp)         45101  non-null values\n",
        "(cp73_acute_vs_saline, fc_exp)         45101  non-null values\n",
        "(cp73_acute_vs_saline, mean_exp)       45101  non-null values\n",
        "(cp73_acute_vs_saline, median_exp)     45101  non-null values\n",
        "(cp73_acute_vs_saline, std_exp)        45101  non-null values\n",
        "(cp73_acute_vs_saline, t)              45101  non-null values\n",
        "(cp73_acute_vs_saline, pval)           45101  non-null values\n",
        "(cp73_acute_vs_saline, bonf)           45101  non-null values\n",
        "(cp73_acute_vs_saline, bh)             45101  non-null values\n",
        "(cp73_allchronic_AIM, pval)            45101  non-null values\n",
        "(cp73_allchronic_AIM, expr_coef)       45101  non-null values\n",
        "(cp73_allchronic_AIM, bh)              45101  non-null values\n",
        "(cp73_allchronic_AIM, bonf)            45101  non-null values\n",
        "(cp73_allchronic_AIM, sign)            45101  non-null values\n",
        "(cp73_allchronic_AIM, rsq_adj)         45101  non-null values\n",
        "(cp73_highchronic_AIM, pval)           45101  non-null values\n",
        "(cp73_highchronic_AIM, expr_coef)      45101  non-null values\n",
        "(cp73_highchronic_AIM, bh)             45101  non-null values\n",
        "(cp73_highchronic_AIM, bonf)           45101  non-null values\n",
        "(cp73_highchronic_AIM, sign)           45101  non-null values\n",
        "(cp73_highchronic_AIM, rsq_adj)        45101  non-null values\n",
        "(cp73_lowchronic_AIM, pval)            45101  non-null values\n",
        "(cp73_lowchronic_AIM, expr_coef)       45101  non-null values\n",
        "(cp73_lowchronic_AIM, bh)              45101  non-null values\n",
        "(cp73_lowchronic_AIM, bonf)            45101  non-null values\n",
        "(cp73_lowchronic_AIM, sign)            45101  non-null values\n",
        "(cp73_lowchronic_AIM, rsq_adj)         45101  non-null values\n",
        "dtypes: float64(66), object(6)\n",
        "</pre>"
       ],
       "output_type": "pyout",
       "prompt_number": 31,
       "text": [
        "<class 'pandas.core.frame.DataFrame'>\n",
        "Index: 45101 entries, 1415670_at to AFFX-TrpnX-M_at\n",
        "Data columns (total 72 columns):\n",
        "(cp73_dopDepletion, cv_exp)            45101  non-null values\n",
        "(cp73_dopDepletion, fc_exp)            45101  non-null values\n",
        "(cp73_dopDepletion, mean_exp)          45101  non-null values\n",
        "(cp73_dopDepletion, median_exp)        45101  non-null values\n",
        "(cp73_dopDepletion, std_exp)           45101  non-null values\n",
        "(cp73_dopDepletion, t)                 45101  non-null values\n",
        "(cp73_dopDepletion, pval)              45101  non-null values\n",
        "(cp73_dopDepletion, bonf)              45101  non-null values\n",
        "(cp73_dopDepletion, bh)                45101  non-null values\n",
        "(cp73_low_vs_saline, cv_exp)           45101  non-null values\n",
        "(cp73_low_vs_saline, fc_exp)           45101  non-null values\n",
        "(cp73_low_vs_saline, mean_exp)         45101  non-null values\n",
        "(cp73_low_vs_saline, median_exp)       45101  non-null values\n",
        "(cp73_low_vs_saline, std_exp)          45101  non-null values\n",
        "(cp73_low_vs_saline, t)                45101  non-null values\n",
        "(cp73_low_vs_saline, pval)             45101  non-null values\n",
        "(cp73_low_vs_saline, bonf)             45101  non-null values\n",
        "(cp73_low_vs_saline, bh)               45101  non-null values\n",
        "(cp73_high_vs_saline, cv_exp)          45101  non-null values\n",
        "(cp73_high_vs_saline, fc_exp)          45101  non-null values\n",
        "(cp73_high_vs_saline, mean_exp)        45101  non-null values\n",
        "(cp73_high_vs_saline, median_exp)      45101  non-null values\n",
        "(cp73_high_vs_saline, std_exp)         45101  non-null values\n",
        "(cp73_high_vs_saline, t)               45101  non-null values\n",
        "(cp73_high_vs_saline, pval)            45101  non-null values\n",
        "(cp73_high_vs_saline, bonf)            45101  non-null values\n",
        "(cp73_high_vs_saline, bh)              45101  non-null values\n",
        "(cp73_high_vs_low, cv_exp)             45101  non-null values\n",
        "(cp73_high_vs_low, fc_exp)             45101  non-null values\n",
        "(cp73_high_vs_low, mean_exp)           45101  non-null values\n",
        "(cp73_high_vs_low, median_exp)         45101  non-null values\n",
        "(cp73_high_vs_low, std_exp)            45101  non-null values\n",
        "(cp73_high_vs_low, t)                  45101  non-null values\n",
        "(cp73_high_vs_low, pval)               45101  non-null values\n",
        "(cp73_high_vs_low, bonf)               45101  non-null values\n",
        "(cp73_high_vs_low, bh)                 45101  non-null values\n",
        "(cp73_acute_vs_chronic, cv_exp)        45101  non-null values\n",
        "(cp73_acute_vs_chronic, fc_exp)        45101  non-null values\n",
        "(cp73_acute_vs_chronic, mean_exp)      45101  non-null values\n",
        "(cp73_acute_vs_chronic, median_exp)    45101  non-null values\n",
        "(cp73_acute_vs_chronic, std_exp)       45101  non-null values\n",
        "(cp73_acute_vs_chronic, t)             45101  non-null values\n",
        "(cp73_acute_vs_chronic, pval)          45101  non-null values\n",
        "(cp73_acute_vs_chronic, bonf)          45101  non-null values\n",
        "(cp73_acute_vs_chronic, bh)            45101  non-null values\n",
        "(cp73_acute_vs_saline, cv_exp)         45101  non-null values\n",
        "(cp73_acute_vs_saline, fc_exp)         45101  non-null values\n",
        "(cp73_acute_vs_saline, mean_exp)       45101  non-null values\n",
        "(cp73_acute_vs_saline, median_exp)     45101  non-null values\n",
        "(cp73_acute_vs_saline, std_exp)        45101  non-null values\n",
        "(cp73_acute_vs_saline, t)              45101  non-null values\n",
        "(cp73_acute_vs_saline, pval)           45101  non-null values\n",
        "(cp73_acute_vs_saline, bonf)           45101  non-null values\n",
        "(cp73_acute_vs_saline, bh)             45101  non-null values\n",
        "(cp73_allchronic_AIM, pval)            45101  non-null values\n",
        "(cp73_allchronic_AIM, expr_coef)       45101  non-null values\n",
        "(cp73_allchronic_AIM, bh)              45101  non-null values\n",
        "(cp73_allchronic_AIM, bonf)            45101  non-null values\n",
        "(cp73_allchronic_AIM, sign)            45101  non-null values\n",
        "(cp73_allchronic_AIM, rsq_adj)         45101  non-null values\n",
        "(cp73_highchronic_AIM, pval)           45101  non-null values\n",
        "(cp73_highchronic_AIM, expr_coef)      45101  non-null values\n",
        "(cp73_highchronic_AIM, bh)             45101  non-null values\n",
        "(cp73_highchronic_AIM, bonf)           45101  non-null values\n",
        "(cp73_highchronic_AIM, sign)           45101  non-null values\n",
        "(cp73_highchronic_AIM, rsq_adj)        45101  non-null values\n",
        "(cp73_lowchronic_AIM, pval)            45101  non-null values\n",
        "(cp73_lowchronic_AIM, expr_coef)       45101  non-null values\n",
        "(cp73_lowchronic_AIM, bh)              45101  non-null values\n",
        "(cp73_lowchronic_AIM, bonf)            45101  non-null values\n",
        "(cp73_lowchronic_AIM, sign)            45101  non-null values\n",
        "(cp73_lowchronic_AIM, rsq_adj)         45101  non-null values\n",
        "dtypes: float64(66), object(6)"
       ]
      }
     ],
     "prompt_number": 31
    },
    {
     "cell_type": "code",
     "collapsed": false,
     "input": [
      "cp101_wide = ( cp101_dopDepletion_changeStats\n",
      "    .merge( cp101_lowVsSaline_changeStats, left_index=True, right_index=True)\n",
      "    .merge( cp101_highVsSaline_changeStats, left_index=True, right_index=True)\n",
      "    .merge( cp101_highVsLow_changeStats, left_index=True, right_index=True)\n",
      "    .merge( aim_models_cp101_allchronic, left_index=True, right_index=True)\n",
      "#    .merge( aim_models_cp101_chronicHigh, left_index=True, right_index=True)\n",
      "#    .merge( aim_models_cp101_chronicLow, left_index=True, right_index=True)\n",
      ")"
     ],
     "language": "python",
     "metadata": {},
     "outputs": [],
     "prompt_number": 33
    },
    {
     "cell_type": "code",
     "collapsed": false,
     "input": [
      "cPickle.dump(cp73_wide, open(\"/data/adrian/Dropbox/Projects/Broad/PD_mouse/results/2013_june_13/cp73_wide.pandas.pickle\", \"w\"), protocol=2)"
     ],
     "language": "python",
     "metadata": {},
     "outputs": [],
     "prompt_number": 32
    },
    {
     "cell_type": "code",
     "collapsed": false,
     "input": [
      "cPickle.dump(cp101_wide, open(\"/data/adrian/data/temp/cp101_wide.pandas.pickle\", \"w\"))"
     ],
     "language": "python",
     "metadata": {},
     "outputs": []
    },
    {
     "cell_type": "code",
     "collapsed": false,
     "input": [
      "cp73_wide = cPickle.load( open(\"/data/adrian/data/temp/cp73_wide.pandas.pickle\") )\n",
      "cp101_wide = cPickle.load( open(\"/data/adrian/data/temp/cp101_wide.pandas.pickle\") )"
     ],
     "language": "python",
     "metadata": {},
     "outputs": [],
     "prompt_number": 446
    },
    {
     "cell_type": "code",
     "collapsed": false,
     "input": [
      "cp101_wide = cPickle.load( open(\"/data/adrian/data/temp/cp101_wide.pandas.pickle\") )"
     ],
     "language": "python",
     "metadata": {},
     "outputs": [],
     "prompt_number": 6
    },
    {
     "cell_type": "code",
     "collapsed": false,
     "input": [
      "cp73_out = mo430info.merge( cp73_wide, how=\"right\", left_index=True, right_index=True)"
     ],
     "language": "python",
     "metadata": {},
     "outputs": [],
     "prompt_number": 51
    },
    {
     "cell_type": "code",
     "collapsed": false,
     "input": [
      "cp73_out.to_csv(\"/data/adrian/Dropbox/cp73_out.txt\", sep=\"\\t\", index_label=\"probe\")"
     ],
     "language": "python",
     "metadata": {},
     "outputs": [],
     "prompt_number": 52
    },
    {
     "cell_type": "code",
     "collapsed": false,
     "input": [
      "# negatively correlated"
     ],
     "language": "python",
     "metadata": {},
     "outputs": [],
     "prompt_number": 21
    },
    {
     "cell_type": "code",
     "collapsed": false,
     "input": [
      "ss =  cp73_wide.select( lambda x:\n",
      "                          cp73_wide.ix[x, ('cp73_low_vs_saline', 'fc_exp')] > 1\n",
      "                      and cp73_wide.ix[x, ('cp73_low_vs_saline', 'bh')] < 0.05\n",
      "                      and  cp73_wide.ix[x, ('cp73_high_vs_low', 'fc_exp')] > 0.2)"
     ],
     "language": "python",
     "metadata": {},
     "outputs": [],
     "prompt_number": 112
    },
    {
     "cell_type": "code",
     "collapsed": false,
     "input": [],
     "language": "python",
     "metadata": {},
     "outputs": []
    },
    {
     "cell_type": "code",
     "collapsed": false,
     "input": [
      "list(ss_cp73_chronicHigh.filenames).extend(list(cp73_chronic_saline.filenames))"
     ],
     "language": "python",
     "metadata": {},
     "outputs": [],
     "prompt_number": 20
    },
    {
     "cell_type": "code",
     "collapsed": false,
     "input": [
      "l = list(ss_cp73_chronicHigh.filenames)"
     ],
     "language": "python",
     "metadata": {},
     "outputs": [],
     "prompt_number": 22
    },
    {
     "cell_type": "code",
     "collapsed": false,
     "input": [
      "l.extend(list(cp73_chronic_saline.filenames))"
     ],
     "language": "python",
     "metadata": {},
     "outputs": [],
     "prompt_number": 24
    },
    {
     "cell_type": "code",
     "collapsed": false,
     "input": [
      "list(ss_cp73_chronicHigh.filenames) + list(cp73_chronic_saline.filenames)"
     ],
     "language": "python",
     "metadata": {},
     "outputs": [
      {
       "output_type": "pyout",
       "prompt_number": 39,
       "text": [
        "['Lesion_CH_11_CP73_1511.CEL',\n",
        " 'Lesion_CH_14_CP73_1542.CEL',\n",
        " 'Lesion_CH_16_CP73_1579.CEL',\n",
        " 'Lesion_CH_18_CP73_1665.CEL',\n",
        " 'Lesion_CH_34_CP73_1721.CEL',\n",
        " 'Lesion_CH_21_CP73_1804.CEL',\n",
        " 'Lesion_CH_22_CP73_1832.CEL',\n",
        " 'Lesion_CH_23_CP73_1836.CEL',\n",
        " 'Lesion_CH_24_CP73_1841.CEL',\n",
        " 'Lesion_CH_39_CP73_1857.CEL',\n",
        " 'Lesion_CH_25_CP73_1876.CEL',\n",
        " 'Lesion_CS_1_CP73_1513.CEL',\n",
        " 'Lesion_CS_12_CP73_1517.CEL',\n",
        " 'Lesion_CS_13_CP73_1533.CEL',\n",
        " 'Lesion_CS_2_CP73_1562.CEL',\n",
        " 'Lesion_CS_15_CP73_1578.CEL',\n",
        " 'Lesion_CS_17_CP73_1627.CEL',\n",
        " 'Lesion_CS_7_CP73_1647.CEL',\n",
        " 'Lesion_CS_9_CP73_1663.CEL',\n",
        " 'Lesion_CS_19_CP73_1755.CEL',\n",
        " 'Lesion_CS_20_CP73_1767.CEL',\n",
        " 'Lesion_CS_10_CP73_1833.CEL']"
       ]
      }
     ],
     "prompt_number": 39
    },
    {
     "cell_type": "code",
     "collapsed": false,
     "input": [
      "treat = [1 for i in ss_cp73_chronicHigh.filenames]\n",
      "untreat = [0 for i in cp73_chronic_saline.filenames]"
     ],
     "language": "python",
     "metadata": {},
     "outputs": [],
     "prompt_number": 37
    },
    {
     "cell_type": "code",
     "collapsed": false,
     "input": [
      "treat + untreat"
     ],
     "language": "python",
     "metadata": {},
     "outputs": [
      {
       "output_type": "pyout",
       "prompt_number": 38,
       "text": [
        "[1, 1, 1, 1, 1, 1, 1, 1, 1, 1, 1, 0, 0, 0, 0, 0, 0, 0, 0, 0, 0, 0]"
       ]
      }
     ],
     "prompt_number": 38
    },
    {
     "cell_type": "code",
     "collapsed": false,
     "input": [
      "mo430symbol"
     ],
     "language": "python",
     "metadata": {},
     "outputs": [
      {
       "output_type": "pyout",
       "prompt_number": 40,
       "text": [
        "<class 'pandas.core.frame.DataFrame'>\n",
        "Index: 38381 entries, 1415670_at to AFFX-b-ActinMur/M12481_M_at\n",
        "Data columns:\n",
        "probe_id    38381  non-null values\n",
        "symbol      38381  non-null values\n",
        "dtypes: object(2)"
       ]
      }
     ],
     "prompt_number": 40
    },
    {
     "cell_type": "code",
     "collapsed": false,
     "input": [
      "sym_groups = pd_all.merge(mo430symbol, left_index=True, right_index=True).drop(\"probe_id\", axis=1).groupby(\"symbol\")"
     ],
     "language": "python",
     "metadata": {},
     "outputs": [],
     "prompt_number": 179
    },
    {
     "cell_type": "code",
     "collapsed": false,
     "input": [
      "gene_reps = []\n",
      "for g in sym_groups.groups.keys():\n",
      "    group_data = sym_groups.get_group(g).median(axis=1)\n",
      "    gene_reps.append( (g, group_data.index[group_data.argmax()]) )\n",
      "gene_reps = pandas.DataFrame({ \"probe_id\" : [g[1] for g in gene_reps]}, index = [g[0] for g in gene_reps])"
     ],
     "language": "python",
     "metadata": {},
     "outputs": [],
     "prompt_number": 180
    },
    {
     "cell_type": "code",
     "collapsed": false,
     "input": [
      "pd_all_collapsed.ix[:, list(ss_cp73_chronicHigh.filenames) + list(cp73_chronic_saline.filenames)]"
     ],
     "language": "python",
     "metadata": {},
     "outputs": [
      {
       "output_type": "pyout",
       "prompt_number": 61,
       "text": [
        "<class 'pandas.core.frame.DataFrame'>\n",
        "Index: 20826 entries, Copg to Pcx\n",
        "Data columns:\n",
        "Lesion_CH_11_CP73_1511.CEL    20826  non-null values\n",
        "Lesion_CH_14_CP73_1542.CEL    20826  non-null values\n",
        "Lesion_CH_16_CP73_1579.CEL    20826  non-null values\n",
        "Lesion_CH_18_CP73_1665.CEL    20826  non-null values\n",
        "Lesion_CH_34_CP73_1721.CEL    20826  non-null values\n",
        "Lesion_CH_21_CP73_1804.CEL    20826  non-null values\n",
        "Lesion_CH_22_CP73_1832.CEL    20826  non-null values\n",
        "Lesion_CH_23_CP73_1836.CEL    20826  non-null values\n",
        "Lesion_CH_24_CP73_1841.CEL    20826  non-null values\n",
        "Lesion_CH_39_CP73_1857.CEL    20826  non-null values\n",
        "Lesion_CH_25_CP73_1876.CEL    20826  non-null values\n",
        "Lesion_CS_1_CP73_1513.CEL     20826  non-null values\n",
        "Lesion_CS_12_CP73_1517.CEL    20826  non-null values\n",
        "Lesion_CS_13_CP73_1533.CEL    20826  non-null values\n",
        "Lesion_CS_2_CP73_1562.CEL     20826  non-null values\n",
        "Lesion_CS_15_CP73_1578.CEL    20826  non-null values\n",
        "Lesion_CS_17_CP73_1627.CEL    20826  non-null values\n",
        "Lesion_CS_7_CP73_1647.CEL     20826  non-null values\n",
        "Lesion_CS_9_CP73_1663.CEL     20826  non-null values\n",
        "Lesion_CS_19_CP73_1755.CEL    20826  non-null values\n",
        "Lesion_CS_20_CP73_1767.CEL    20826  non-null values\n",
        "Lesion_CS_10_CP73_1833.CEL    20826  non-null values\n",
        "dtypes: float64(22)"
       ]
      }
     ],
     "prompt_number": 61
    },
    {
     "cell_type": "code",
     "collapsed": false,
     "input": [
      "pd_all_collapsed = gene_reps.merge(pd_all, left_on=\"probe_id\", right_index=True)\n",
      "pd_all_collapsed = mo430info.merge( pd_all_collapsed, left_on=\"probe_id\", right_on=\"probe_id\").drop(\"probe_id\", axis=1)\n",
      "for x in pd_all_collapsed.index:\n",
      "    pd_all_collapsed.ix[x, \"symbol\"] = pd_all_collapsed.ix[x, \"symbol\"].upper()\n",
      "pd_all_collapsed = pd_all_collapsed.rename(columns={\"symbol\": \"Name\", \"gene_name\" : \"Description\"})    "
     ],
     "language": "python",
     "metadata": {},
     "outputs": [],
     "prompt_number": 182
    },
    {
     "cell_type": "code",
     "collapsed": false,
     "input": [
      "pd_all"
     ],
     "language": "python",
     "metadata": {},
     "outputs": [],
     "prompt_number": 117
    },
    {
     "cell_type": "code",
     "collapsed": false,
     "input": [
      "def saveGCT(df, filename):\n",
      "    f = open(filename, \"w\")\n",
      "    f.write(\"#1.2\\n\")\n",
      "    f.write(str(df.shape[0]) + \"\\t\" + str(df.shape[1]-2) + \"\\n\")\n",
      "    f.write(\"\\t\".join([str(x) for x in df.columns]) + \"\\n\") \n",
      "    for x in df.index:\n",
      "        f.write(\"\\t\".join( [str(x) for x in df.ix[x, :]] ) + \"\\n\")\n",
      "    f.close()"
     ],
     "language": "python",
     "metadata": {},
     "outputs": [],
     "prompt_number": 207
    },
    {
     "cell_type": "code",
     "collapsed": false,
     "input": [
      "saveGCT(pd_all_collapsed, \"/data/adrian/Dropbox/test.gct\")"
     ],
     "language": "python",
     "metadata": {},
     "outputs": [],
     "prompt_number": 125
    },
    {
     "cell_type": "heading",
     "level": 2,
     "metadata": {},
     "source": [
      "Write GCT files"
     ]
    },
    {
     "cell_type": "code",
     "collapsed": false,
     "input": [
      "# cp73 acute L-DOPA vs (acute) saline\n",
      "saveGCT( pd_all_collapsed[ [\"Name\", \"Description\"] + list(ss_cp73_acuteHigh.filenames) + list(ss_cp73_acuteSaline.filenames) ], \n",
      "            \"/data/adrian/Dropbox/Projects/Broad/PD_mouse/results/feb25/gct/cp73_acuteHigh_vs_acuteSaline.gct\")\n",
      "writeCLS(ss_cp73_acuteHigh, \"cp73_acute_high\", ss_cp73_acuteSaline, \"cp73_acute_saline\", \"/data/adrian/Dropbox/Projects/Broad/PD_mouse/results/feb25/gct/cp73_acuteHigh_vs_acuteSaline.cls\")\n",
      "\n",
      "# cp73 acute L-DOPA vs chronic high L-DOPA\n",
      "saveGCT( pd_all_collapsed[ [\"Name\", \"Description\"] + list(ss_cp73_acuteHigh.filenames) + list(ss_cp73_chronicHigh.filenames) ], \n",
      "            \"/data/adrian/Dropbox/Projects/Broad/PD_mouse/results/feb25/gct/cp73_acute_vs_chronic_high.gct\")\n",
      "writeCLS(ss_cp73_acuteHigh, \"cp73_acute_high\", ss_cp73_chronicHigh, \"cp73_chronic_high\", \"/data/adrian/Dropbox/Projects/Broad/PD_mouse/results/feb25/gct/cp73_acute_vs_chronic_high.cls\")\n",
      "\n",
      "# cp73 chronic high vs. chonic saline\n",
      "saveGCT( pd_all_collapsed[ [\"Name\", \"Description\"] + list(ss_cp73_chronicHigh.filenames) + list(cp73_chronic_saline.filenames) ], \n",
      "            \"/data/adrian/Dropbox/Projects/Broad/PD_mouse/results/feb25/gct/cp73_chronic_high_vs_saline.gct\")\n",
      "writeCLS(ss_cp73_chronicHigh, \"cp73_chronic_high\", cp73_chronic_saline, \"cp73_chronic_saline\", \"/data/adrian/Dropbox/Projects/Broad/PD_mouse/results/feb25/gct/cp73_chronic_high_vs_saline.cls\")\n",
      "\n",
      "# cp73 chronic high vs. chonic saline\n",
      "saveGCT( pd_all_collapsed[ [\"Name\", \"Description\"] + list(ss_cp73_chronicLow.filenames) + list(cp73_chronic_saline.filenames) ], \n",
      "            \"/data/adrian/Dropbox/Projects/Broad/PD_mouse/results/feb25/gct/cp73_chronic_low_vs_saline.gct\")\n",
      "writeCLS(ss_cp73_chronicLow, \"cp73_chronic_low\", cp73_chronic_saline, \"cp73_chronic_saline\", \"/data/adrian/Dropbox/Projects/Broad/PD_mouse/results/feb25/gct/cp73_chronic_low_vs_saline.cls\")\n",
      "\n",
      "# cp73 chronic high vs. chonic low\n",
      "saveGCT( pd_all_collapsed[ [\"Name\", \"Description\"] + list(ss_cp73_chronicHigh.filenames) + list(ss_cp73_chronicLow.filenames) ], \n",
      "            \"/data/adrian/Dropbox/Projects/Broad/PD_mouse/results/feb25/gct/cp73_chronic_high_vs_low.gct\")\n",
      "writeCLS(ss_cp73_chronicHigh, \"cp73_chronic_high\", ss_cp73_chronicLow, \"cp73_chronic_low\", \"/data/adrian/Dropbox/Projects/Broad/PD_mouse/results/feb25/gct/cp73_chronic_high_vs_low.cls\")\n",
      "\n",
      "\n"
     ],
     "language": "python",
     "metadata": {},
     "outputs": [],
     "prompt_number": 218
    },
    {
     "cell_type": "code",
     "collapsed": false,
     "input": [
      "# cp101 chronic high vs saline\n",
      "saveGCT( pd_all_collapsed[ [\"Name\", \"Description\"] + list(ss_cp101_chronicHigh.filenames) + list(cp101_chronic_saline.filenames) ], \n",
      "            \"/data/adrian/Dropbox/Projects/Broad/PD_mouse/results/feb25/gct/cp101_chronic_high_vs_saline.gct\")\n",
      "writeCLS(ss_cp101_chronicHigh, \"cp101_chronic_high\", cp101_chronic_saline, \"cp101_chronic_saline\", \"/data/adrian/Dropbox/Projects/Broad/PD_mouse/results/feb25/gct/cp101_chronic_high_vs_saline.cls\")\n",
      "\n",
      "# cp101 chronic low vs saline\n",
      "saveGCT( pd_all_collapsed[ [\"Name\", \"Description\"] + list(ss_cp101_chronicLow.filenames) + list(cp101_chronic_saline.filenames) ], \n",
      "            \"/data/adrian/Dropbox/Projects/Broad/PD_mouse/results/feb25/gct/cp101_chronic_low_vs_saline.gct\")\n",
      "writeCLS(ss_cp101_chronicLow, \"cp101_chronic_low\", cp101_chronic_saline, \"cp101_chronic_saline\", \"/data/adrian/Dropbox/Projects/Broad/PD_mouse/results/feb25/gct/cp101_chronic_low_vs_saline.cls\")\n",
      "\n",
      "# cp101 chronic high vs low\n",
      "saveGCT( pd_all_collapsed[ [\"Name\", \"Description\"] + list(ss_cp101_chronicHigh.filenames) + list(ss_cp101_chronicLow.filenames) ], \n",
      "            \"/data/adrian/Dropbox/Projects/Broad/PD_mouse/results/feb25/gct/cp101_chronic_high_vs_low.gct\")\n",
      "writeCLS(ss_cp101_chronicHigh, \"cp101_chronic_high\", ss_cp101_chronicLow, \"cp101_chronic_low\", \"/data/adrian/Dropbox/Projects/Broad/PD_mouse/results/feb25/gct/cp101_chronic_high_vs_low.cls\")\n",
      "\n",
      "\n"
     ],
     "language": "python",
     "metadata": {},
     "outputs": [],
     "prompt_number": 219
    },
    {
     "cell_type": "code",
     "collapsed": false,
     "input": [
      "def writeCLS(a, a_desc, b, b_desc, filename):\n",
      "    f = open(filename, \"w\")\n",
      "    phenotypes = [str(1) for i in a.filenames] + [str(0) for i in b.filenames]\n",
      "    print >>f, len(phenotypes), \"2 1\"\n",
      "    print >>f, \"# %s %s\" % (a_desc, b_desc)\n",
      "    print >>f, \" \".join(phenotypes)\n",
      "    f.close()"
     ],
     "language": "python",
     "metadata": {},
     "outputs": [],
     "prompt_number": 204
    },
    {
     "cell_type": "code",
     "collapsed": false,
     "input": [
      "sum( statsmodels.sandbox.stats.multicomp.multipletests(c, method=\"fdr_bh\", alpha=0.05)[1] < 0.10 )"
     ],
     "language": "python",
     "metadata": {},
     "outputs": [
      {
       "output_type": "pyout",
       "prompt_number": 48,
       "text": [
        "602"
       ]
      }
     ],
     "prompt_number": 48
    },
    {
     "cell_type": "code",
     "collapsed": false,
     "input": [
      "ss_cp73_allchronic.totalAIM"
     ],
     "language": "python",
     "metadata": {},
     "outputs": []
    },
    {
     "cell_type": "code",
     "collapsed": false,
     "input": [
      "[int(i) for i in ss_cp73_allchronic[\"DrugTreat\"] == \"Chronic high levodopa\"]"
     ],
     "language": "python",
     "metadata": {},
     "outputs": [
      {
       "output_type": "pyout",
       "prompt_number": 83,
       "text": [
        "[1, 0, 1, 0, 1, 0, 0, 0, 1, 0, 0, 1, 0, 1, 0, 1, 0, 1, 0, 1, 1, 1, 0]"
       ]
      }
     ],
     "prompt_number": 83
    },
    {
     "cell_type": "code",
     "collapsed": false,
     "input": [
      "cp73_wide"
     ],
     "language": "python",
     "metadata": {},
     "outputs": [
      {
       "ename": "NameError",
       "evalue": "name 'cp73_wide' is not defined",
       "output_type": "pyerr",
       "traceback": [
        "\u001b[0;31m---------------------------------------------------------------------------\u001b[0m\n\u001b[0;31mNameError\u001b[0m                                 Traceback (most recent call last)",
        "\u001b[0;32m<ipython-input-89-f239e3219478>\u001b[0m in \u001b[0;36m<module>\u001b[0;34m()\u001b[0m\n\u001b[0;32m----> 1\u001b[0;31m \u001b[0mcp73_wide\u001b[0m\u001b[0;34m\u001b[0m\u001b[0m\n\u001b[0m",
        "\u001b[0;31mNameError\u001b[0m: name 'cp73_wide' is not defined"
       ]
      }
     ],
     "prompt_number": 89
    },
    {
     "cell_type": "code",
     "collapsed": false,
     "input": [
      "cp101_wide_info = mo430info.merge(cp101_wide, left_index=True, right_index=True)"
     ],
     "language": "python",
     "metadata": {},
     "outputs": [],
     "prompt_number": 34
    },
    {
     "cell_type": "code",
     "collapsed": false,
     "input": [
      "cp73_wide_info = mo430info.merge(cp73_wide, left_index=True, right_index=True)"
     ],
     "language": "python",
     "metadata": {},
     "outputs": [],
     "prompt_number": 164
    },
    {
     "cell_type": "code",
     "collapsed": false,
     "input": [
      "cPickle.dump(cp73_wide_info, \"/data/adrian/data/temp/cp73_wide.pickle\""
     ],
     "language": "python",
     "metadata": {},
     "outputs": [
      {
       "output_type": "pyout",
       "prompt_number": 337,
       "text": [
        "<class 'pandas.core.frame.DataFrame'>\n",
        "Index: 38381 entries, 1415670_at to AFFX-TransRecMur/X57349_M_at\n",
        "Data columns:\n",
        "probe_id                             38381  non-null values\n",
        "symbol                               38381  non-null values\n",
        "gene_name                            38381  non-null values\n",
        "('cp73_low_vs_saline', 'cv_exp')     38381  non-null values\n",
        "('cp73_low_vs_saline', 'fc_exp')     38381  non-null values\n",
        "('cp73_low_vs_saline', 'mean_exp')   38381  non-null values\n",
        "('cp73_low_vs_saline', 'median_exp') 38381  non-null values\n",
        "('cp73_low_vs_saline', 'std_exp')    38381  non-null values\n",
        "('cp73_low_vs_saline', 't')          38381  non-null values\n",
        "('cp73_low_vs_saline', 'pval')       38381  non-null values\n",
        "('cp73_low_vs_saline', 'bonf')       38381  non-null values\n",
        "('cp73_low_vs_saline', 'bh')         38381  non-null values\n",
        "('cp73_high_vs_saline', 'cv_exp')    38381  non-null values\n",
        "('cp73_high_vs_saline', 'fc_exp')    38381  non-null values\n",
        "('cp73_high_vs_saline', 'mean_exp')  38381  non-null values\n",
        "('cp73_high_vs_saline', 'median_exp')38381  non-null values\n",
        "('cp73_high_vs_saline', 'std_exp')   38381  non-null values\n",
        "('cp73_high_vs_saline', 't')         38381  non-null values\n",
        "('cp73_high_vs_saline', 'pval')      38381  non-null values\n",
        "('cp73_high_vs_saline', 'bonf')      38381  non-null values\n",
        "('cp73_high_vs_saline', 'bh')        38381  non-null values\n",
        "('cp73_high_vs_low', 'cv_exp')       38381  non-null values\n",
        "('cp73_high_vs_low', 'fc_exp')       38381  non-null values\n",
        "('cp73_high_vs_low', 'mean_exp')     38381  non-null values\n",
        "('cp73_high_vs_low', 'median_exp')   38381  non-null values\n",
        "('cp73_high_vs_low', 'std_exp')      38381  non-null values\n",
        "('cp73_high_vs_low', 't')            38381  non-null values\n",
        "('cp73_high_vs_low', 'pval')         38381  non-null values\n",
        "('cp73_high_vs_low', 'bonf')         38381  non-null values\n",
        "('cp73_high_vs_low', 'bh')           38381  non-null values\n",
        "('cp73_allchronic_AIM', 'model')     38381  non-null values\n",
        "('cp73_allchronic_AIM', 'pval')      38381  non-null values\n",
        "('cp73_allchronic_AIM', 'expr_coef') 38381  non-null values\n",
        "('cp73_allchronic_AIM', 'bh')        38381  non-null values\n",
        "('cp73_allchronic_AIM', 'bonf')      38381  non-null values\n",
        "('cp73_allchronic_AIM', 'sign')      38381  non-null values\n",
        "('cp73_allchronic_AIM', 'rsq_adj')   38381  non-null values\n",
        "('cp73_highchronic_AIM', 'model')    38381  non-null values\n",
        "('cp73_highchronic_AIM', 'pval')     38381  non-null values\n",
        "('cp73_highchronic_AIM', 'expr_coef')38381  non-null values\n",
        "('cp73_highchronic_AIM', 'bh')       38381  non-null values\n",
        "('cp73_highchronic_AIM', 'bonf')     38381  non-null values\n",
        "('cp73_highchronic_AIM', 'sign')     38381  non-null values\n",
        "('cp73_highchronic_AIM', 'rsq_adj')  38381  non-null values\n",
        "('cp73_lowchronic_AIM', 'model')     38381  non-null values\n",
        "('cp73_lowchronic_AIM', 'pval')      38381  non-null values\n",
        "('cp73_lowchronic_AIM', 'expr_coef') 38381  non-null values\n",
        "('cp73_lowchronic_AIM', 'bh')        38381  non-null values\n",
        "('cp73_lowchronic_AIM', 'bonf')      38381  non-null values\n",
        "('cp73_lowchronic_AIM', 'sign')      38381  non-null values\n",
        "('cp73_lowchronic_AIM', 'rsq_adj')   38381  non-null values\n",
        "dtypes: float64(45), object(6)"
       ]
      }
     ],
     "prompt_number": 337
    },
    {
     "cell_type": "code",
     "collapsed": false,
     "input": [
      "cp73_wide_info = cp73_wide_info.drop([('cp73_lowchronic_AIM', 'model')], axis=1)"
     ],
     "language": "python",
     "metadata": {},
     "outputs": [],
     "prompt_number": 344
    },
    {
     "cell_type": "code",
     "collapsed": false,
     "input": [
      "cPickle.dump(cp73_wide_info, open(\"/data/adrian/data/temp/cp73_wide.pandas.pickle\",\"wb\") )"
     ],
     "language": "python",
     "metadata": {},
     "outputs": [],
     "prompt_number": 346
    },
    {
     "cell_type": "code",
     "collapsed": false,
     "input": [
      "cp73_wide_info = cPickle.load(open(\"/data/adrian/data/temp/cp73_wide.pandas.pickle\"))"
     ],
     "language": "python",
     "metadata": {},
     "outputs": [],
     "prompt_number": 4
    },
    {
     "cell_type": "code",
     "collapsed": false,
     "input": [
      "cs = cp73_wide_info.select( \n",
      " lambda x: cp73_wide_info.ix[x, ('cp73_low_vs_saline', 'bh')] < 0.10 \n",
      "    and cp73_wide_info.ix[x, ('cp73_high_vs_low', 'fc_exp')] > 0)"
     ],
     "language": "python",
     "metadata": {},
     "outputs": [],
     "prompt_number": 80
    },
    {
     "cell_type": "code",
     "collapsed": false,
     "input": [
      "symbol_list = [s.upper() for s in cs.symbol]\n",
      "symbol_set = set(symbol_list)\n",
      "\n",
      "match_set = []\n",
      "for (set_name, set_contents) in alib.wikipath.mouse_wp_symbols.items():\n",
      "#    print [s for s in symbol_list if s in set_contents]\n",
      "#    print sum([s in set_contents for s in set(symbol_list)]),  symbol_set.intersection(set_contents)\n",
      "    match_set.append( (set_name, sum([s in set_contents for s in set(symbol_list)]), symbol_set.intersection(set_contents), len(set_contents) ) ) \n",
      "\n",
      "overlaps = pd.DataFrame(match_set, columns = [\"set_name\", \"match_count\", \"intersect_list\", \"total\"])\n"
     ],
     "language": "python",
     "metadata": {},
     "outputs": [],
     "prompt_number": 81
    },
    {
     "cell_type": "code",
     "collapsed": false,
     "input": [
      "set([\"a\", \"b\", \"c\"]).intersection([\"b\", \"a\"])"
     ],
     "language": "python",
     "metadata": {},
     "outputs": [
      {
       "output_type": "pyout",
       "prompt_number": 67,
       "text": [
        "set(['a', 'b'])"
       ]
      }
     ],
     "prompt_number": 67
    },
    {
     "cell_type": "code",
     "collapsed": false,
     "input": [
      "cs_symbol_set = set([s.upper() for s in cs.symbol]"
     ],
     "language": "python",
     "metadata": {},
     "outputs": [],
     "prompt_number": 45
    },
    {
     "cell_type": "code",
     "collapsed": false,
     "input": [
      "s.intersection( )"
     ],
     "language": "python",
     "metadata": {},
     "outputs": []
    },
    {
     "cell_type": "code",
     "collapsed": false,
     "input": [
      "sys.path.append(\"/data/adrian/code/projects/broad/\")"
     ],
     "language": "python",
     "metadata": {},
     "outputs": [],
     "prompt_number": 8
    },
    {
     "cell_type": "code",
     "collapsed": false,
     "input": [
      "overlaps.sort(\"match_count\", ascending=False)[0:50]"
     ],
     "language": "python",
     "metadata": {},
     "outputs": [
      {
       "ename": "NameError",
       "evalue": "name 'overlaps' is not defined",
       "output_type": "pyerr",
       "traceback": [
        "\u001b[0;31m---------------------------------------------------------------------------\u001b[0m\n\u001b[0;31mNameError\u001b[0m                                 Traceback (most recent call last)",
        "\u001b[0;32m<ipython-input-82-e47ea19b61bc>\u001b[0m in \u001b[0;36m<module>\u001b[0;34m()\u001b[0m\n\u001b[0;32m----> 1\u001b[0;31m \u001b[0moverlaps\u001b[0m\u001b[0;34m.\u001b[0m\u001b[0msort\u001b[0m\u001b[0;34m(\u001b[0m\u001b[0;34m\"match_count\"\u001b[0m\u001b[0;34m,\u001b[0m \u001b[0mascending\u001b[0m\u001b[0;34m=\u001b[0m\u001b[0mFalse\u001b[0m\u001b[0;34m)\u001b[0m\u001b[0;34m[\u001b[0m\u001b[0;36m0\u001b[0m\u001b[0;34m:\u001b[0m\u001b[0;36m50\u001b[0m\u001b[0;34m]\u001b[0m\u001b[0;34m\u001b[0m\u001b[0m\n\u001b[0m",
        "\u001b[0;31mNameError\u001b[0m: name 'overlaps' is not defined"
       ]
      }
     ],
     "prompt_number": 82
    },
    {
     "cell_type": "code",
     "collapsed": false,
     "input": [
      "statsmodels.sandbox.stats.multicomp.multipletests([0.01, 0.01, 0.05], method=\"fdr_bh\", alpha=0.10)[1]"
     ],
     "language": "python",
     "metadata": {},
     "outputs": [
      {
       "output_type": "pyout",
       "prompt_number": 172,
       "text": [
        "array([ 0.015,  0.015,  0.05 ])"
       ]
      }
     ],
     "prompt_number": 172
    },
    {
     "cell_type": "code",
     "collapsed": false,
     "input": [
      "cp73_wide_info.select( lambda x: cp73_wide_info.ix[x, ('cp73_high_vs_low', 'fc_exp')] > 1 and \n",
      "        cp73_wide_info.ix[x, ('cp73_high_vs_low', 'bh')] > 0.2)[[('cp73_high_vs_low', 'fc_exp'), ('cp73_high_vs_low', 'pval')]]"
     ],
     "language": "python",
     "metadata": {},
     "outputs": [
      {
       "ename": "NameError",
       "evalue": "name 'cp73_wide_info' is not defined",
       "output_type": "pyerr",
       "traceback": [
        "\u001b[0;31m---------------------------------------------------------------------------\u001b[0m\n\u001b[0;31mNameError\u001b[0m                                 Traceback (most recent call last)",
        "\u001b[0;32m<ipython-input-75-6e440e820a45>\u001b[0m in \u001b[0;36m<module>\u001b[0;34m()\u001b[0m\n\u001b[0;32m----> 1\u001b[0;31m cp73_wide_info.select( lambda x: cp73_wide_info.ix[x, ('cp73_high_vs_low', 'fc_exp')] > 1 and \n\u001b[0m\u001b[1;32m      2\u001b[0m         cp73_wide_info.ix[x, ('cp73_high_vs_low', 'bh')] > 0.2)[[('cp73_high_vs_low', 'fc_exp'), ('cp73_high_vs_low', 'pval')]]\n",
        "\u001b[0;31mNameError\u001b[0m: name 'cp73_wide_info' is not defined"
       ]
      }
     ],
     "prompt_number": 75
    },
    {
     "cell_type": "code",
     "collapsed": false,
     "input": [
      "cp73_wide_info[('cp73_high_vs_low', 'fc_exp')] > 1 & cp73_wide_info[('cp73_high_vs_low', 'pval')] > 0.2"
     ],
     "language": "python",
     "metadata": {},
     "outputs": [
      {
       "ename": "NameError",
       "evalue": "name 'cp73_wide_info' is not defined",
       "output_type": "pyerr",
       "traceback": [
        "\u001b[0;31m---------------------------------------------------------------------------\u001b[0m\n\u001b[0;31mNameError\u001b[0m                                 Traceback (most recent call last)",
        "\u001b[0;32m<ipython-input-46-d29157ee01d0>\u001b[0m in \u001b[0;36m<module>\u001b[0;34m()\u001b[0m\n\u001b[0;32m----> 1\u001b[0;31m \u001b[0mcp73_wide_info\u001b[0m\u001b[0;34m[\u001b[0m\u001b[0;34m(\u001b[0m\u001b[0;34m'cp73_high_vs_low'\u001b[0m\u001b[0;34m,\u001b[0m \u001b[0;34m'fc_exp'\u001b[0m\u001b[0;34m)\u001b[0m\u001b[0;34m]\u001b[0m \u001b[0;34m>\u001b[0m \u001b[0;36m1\u001b[0m \u001b[0;34m&\u001b[0m \u001b[0mcp73_wide_info\u001b[0m\u001b[0;34m[\u001b[0m\u001b[0;34m(\u001b[0m\u001b[0;34m'cp73_high_vs_low'\u001b[0m\u001b[0;34m,\u001b[0m \u001b[0;34m'pval'\u001b[0m\u001b[0;34m)\u001b[0m\u001b[0;34m]\u001b[0m \u001b[0;34m>\u001b[0m \u001b[0;36m0.2\u001b[0m\u001b[0;34m\u001b[0m\u001b[0m\n\u001b[0m",
        "\u001b[0;31mNameError\u001b[0m: name 'cp73_wide_info' is not defined"
       ]
      }
     ],
     "prompt_number": 46
    },
    {
     "cell_type": "code",
     "collapsed": false,
     "input": [
      "cp101_wide_info = mo430info.merge(cp101_wide_info, left_index=True, right_index=True)"
     ],
     "language": "python",
     "metadata": {},
     "outputs": [],
     "prompt_number": 441
    },
    {
     "cell_type": "code",
     "collapsed": false,
     "input": [
      "# load tukeyHSD pvals from file\n",
      "cp73_tukey = pandas.DataFrame.from_csv(\"/data/adrian/Dropbox/Projects/Broad/PD_mouse/results/2013_june_13/cp73_tukeyHSD.tab\", header=None, index_col=None, sep=\"\\t\" )\n",
      "cp73_tukey.columns = [\"contrast\", \"pval\", \"probeset\"]\n",
      "# pivot so that they're indexed by probeset\n",
      "cp73_tukey_pivot = cp73_tukey.pivot_table(values=\"pval\", rows=\"probeset\", cols=\"contrast\")\n",
      "cp73_tukey_pivot.columns = [\"CP73 TukeyHSD \" + a for a in cp73_tukey_pivot.columns]\n",
      "\n",
      "# load tukeyHSD pvals from file\n",
      "cp101_tukey = pandas.DataFrame.from_csv(\"/data/adrian/Dropbox/Projects/Broad/PD_mouse/results/2013_june_13/cp101_tukeyHSD.tab\", header=None, index_col=None, sep=\"\\t\" )\n",
      "cp101_tukey.columns = [\"contrast\", \"pval\", \"probeset\"]\n",
      "# pivot so that they're indexed by probeset\n",
      "cp101_tukey_pivot = cp101_tukey.pivot_table(values=\"pval\", rows=\"probeset\", cols=\"contrast\")\n",
      "cp101_tukey_pivot.columns = [\"CP101 TukeyHSD \" + a for a in cp101_tukey_pivot.columns]\n"
     ],
     "language": "python",
     "metadata": {},
     "outputs": [],
     "prompt_number": 68
    },
    {
     "cell_type": "code",
     "collapsed": false,
     "input": [
      "cp73_tukey_pivot"
     ],
     "language": "python",
     "metadata": {},
     "outputs": [
      {
       "html": [
        "<pre>\n",
        "&ltclass 'pandas.core.frame.DataFrame'&gt\n",
        "Index: 45101 entries, 1415670_at to AFFX-r2-P1-cre-5_at\n",
        "Data columns (total 15 columns):\n",
        "CP73 TukeyHSD 6-OHDA.Acute saline-6-OHDA.Acute high levodopa              45101  non-null values\n",
        "CP73 TukeyHSD 6-OHDA.Chronic high levodopa-6-OHDA.Acute high levodopa     45101  non-null values\n",
        "CP73 TukeyHSD 6-OHDA.Chronic high levodopa-6-OHDA.Acute saline            45101  non-null values\n",
        "CP73 TukeyHSD 6-OHDA.Chronic low levodopa-6-OHDA.Acute high levodopa      45101  non-null values\n",
        "CP73 TukeyHSD 6-OHDA.Chronic low levodopa-6-OHDA.Acute saline             45101  non-null values\n",
        "CP73 TukeyHSD 6-OHDA.Chronic low levodopa-6-OHDA.Chronic high levodopa    45101  non-null values\n",
        "CP73 TukeyHSD 6-OHDA.Chronic saline-6-OHDA.Acute high levodopa            45101  non-null values\n",
        "CP73 TukeyHSD 6-OHDA.Chronic saline-6-OHDA.Acute saline                   45101  non-null values\n",
        "CP73 TukeyHSD 6-OHDA.Chronic saline-6-OHDA.Chronic high levodopa          45101  non-null values\n",
        "CP73 TukeyHSD 6-OHDA.Chronic saline-6-OHDA.Chronic low levodopa           45101  non-null values\n",
        "CP73 TukeyHSD Ascorbate.Chronic saline-6-OHDA.Acute high levodopa         45101  non-null values\n",
        "CP73 TukeyHSD Ascorbate.Chronic saline-6-OHDA.Acute saline                45101  non-null values\n",
        "CP73 TukeyHSD Ascorbate.Chronic saline-6-OHDA.Chronic high levodopa       45101  non-null values\n",
        "CP73 TukeyHSD Ascorbate.Chronic saline-6-OHDA.Chronic low levodopa        45101  non-null values\n",
        "CP73 TukeyHSD Ascorbate.Chronic saline-6-OHDA.Chronic saline              45101  non-null values\n",
        "dtypes: float64(15)\n",
        "</pre>"
       ],
       "output_type": "pyout",
       "prompt_number": 88,
       "text": [
        "<class 'pandas.core.frame.DataFrame'>\n",
        "Index: 45101 entries, 1415670_at to AFFX-r2-P1-cre-5_at\n",
        "Data columns (total 15 columns):\n",
        "CP73 TukeyHSD 6-OHDA.Acute saline-6-OHDA.Acute high levodopa              45101  non-null values\n",
        "CP73 TukeyHSD 6-OHDA.Chronic high levodopa-6-OHDA.Acute high levodopa     45101  non-null values\n",
        "CP73 TukeyHSD 6-OHDA.Chronic high levodopa-6-OHDA.Acute saline            45101  non-null values\n",
        "CP73 TukeyHSD 6-OHDA.Chronic low levodopa-6-OHDA.Acute high levodopa      45101  non-null values\n",
        "CP73 TukeyHSD 6-OHDA.Chronic low levodopa-6-OHDA.Acute saline             45101  non-null values\n",
        "CP73 TukeyHSD 6-OHDA.Chronic low levodopa-6-OHDA.Chronic high levodopa    45101  non-null values\n",
        "CP73 TukeyHSD 6-OHDA.Chronic saline-6-OHDA.Acute high levodopa            45101  non-null values\n",
        "CP73 TukeyHSD 6-OHDA.Chronic saline-6-OHDA.Acute saline                   45101  non-null values\n",
        "CP73 TukeyHSD 6-OHDA.Chronic saline-6-OHDA.Chronic high levodopa          45101  non-null values\n",
        "CP73 TukeyHSD 6-OHDA.Chronic saline-6-OHDA.Chronic low levodopa           45101  non-null values\n",
        "CP73 TukeyHSD Ascorbate.Chronic saline-6-OHDA.Acute high levodopa         45101  non-null values\n",
        "CP73 TukeyHSD Ascorbate.Chronic saline-6-OHDA.Acute saline                45101  non-null values\n",
        "CP73 TukeyHSD Ascorbate.Chronic saline-6-OHDA.Chronic high levodopa       45101  non-null values\n",
        "CP73 TukeyHSD Ascorbate.Chronic saline-6-OHDA.Chronic low levodopa        45101  non-null values\n",
        "CP73 TukeyHSD Ascorbate.Chronic saline-6-OHDA.Chronic saline              45101  non-null values\n",
        "dtypes: float64(15)"
       ]
      }
     ],
     "prompt_number": 88
    },
    {
     "cell_type": "code",
     "collapsed": false,
     "input": [
      "cp73_tukey_pivot.sort_index(by=\"CP73 TukeyHSD Ascorbate.Chronic saline-6-OHDA.Chronic saline\", ascending=True)[0:10]"
     ],
     "language": "python",
     "metadata": {},
     "outputs": [
      {
       "html": [
        "<pre>\n",
        "&ltclass 'pandas.core.frame.DataFrame'&gt\n",
        "Index: 10 entries, 1416407_at to 1458539_at\n",
        "Data columns (total 15 columns):\n",
        "CP73 TukeyHSD 6-OHDA.Acute saline-6-OHDA.Acute high levodopa              10  non-null values\n",
        "CP73 TukeyHSD 6-OHDA.Chronic high levodopa-6-OHDA.Acute high levodopa     10  non-null values\n",
        "CP73 TukeyHSD 6-OHDA.Chronic high levodopa-6-OHDA.Acute saline            10  non-null values\n",
        "CP73 TukeyHSD 6-OHDA.Chronic low levodopa-6-OHDA.Acute high levodopa      10  non-null values\n",
        "CP73 TukeyHSD 6-OHDA.Chronic low levodopa-6-OHDA.Acute saline             10  non-null values\n",
        "CP73 TukeyHSD 6-OHDA.Chronic low levodopa-6-OHDA.Chronic high levodopa    10  non-null values\n",
        "CP73 TukeyHSD 6-OHDA.Chronic saline-6-OHDA.Acute high levodopa            10  non-null values\n",
        "CP73 TukeyHSD 6-OHDA.Chronic saline-6-OHDA.Acute saline                   10  non-null values\n",
        "CP73 TukeyHSD 6-OHDA.Chronic saline-6-OHDA.Chronic high levodopa          10  non-null values\n",
        "CP73 TukeyHSD 6-OHDA.Chronic saline-6-OHDA.Chronic low levodopa           10  non-null values\n",
        "CP73 TukeyHSD Ascorbate.Chronic saline-6-OHDA.Acute high levodopa         10  non-null values\n",
        "CP73 TukeyHSD Ascorbate.Chronic saline-6-OHDA.Acute saline                10  non-null values\n",
        "CP73 TukeyHSD Ascorbate.Chronic saline-6-OHDA.Chronic high levodopa       10  non-null values\n",
        "CP73 TukeyHSD Ascorbate.Chronic saline-6-OHDA.Chronic low levodopa        10  non-null values\n",
        "CP73 TukeyHSD Ascorbate.Chronic saline-6-OHDA.Chronic saline              10  non-null values\n",
        "dtypes: float64(15)\n",
        "</pre>"
       ],
       "output_type": "pyout",
       "prompt_number": 80,
       "text": [
        "              CP73 TukeyHSD 6-OHDA.Acute saline-6-OHDA.Acute high levodopa  CP73 TukeyHSD 6-OHDA.Chronic high levodopa-6-OHDA.Acute high levodopa  CP73 TukeyHSD 6-OHDA.Chronic high levodopa-6-OHDA.Acute saline  CP73 TukeyHSD 6-OHDA.Chronic low levodopa-6-OHDA.Acute high levodopa  CP73 TukeyHSD 6-OHDA.Chronic low levodopa-6-OHDA.Acute saline  CP73 TukeyHSD 6-OHDA.Chronic low levodopa-6-OHDA.Chronic high levodopa  CP73 TukeyHSD 6-OHDA.Chronic saline-6-OHDA.Acute high levodopa  \\\n",
        "probeset                                                                                                                                                                                                                                                                                                                                                                                                                                                                                         \n",
        "1416407_at                                                    4.116542e-01                                                           1.305935e-06                                                    1.511505e-09                                                          3.733693e-03                                                   5.679485e-06                                                                0.157103                                                    5.942270e-02   \n",
        "1416406_at                                                    9.088814e-01                                                           1.504148e-02                                                    7.865973e-04                                                          8.189370e-01                                                   2.270022e-01                                                                0.214638                                                    7.619504e-06   \n",
        "1436094_at                                                    1.120781e-11                                                           1.674280e-01                                                    1.120803e-11                                                          3.170854e-06                                                   1.122047e-11                                                                0.010836                                                    1.120781e-11   \n",
        "1424967_x_at                                                  2.350608e-01                                                           2.107486e-10                                                    3.037289e-06                                                          4.435121e-08                                                   5.088156e-04                                                                0.584798                                                    1.428187e-01   \n",
        "1426766_at                                                    8.737927e-06                                                           1.066324e-08                                                    7.031316e-01                                                          1.529422e-02                                                   1.241833e-01                                                                0.001065                                                    2.174631e-04   \n",
        "1418726_a_at                                                  7.529726e-01                                                           2.488303e-08                                                    9.982283e-06                                                          1.022552e-06                                                   3.333665e-04                                                                0.857777                                                    1.683643e-01   \n",
        "1436584_at                                                    1.120803e-11                                                           3.666160e-08                                                    1.917947e-10                                                          1.144873e-11                                                   8.400898e-06                                                                0.028997                                                    1.120781e-11   \n",
        "1426278_at                                                    8.872012e-01                                                           1.932393e-01                                                    8.463107e-01                                                          8.628854e-01                                                   1.000000e+00                                                                0.790841                                                    4.448932e-01   \n",
        "1428466_at                                                    9.764327e-01                                                           5.481005e-01                                                    1.771727e-01                                                          9.114276e-01                                                   5.040495e-01                                                                0.978425                                                    4.145002e-01   \n",
        "1458539_at                                                    2.072275e-06                                                           1.130133e-02                                                    1.436873e-11                                                          2.453099e-01                                                   2.253798e-10                                                                0.736436                                                    1.121070e-11   \n",
        "\n",
        "              CP73 TukeyHSD 6-OHDA.Chronic saline-6-OHDA.Acute saline  CP73 TukeyHSD 6-OHDA.Chronic saline-6-OHDA.Chronic high levodopa  CP73 TukeyHSD 6-OHDA.Chronic saline-6-OHDA.Chronic low levodopa  CP73 TukeyHSD Ascorbate.Chronic saline-6-OHDA.Acute high levodopa  CP73 TukeyHSD Ascorbate.Chronic saline-6-OHDA.Acute saline  CP73 TukeyHSD Ascorbate.Chronic saline-6-OHDA.Chronic high levodopa  CP73 TukeyHSD Ascorbate.Chronic saline-6-OHDA.Chronic low levodopa  \\\n",
        "probeset                                                                                                                                                                                                                                                                                                                                                                                                                                                                           \n",
        "1416407_at                                                   0.955497                                                      2.106393e-11                                                     5.133124e-08                                                       7.380491e-10                                                1.254252e-11                                                         2.756395e-01                                                        3.505720e-04   \n",
        "1416406_at                                                   0.000550                                                      1.948930e-11                                                     2.334201e-08                                                       5.483251e-05                                                2.114112e-06                                                         4.510133e-01                                                        1.720799e-03   \n",
        "1436094_at                                                   0.994654                                                      1.120781e-11                                                     1.121025e-11                                                       1.117213e-08                                                1.243439e-11                                                         5.142314e-05                                                        4.654682e-01   \n",
        "1424967_x_at                                                 0.999994                                                      1.552560e-06                                                     3.509977e-04                                                       1.121558e-11                                                1.232592e-11                                                         1.039605e-03                                                        2.679911e-06   \n",
        "1426766_at                                                   0.857783                                                      8.483189e-02                                                     6.869159e-01                                                       1.492613e-04                                                1.142719e-11                                                         1.121669e-11                                                        2.046973e-10   \n",
        "1418726_a_at                                                 0.927784                                                      1.308315e-04                                                     4.245512e-03                                                       1.123868e-11                                                1.331357e-11                                                         6.481133e-04                                                        8.786397e-06   \n",
        "1436584_at                                                   0.002231                                                      1.121048e-11                                                     1.145450e-11                                                       1.125910e-11                                                8.092681e-04                                                         1.569408e-03                                                        8.618826e-01   \n",
        "1426278_at                                                   0.982253                                                      9.955363e-01                                                     9.723083e-01                                                       2.021382e-07                                                6.374878e-09                                                         2.594225e-11                                                        8.498285e-10   \n",
        "1428466_at                                                   0.883020                                                      6.786605e-03                                                     4.112989e-02                                                       1.165923e-11                                                2.788247e-11                                                         1.122002e-11                                                        1.123024e-11   \n",
        "1458539_at                                                   0.000000                                                      1.120781e-11                                                     1.120781e-11                                                       1.882593e-04                                                7.468102e-01                                                         2.576218e-10                                                        2.225562e-08   \n",
        "\n",
        "              CP73 TukeyHSD Ascorbate.Chronic saline-6-OHDA.Chronic saline  \n",
        "probeset                                                                    \n",
        "1416407_at                                                    1.124623e-11  \n",
        "1416406_at                                                    1.126621e-11  \n",
        "1436094_at                                                    1.126976e-11  \n",
        "1424967_x_at                                                  1.153044e-11  \n",
        "1426766_at                                                    1.316758e-11  \n",
        "1418726_a_at                                                  2.412204e-11  \n",
        "1436584_at                                                    8.156331e-11  \n",
        "1426278_at                                                    1.075094e-10  \n",
        "1428466_at                                                    2.073283e-10  \n",
        "1458539_at                                                    4.641599e-10  "
       ]
      }
     ],
     "prompt_number": 80
    },
    {
     "cell_type": "code",
     "collapsed": false,
     "input": [
      "cp73_m = cp73_wide_info.merge( cp73_tukey_pivot, left_index=True, right_index=True )"
     ],
     "language": "python",
     "metadata": {},
     "outputs": [],
     "prompt_number": 165
    },
    {
     "cell_type": "code",
     "collapsed": false,
     "input": [
      "cp101_m = cp101_wide_info.merge( cp101_tukey_pivot, left_index=True, right_index=True )"
     ],
     "language": "python",
     "metadata": {},
     "outputs": []
    },
    {
     "cell_type": "code",
     "collapsed": false,
     "input": [
      "sum( cp73_m[\"CP73 TukeyHSD Chronic saline-Acute high levodopa\"] < 0.05 )"
     ],
     "language": "python",
     "metadata": {},
     "outputs": [
      {
       "output_type": "pyout",
       "prompt_number": 170,
       "text": [
        "13149"
       ]
      }
     ],
     "prompt_number": 170
    },
    {
     "cell_type": "code",
     "collapsed": false,
     "input": [
      "cp73_m[\"highlevo_vs_saline_tukey_bh\"] = statsmodels.sandbox.stats.multicomp.multipletests(\n",
      "        cp73_m[\"CP73 TukeyHSD Chronic saline-Chronic high levodopa\"], \n",
      "        method=\"fdr_bh\",\n",
      "        alpha=0.10)[1]\n",
      "cp73_m[\"lowlevo_vs_saline_tukey_bh\"] = statsmodels.sandbox.stats.multicomp.multipletests(\n",
      "        cp73_m[\"CP73 TukeyHSD Chronic saline-Chronic low levodopa\"], \n",
      "        method=\"fdr_bh\", \n",
      "        alpha=0.10)[1]\n",
      "cp73_m[\"highlevo_vs_lowlevo_tukey_bh\"] = statsmodels.sandbox.stats.multicomp.multipletests(\n",
      "        cp73_m[\"CP73 TukeyHSD Chronic low levodopa-Chronic high levodopa\"], \n",
      "        method=\"fdr_bh\", \n",
      "        alpha=0.10)[1]\n",
      "cp73_m[\"acute_vs_saline_tukey_bh\"] = statsmodels.sandbox.stats.multicomp.multipletests(\n",
      "        cp73_m[\"CP73 TukeyHSD Acute saline-Acute high levodopa\"], \n",
      "        method=\"fdr_bh\", \n",
      "        alpha=0.10)[1]"
     ],
     "language": "python",
     "metadata": {},
     "outputs": [],
     "prompt_number": 168
    },
    {
     "cell_type": "code",
     "collapsed": false,
     "input": [
      "cp101_m[\"highlevo_vs_saline_tukey_bh\"] = statsmodels.sandbox.stats.multicomp.multipletests(\n",
      "        cp101_m[\"CP101 TukeyHSD Chronic saline-Chronic high levodopa\"], \n",
      "        method=\"fdr_bh\",\n",
      "        alpha=0.10)[1]\n",
      "cp101_m[\"lowlevo_vs_saline_tukey_bh\"] = statsmodels.sandbox.stats.multicomp.multipletests(\n",
      "        cp101_m[\"CP101 TukeyHSD Chronic saline-Chronic low levodopa\"], \n",
      "        method=\"fdr_bh\", \n",
      "        alpha=0.10)[1]\n",
      "cp101_m[\"highlevo_vs_lowlevo_tukey_bh\"] = statsmodels.sandbox.stats.multicomp.multipletests(\n",
      "        cp101_m[\"CP101 TukeyHSD Chronic low levodopa-Chronic high levodopa\"], \n",
      "        method=\"fdr_bh\", \n",
      "        alpha=0.10)[1]"
     ],
     "language": "python",
     "metadata": {},
     "outputs": [],
     "prompt_number": 39
    },
    {
     "cell_type": "code",
     "collapsed": false,
     "input": [
      "sum( statsmodels.sandbox.stats.multicomp.multipletests(cp73_m[('cp73_low_vs_saline', 'pval')], method=\"fdr_bh\", alpha=0.05)[0] )"
     ],
     "language": "python",
     "metadata": {},
     "outputs": [
      {
       "output_type": "pyout",
       "prompt_number": 410,
       "text": [
        "8949"
       ]
      }
     ],
     "prompt_number": 410
    },
    {
     "cell_type": "code",
     "collapsed": false,
     "input": [
      "cp73_m.select( lambda x: cp73_m.ix[x, \"highlevo_vs_saline_tukey_bh\"] < 0.20 and cp73_m.ix[x, ('cp73_high_vs_saline', 'fc_exp')] > 2).shape"
     ],
     "language": "python",
     "metadata": {},
     "outputs": [
      {
       "output_type": "pyout",
       "prompt_number": 428,
       "text": [
        "(306, 60)"
       ]
      }
     ],
     "prompt_number": 428
    },
    {
     "cell_type": "code",
     "collapsed": false,
     "input": [
      "count_table_2fold_up"
     ],
     "language": "python",
     "metadata": {},
     "outputs": [
      {
       "html": [
        "<div style=\"max-height:1000px;max-width:1500px;overflow:auto;\">\n",
        "<table border=\"1\" class=\"dataframe\">\n",
        "  <thead>\n",
        "    <tr style=\"text-align: right;\">\n",
        "      <th></th>\n",
        "      <th>CP101</th>\n",
        "      <th>CP73</th>\n",
        "    </tr>\n",
        "  </thead>\n",
        "  <tbody>\n",
        "    <tr>\n",
        "      <th>high vs. low</th>\n",
        "      <td>  0</td>\n",
        "      <td>  63</td>\n",
        "    </tr>\n",
        "    <tr>\n",
        "      <th>high vs. saline</th>\n",
        "      <td> 86</td>\n",
        "      <td> 916</td>\n",
        "    </tr>\n",
        "    <tr>\n",
        "      <th>low vs. saline</th>\n",
        "      <td> 21</td>\n",
        "      <td> 548</td>\n",
        "    </tr>\n",
        "  </tbody>\n",
        "</table>\n",
        "</div>"
       ],
       "output_type": "pyout",
       "prompt_number": 67,
       "text": [
        "                 CP101  CP73\n",
        "high vs. low         0    63\n",
        "high vs. saline     86   916\n",
        "low vs. saline      21   548"
       ]
      }
     ],
     "prompt_number": 67
    },
    {
     "cell_type": "code",
     "collapsed": false,
     "input": [
      "count_table_2fold_down"
     ],
     "language": "python",
     "metadata": {},
     "outputs": [
      {
       "html": [
        "<div style=\"max-height:1000px;max-width:1500px;overflow:auto;\">\n",
        "<table border=\"1\" class=\"dataframe\">\n",
        "  <thead>\n",
        "    <tr style=\"text-align: right;\">\n",
        "      <th></th>\n",
        "      <th>CP101</th>\n",
        "      <th>CP73</th>\n",
        "    </tr>\n",
        "  </thead>\n",
        "  <tbody>\n",
        "    <tr>\n",
        "      <th>high vs. low</th>\n",
        "      <td>  1</td>\n",
        "      <td>  18</td>\n",
        "    </tr>\n",
        "    <tr>\n",
        "      <th>high vs. saline</th>\n",
        "      <td> 40</td>\n",
        "      <td> 979</td>\n",
        "    </tr>\n",
        "    <tr>\n",
        "      <th>low vs. saline</th>\n",
        "      <td> 10</td>\n",
        "      <td> 405</td>\n",
        "    </tr>\n",
        "  </tbody>\n",
        "</table>\n",
        "</div>"
       ],
       "output_type": "pyout",
       "prompt_number": 68,
       "text": [
        "                 CP101  CP73\n",
        "high vs. low         1    18\n",
        "high vs. saline     40   979\n",
        "low vs. saline      10   405"
       ]
      }
     ],
     "prompt_number": 68
    },
    {
     "cell_type": "code",
     "collapsed": false,
     "input": [
      "cPickle.dump(cp73_m, open(\"/data/adrian/Dropbox/Projects/Broad/PD_mouse/results/jan30/cp73_m.pandas.pickle\", \"wb\"), protocol=2)\n",
      "cPickle.dump(cp101_m, open(\"/data/adrian/Dropbox/Projects/Broad/PD_mouse/results/jan30/cp101_m.pandas.pickle\", \"wb\"), protocol=2)"
     ],
     "language": "python",
     "metadata": {},
     "outputs": [],
     "prompt_number": 81
    },
    {
     "cell_type": "code",
     "collapsed": false,
     "input": [
      "cp101_m.select( lambda x: cp101_m.ix[x, \"lowlevo_vs_saline_tukey_bh\"] < 0.10 and cp101_m.ix[x, ('cp101_low_vs_saline', 'fc_exp')] > 1).shape[0]"
     ],
     "language": "python",
     "metadata": {},
     "outputs": [
      {
       "ename": "NameError",
       "evalue": "name 'cp101_m' is not defined",
       "output_type": "pyerr",
       "traceback": [
        "\u001b[1;31m---------------------------------------------------------------------------\u001b[0m\n\u001b[1;31mNameError\u001b[0m                                 Traceback (most recent call last)",
        "\u001b[1;32m<ipython-input-35-5365c4ffae49>\u001b[0m in \u001b[0;36m<module>\u001b[1;34m()\u001b[0m\n\u001b[1;32m----> 1\u001b[1;33m \u001b[0mcp101_m\u001b[0m\u001b[1;33m.\u001b[0m\u001b[0mselect\u001b[0m\u001b[1;33m(\u001b[0m \u001b[1;32mlambda\u001b[0m \u001b[0mx\u001b[0m\u001b[1;33m:\u001b[0m \u001b[0mcp101_m\u001b[0m\u001b[1;33m.\u001b[0m\u001b[0mix\u001b[0m\u001b[1;33m[\u001b[0m\u001b[0mx\u001b[0m\u001b[1;33m,\u001b[0m \u001b[1;34m\"lowlevo_vs_saline_tukey_bh\"\u001b[0m\u001b[1;33m]\u001b[0m \u001b[1;33m<\u001b[0m \u001b[1;36m0.10\u001b[0m \u001b[1;32mand\u001b[0m \u001b[0mcp101_m\u001b[0m\u001b[1;33m.\u001b[0m\u001b[0mix\u001b[0m\u001b[1;33m[\u001b[0m\u001b[0mx\u001b[0m\u001b[1;33m,\u001b[0m \u001b[1;33m(\u001b[0m\u001b[1;34m'cp101_low_vs_saline'\u001b[0m\u001b[1;33m,\u001b[0m \u001b[1;34m'fc_exp'\u001b[0m\u001b[1;33m)\u001b[0m\u001b[1;33m]\u001b[0m \u001b[1;33m>\u001b[0m \u001b[1;36m1\u001b[0m\u001b[1;33m)\u001b[0m\u001b[1;33m.\u001b[0m\u001b[0mshape\u001b[0m\u001b[1;33m[\u001b[0m\u001b[1;36m0\u001b[0m\u001b[1;33m]\u001b[0m\u001b[1;33m\u001b[0m\u001b[0m\n\u001b[0m",
        "\u001b[1;31mNameError\u001b[0m: name 'cp101_m' is not defined"
       ]
      }
     ],
     "prompt_number": 35
    },
    {
     "cell_type": "code",
     "collapsed": false,
     "input": [
      "t2_up = {\n",
      " \"CP73\" : \n",
      "  { \"low vs. saline\" : cp73_m.select( lambda x: cp73_m.ix[x, \"lowlevo_vs_saline_tukey_bh\"] <= 0.10 \n",
      "                            and cp73_m.ix[x, ('cp73_low_vs_saline', 'fc_exp')] >= 1),\n",
      "  \"high vs. saline\" : cp73_m.select( lambda x: cp73_m.ix[x, \"highlevo_vs_saline_tukey_bh\"] <= 0.10 \n",
      "                            and cp73_m.ix[x, ('cp73_high_vs_saline', 'fc_exp')] >= 1),\n",
      "  \"high vs. low\" : cp73_m.select( lambda x: cp73_m.ix[x, \"highlevo_vs_lowlevo_tukey_bh\"] <= 0.10 \n",
      "                            and cp73_m.ix[x, ('cp73_high_vs_low', 'fc_exp')] >= 1)\n",
      "  },\n",
      "  \"CP101\" : {  \n",
      "  \"low vs. saline\" : cp101_m.select( lambda x: cp101_m.ix[x, \"lowlevo_vs_saline_tukey_bh\"] <= 0.10 \n",
      "                            and cp101_m.ix[x, ('cp101_low_vs_saline', 'fc_exp')] >= 1),\n",
      "  \"high vs. saline\" :  cp101_m.select( lambda x: cp101_m.ix[x, \"highlevo_vs_saline_tukey_bh\"] <= 0.10 \n",
      "                            and cp101_m.ix[x, ('cp101_high_vs_saline', 'fc_exp')] >= 1),\n",
      "  \"high vs. low\" : cp101_m.select( lambda x: cp101_m.ix[x, \"highlevo_vs_lowlevo_tukey_bh\"] <= 0.10 \n",
      "                            and cp101_m.ix[x, ('cp101_high_vs_low', 'fc_exp')] >= 1)                                           \n",
      "  }\n",
      "}        "
     ],
     "language": "python",
     "metadata": {},
     "outputs": [],
     "prompt_number": 40
    },
    {
     "cell_type": "code",
     "collapsed": false,
     "input": [
      "t2_up[\"CP73\"][\"acute vs. saline\"] = cp73_m.select( lambda x: cp73_m.ix[x, \"acute_vs_saline_tukey_bh\"] <= 0.10 \n",
      "                            and cp73_m.ix[x, ('cp73_acute_vs_saline', 'fc_exp')] >= 1)"
     ],
     "language": "python",
     "metadata": {},
     "outputs": [],
     "prompt_number": 176
    },
    {
     "cell_type": "code",
     "collapsed": false,
     "input": [
      "t2_down[\"CP73\"][\"acute vs. saline\"] = cp73_m.select( lambda x: cp73_m.ix[x, \"acute_vs_saline_tukey_bh\"] <= 0.10 \n",
      "                            and cp73_m.ix[x, ('cp73_acute_vs_saline', 'fc_exp')] <= -1)"
     ],
     "language": "python",
     "metadata": {},
     "outputs": [],
     "prompt_number": 177
    },
    {
     "cell_type": "code",
     "collapsed": false,
     "input": [
      "t2_down = {\n",
      " \"CP73\" : \n",
      "  { \"low vs. saline\" : cp73_m.select( lambda x: cp73_m.ix[x, \"lowlevo_vs_saline_tukey_bh\"] <= 0.10 \n",
      "                            and cp73_m.ix[x, ('cp73_low_vs_saline', 'fc_exp')] <= -1),\n",
      "  \"high vs. saline\" : cp73_m.select( lambda x: cp73_m.ix[x, \"highlevo_vs_saline_tukey_bh\"] <= 0.10 \n",
      "                            and cp73_m.ix[x, ('cp73_high_vs_saline', 'fc_exp')] <= -1),\n",
      "  \"high vs. low\" : cp73_m.select( lambda x: cp73_m.ix[x, \"highlevo_vs_lowlevo_tukey_bh\"] <= 0.10 \n",
      "                            and cp73_m.ix[x, ('cp73_high_vs_low', 'fc_exp')] <= -1)\n",
      "  },\n",
      "  \"CP101\" : {  \n",
      "  \"low vs. saline\" : cp101_m.select( lambda x: cp101_m.ix[x, \"lowlevo_vs_saline_tukey_bh\"] <= 0.10 \n",
      "                            and cp101_m.ix[x, ('cp101_low_vs_saline', 'fc_exp')] <= -1),\n",
      "  \"high vs. saline\" :  cp101_m.select( lambda x: cp101_m.ix[x, \"highlevo_vs_saline_tukey_bh\"] <= 0.10 \n",
      "                            and cp101_m.ix[x, ('cp101_high_vs_saline', 'fc_exp')] <= -1),\n",
      "  \"high vs. low\" : cp101_m.select( lambda x: cp101_m.ix[x, \"highlevo_vs_lowlevo_tukey_bh\"] <= 0.10 \n",
      "                            and cp101_m.ix[x, ('cp101_high_vs_low', 'fc_exp')] <= -1)                                           \n",
      "  }\n",
      "}"
     ],
     "language": "python",
     "metadata": {},
     "outputs": [],
     "prompt_number": 41
    },
    {
     "cell_type": "code",
     "collapsed": false,
     "input": [
      "cp101_wide = cp101_wide.drop([(\"cp101_allchronic_AIM\", \"model\"), (\"cp101_highchronic_AIM\", \"model\"), (\"cp101_lowchronic_AIM\", \"model\")  ],axis=1)"
     ],
     "language": "python",
     "metadata": {},
     "outputs": [],
     "prompt_number": 58
    },
    {
     "cell_type": "code",
     "collapsed": false,
     "input": [
      "cp101_wide_info = mo430info.merge(cp101_wide, left_index=True, right_index=True)"
     ],
     "language": "python",
     "metadata": {},
     "outputs": [],
     "prompt_number": 59
    },
    {
     "cell_type": "code",
     "collapsed": false,
     "input": [
      "cPickle.dump(cp101_wide_info, open(\"/data/adrian/Dropbox/Projects/Broad/PD_mouse/results/jan30/cp101_wide_info.pickle\", \"wb\"), protocol=2)"
     ],
     "language": "python",
     "metadata": {},
     "outputs": [],
     "prompt_number": 72
    },
    {
     "cell_type": "code",
     "collapsed": false,
     "input": [
      "cPickle.dump(cp73_wide_info, open(\"/data/adrian/Dropbox/Projects/Broad/PD_mouse/results/jan30/cp73_wide_info.pickle\", \"wb\"), protocol=2)"
     ],
     "language": "python",
     "metadata": {},
     "outputs": [],
     "prompt_number": 16
    },
    {
     "cell_type": "code",
     "collapsed": false,
     "input": [
      "cPickle.dump(t2_up, open(\"/data/adrian/Dropbox/Projects/Broad/PD_mouse/results/feb25/t2_up.pickle\", \"wb\"), protocol=2)\n",
      "cPickle.dump(t2_down, open(\"/data/adrian/Dropbox/Projects/Broad/PD_mouse/results/feb25/t2_down.pickle\", \"wb\"), protocol=2)"
     ],
     "language": "python",
     "metadata": {},
     "outputs": [],
     "prompt_number": 178
    },
    {
     "cell_type": "code",
     "collapsed": false,
     "input": [
      "t2_up = cPickle.load( open(\"/data/adrian/Dropbox/Projects/Broad/PD_mouse/results/jan30/t2_up.pickle\") )\n",
      "t2_down = cPickle.load( open(\"/data/adrian/Dropbox/Projects/Broad/PD_mouse/results/jan30/t2_down.pickle\") )"
     ],
     "language": "python",
     "metadata": {},
     "outputs": [],
     "prompt_number": 57
    },
    {
     "cell_type": "code",
     "collapsed": false,
     "input": [
      "t2_up[\"CP101\"][\"low vs. saline\"].select( lambda x: t2_up[\"CP101\"][\"low vs. saline\"].ix[x, [(\"CP101\", \"fc_exp\")]] >= 1 )"
     ],
     "language": "python",
     "metadata": {},
     "outputs": [
      {
       "html": [
        "<div style=\"max-height:1000px;max-width:1500px;overflow:auto;\">\n",
        "<table border=\"1\" class=\"dataframe\">\n",
        "  <tbody>\n",
        "    <tr>\n",
        "      <td>Index([], dtype=object)</td>\n",
        "      <td>Empty DataFrame</td>\n",
        "    </tr>\n",
        "  </tbody>\n",
        "</table>\n",
        "</div>"
       ],
       "output_type": "pyout",
       "prompt_number": 49,
       "text": [
        "Empty DataFrame\n",
        "Columns: [probe_id, symbol, gene_name, (cp101_low_vs_saline, cv_exp), (cp101_low_vs_saline, fc_exp), (cp101_low_vs_saline, mean_exp), (cp101_low_vs_saline, median_exp), (cp101_low_vs_saline, std_exp), (cp101_low_vs_saline, t), (cp101_low_vs_saline, pval), (cp101_low_vs_saline, bonf), (cp101_low_vs_saline, bh), (cp101_high_vs_saline, cv_exp), (cp101_high_vs_saline, fc_exp), (cp101_high_vs_saline, mean_exp), (cp101_high_vs_saline, median_exp), (cp101_high_vs_saline, std_exp), (cp101_high_vs_saline, t), (cp101_high_vs_saline, pval), (cp101_high_vs_saline, bonf), (cp101_high_vs_saline, bh), (cp101_high_vs_low, cv_exp), (cp101_high_vs_low, fc_exp), (cp101_high_vs_low, mean_exp), (cp101_high_vs_low, median_exp), (cp101_high_vs_low, std_exp), (cp101_high_vs_low, t), (cp101_high_vs_low, pval), (cp101_high_vs_low, bonf), (cp101_high_vs_low, bh), (cp101_allchronic_AIM, model), (cp101_allchronic_AIM, pval), (cp101_allchronic_AIM, expr_coef), (cp101_allchronic_AIM, bh), (cp101_allchronic_AIM, bonf), (cp101_allchronic_AIM, sign), (cp101_allchronic_AIM, rsq_adj), (cp101_highchronic_AIM, model), (cp101_highchronic_AIM, pval), (cp101_highchronic_AIM, expr_coef), (cp101_highchronic_AIM, bh), (cp101_highchronic_AIM, bonf), (cp101_highchronic_AIM, sign), (cp101_highchronic_AIM, rsq_adj), (cp101_lowchronic_AIM, model), (cp101_lowchronic_AIM, pval), (cp101_lowchronic_AIM, expr_coef), (cp101_lowchronic_AIM, bh), (cp101_lowchronic_AIM, bonf), (cp101_lowchronic_AIM, sign), (cp101_lowchronic_AIM, rsq_adj), CP101 TukeyHSD Chronic low levodopa-Chronic high levodopa, CP101 TukeyHSD Chronic saline-Chronic high levodopa, CP101 TukeyHSD Chronic saline-Chronic low levodopa, highlevo_vs_saline_tukey_bh, lowlevo_vs_saline_tukey_bh, highlevo_vs_lowlevo_tukey_bh]\n",
        "Index: []"
       ]
      }
     ],
     "prompt_number": 49
    },
    {
     "cell_type": "code",
     "collapsed": false,
     "input": [
      "cp73_wide_info = cPickle.load(open(\"/data/adrian/Dropbox/Projects/Broad/PD_mouse/results/jan30/cp73_m.pandas.pickle\"))"
     ],
     "language": "python",
     "metadata": {},
     "outputs": [],
     "prompt_number": 10
    }
   ],
   "metadata": {}
  }
 ]
}