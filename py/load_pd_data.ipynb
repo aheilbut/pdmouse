{
 "metadata": {
  "name": "load_pd_data"
 },
 "nbformat": 3,
 "nbformat_minor": 0,
 "worksheets": [
  {
   "cells": [
    {
     "cell_type": "code",
     "collapsed": false,
     "input": [
      "import pandas\n",
      "import pd_locals"
     ],
     "language": "python",
     "metadata": {},
     "outputs": [],
     "prompt_number": 1
    },
    {
     "cell_type": "code",
     "collapsed": false,
     "input": [
      "# load data \n",
      "pd_all = pandas.read_table(pd_locals.datadir + \"/Oct29/PD_arraydata.tab\")\n",
      "pd_covar = pandas.read_table(pd_locals.datadir + \"/Oct29/pd.covar.tab\")\n",
      "\n",
      "mo430symbol = pandas.read_table(pd_locals.datadir + \"/Oct29/mo4302symbols.tab\")\n",
      "mo430symbol.index = mo430symbol.probe_id\n",
      "\n",
      "mo430names = pandas.read_table(pd_locals.datadir + \"/Oct29/mo4302genenames.tab\")\n",
      "mo430names.index =  mo430names.probe_id\n",
      "\n",
      "mo430info = mo430symbol.merge(mo430names)\n",
      "mo430info.index = mo430info.probe_id"
     ],
     "language": "python",
     "metadata": {},
     "outputs": [],
     "prompt_number": 2
    },
    {
     "cell_type": "code",
     "collapsed": false,
     "input": [],
     "language": "python",
     "metadata": {},
     "outputs": [],
     "prompt_number": 3
    },
    {
     "cell_type": "code",
     "collapsed": false,
     "input": [],
     "language": "python",
     "metadata": {},
     "outputs": []
    }
   ],
   "metadata": {}
  }
 ]
}