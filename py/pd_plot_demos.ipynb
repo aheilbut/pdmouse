{
 "metadata": {
  "name": "pd_plot_demos"
 },
 "nbformat": 3,
 "nbformat_minor": 0,
 "worksheets": [
  {
   "cells": [
    {
     "cell_type": "code",
     "collapsed": false,
     "input": [],
     "language": "python",
     "metadata": {},
     "outputs": []
    },
    {
     "cell_type": "code",
     "collapsed": false,
     "input": [
      "figsize(10,10)\n",
      "ax = gca()\n",
      "cp73_groups = [(\"ASC / chronic saline\", ss_cp73_ascorbate_saline.filenames),\n",
      "                       (\"OHDA / chronic saline\", cp73_chronic_saline.filenames),\n",
      "                       (\"OHDA / acute saline\", ss_cp73_acuteSaline.filenames),\n",
      "                       (\"OHDA / acute High L-DOPA\", ss_cp73_acuteHigh.filenames),\n",
      "                       (\"OHDA / chronic Low L-DOPA\", ss_cp73_chronicLow.filenames),\n",
      "                       (\"OHDA / chronic High L-DOPA\", ss_cp73_chronicHigh.filenames)\n",
      "                       ]\n",
      "\n",
      "pda.probe_boxPlots(\"1416406_at\", pd_all, cp73_groups, \"CP73\", ax)"
     ],
     "language": "python",
     "metadata": {},
     "outputs": []
    }
   ],
   "metadata": {}
  }
 ]
}