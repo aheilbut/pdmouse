{
 "metadata": {
  "name": "pd_volcano_plots"
 },
 "nbformat": 3,
 "nbformat_minor": 0,
 "worksheets": [
  {
   "cells": [
    {
     "cell_type": "code",
     "collapsed": false,
     "input": [],
     "language": "python",
     "metadata": {},
     "outputs": []
    },
    {
     "cell_type": "code",
     "collapsed": false,
     "input": [
      "# load cp73_wide_info and cp101_wide_info\n"
     ],
     "language": "python",
     "metadata": {},
     "outputs": []
    },
    {
     "cell_type": "code",
     "collapsed": false,
     "input": [
      "figsize(12,8)\n",
      "xticks(arange(-2, 4, 0.5))\n",
      "yticks(arange(0, 12, 0.5))\n",
      "#ax = plt.gca()\n",
      "#ax.set_ylim(ax.get_ylim()[::-1])\n",
      "xlabel(\"- log2 high vs low fold change\")\n",
      "ylabel(\"log2 high vs low pval\")\n",
      "plt.gca().patch.set_facecolor((0.9, 0.9, 0.9))\n",
      "grid()\n",
      "xlim(-2.5, 2.5)\n",
      "ylim(0, 12)\n",
      "plot( cp101_wide_info[('cp101_high_vs_low', 'fc_exp')], -log(cp101_wide_info[('cp101_high_vs_low', 'pval') ]), \"r.\", ms=1)\n",
      "title(\"CP101 high vs. low volcano plot\")"
     ],
     "language": "python",
     "metadata": {},
     "outputs": []
    },
    {
     "cell_type": "code",
     "collapsed": false,
     "input": [
      "figsize(12,8)\n",
      "xticks(arange(-2, 4, 0.5))\n",
      "yticks(arange(0, 12, 0.5))\n",
      "#ax = plt.gca()\n",
      "#ax.set_ylim(ax.get_ylim()[::-1])\n",
      "xlabel(\"- log2 high vs. low fold change\")\n",
      "ylabel(\"log2 high vs. low pval\")\n",
      "plt.gca().patch.set_facecolor((0.9, 0.9, 0.9))\n",
      "grid()\n",
      "xlim(-2.5, 2.5)\n",
      "ylim(0, 12)\n",
      "plot( cp73_wide_info[('cp73_high_vs_low', 'fc_exp')], -log(cp73_wide_info[('cp73_high_vs_low', 'pval') ]), \".\", ms=1)"
     ],
     "language": "python",
     "metadata": {},
     "outputs": []
    },
    {
     "cell_type": "code",
     "collapsed": false,
     "input": [
      "figsize(2,2)\n",
      "h = histogram2d( log2(cp73_wide_info[('cp73_high_vs_saline', 'pval') ]),\n",
      "                 cp73_wide_info[('cp73_high_vs_saline', 'fc_exp')], bins=[arange(-50, 0, 0.5), arange(-5, 5, 0.1)])\n",
      "imshow( log10( h[0]), interpolation=\"nearest\")\n",
      "xlim(-2.5, 2.5)\n",
      "#ylim(0, -20)\n",
      "#yticks(arange(0, -12, 0.5))\n",
      "plt.gca().patch.set_facecolor((0.9, 0.9, 0.9))\n",
      "yt = yticks(range(len(h[1])), np.around(h[1], 2))\n",
      "xt = xticks(range(len(h[2])), np.around(h[2], 2), rotation=90)\n",
      "\n",
      "title(\"2d histogram of log pval vs fold change - CP73 [high vs saline]\")\n",
      "xlabel(\"log2 fold change\")\n",
      "ylabel(\"log2 pval\")\n",
      "grid()"
     ],
     "language": "python",
     "metadata": {},
     "outputs": []
    },
    {
     "cell_type": "code",
     "collapsed": false,
     "input": [
      "figsize(2,2)\n",
      "h = histogram2d( log2(cp101_wide_info[('cp101_high_vs_saline', 'pval') ]),\n",
      "                 cp101_wide_info[('cp101_high_vs_saline', 'fc_exp')], bins=[arange(-50, 0, 0.5), arange(-5, 5, 0.1)])\n",
      "imshow( log10( h[0]), interpolation=\"nearest\")\n",
      "plt.gca().patch.set_facecolor((0.9, 0.9, 0.9))\n",
      "yt = yticks(range(len(h[1])), np.around(h[1], 2))\n",
      "xt = xticks(range(len(h[2])), np.around(h[2], 2), rotation=90)\n",
      "#colorbar()\n",
      "grid()\n",
      "font = {'family' : 'normal',\n",
      "        'weight' : 'normal',\n",
      "        'size'   : 8}\n",
      "matplotlib.rc('font', **font)\n",
      "title(\"2d histogram of log pval vs log fold change - CP101 [high vs. saline]\")\n",
      "xlabel(\"log2 fold change\")\n",
      "ylabel(\"log2 pval\")"
     ],
     "language": "python",
     "metadata": {},
     "outputs": []
    }
   ],
   "metadata": {}
  }
 ]
}