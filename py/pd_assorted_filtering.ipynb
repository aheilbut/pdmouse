{
 "metadata": {
  "name": "pd_assorted_filtering"
 },
 "nbformat": 3,
 "nbformat_minor": 0,
 "worksheets": [
  {
   "cells": [
    {
     "cell_type": "code",
     "collapsed": false,
     "input": [],
     "language": "python",
     "metadata": {},
     "outputs": []
    },
    {
     "cell_type": "code",
     "collapsed": false,
     "input": [],
     "language": "python",
     "metadata": {},
     "outputs": []
    },
    {
     "cell_type": "code",
     "collapsed": false,
     "input": [
      "import pdb_calc_stats"
     ],
     "language": "python",
     "metadata": {},
     "outputs": []
    },
    {
     "cell_type": "code",
     "collapsed": false,
     "input": [],
     "language": "python",
     "metadata": {},
     "outputs": []
    },
    {
     "cell_type": "code",
     "collapsed": false,
     "input": [
      "(cp73_dopDepletion_ttest\n",
      "    .merge(cp73_dopDepletion_changeStats, left_index=True, right_index=True)\n",
      "    .merge(mo430info, left_index=True, right_index=True, how='left')\n",
      "    .select( lambda x: cp73_dopDepletion_ttest.ix[x, \"bh\"] < 0.10 \n",
      "and cp73_dopDepletion_changeStats.ix[x,\"fc_exp\"] > 0.5 ).sort_index(by=\"bh\", ascending=True))[0:50]"
     ],
     "language": "python",
     "metadata": {},
     "outputs": []
    },
    {
     "cell_type": "code",
     "collapsed": false,
     "input": [],
     "language": "python",
     "metadata": {},
     "outputs": []
    },
    {
     "cell_type": "code",
     "collapsed": false,
     "input": [],
     "language": "python",
     "metadata": {},
     "outputs": []
    },
    {
     "cell_type": "code",
     "collapsed": false,
     "input": [
      "cp73_m.select(lambda x: cp73_m.ix[x, \"highlevo_vs_saline_tukey_bh\"] < 0.10 \n",
      "                        and cp73_m.ix[x, ('cp73_high_vs_saline', 'fc_exp') ] > 1 \n",
      "                        and cp73_m.ix[x, ('cp73_acute_vs_saline', 'fc_exp')] < 0.2 )"
     ],
     "language": "python",
     "metadata": {},
     "outputs": []
    },
    {
     "cell_type": "code",
     "collapsed": false,
     "input": [
      "(cp73_m.select( lambda x: cp73_m.ix[x, \"highlevo_vs_saline_tukey_bh\"] <= 0.10 \n",
      "                    and cp73_m.ix[x, ('cp73_high_vs_saline', 'fc_exp')] <= -1)\n",
      "                .sort([('cp73_high_vs_saline', 'fc_exp')], ascending=True)\n",
      "                .ix[:, [('cp73_high_vs_saline', 'fc_exp'), \"symbol\", \"gene_name\"]])[1:100]"
     ],
     "language": "python",
     "metadata": {},
     "outputs": []
    },
    {
     "cell_type": "code",
     "collapsed": false,
     "input": [
      "(cp73_m.select( lambda x: cp73_m.ix[x, \"highlevo_vs_lowlevo_tukey_bh\"] <= 0.10 \n",
      "                            and cp73_m.ix[x, ('cp73_high_vs_low', 'fc_exp')] <= -1) )\n",
      "                .sort([('cp73_high_vs_low', 'fc_exp')], ascending=True)\n",
      "                .ix[:, [('cp73_high_vs_low', 'fc_exp'), \"symbol\", \"gene_name\"]])"
     ],
     "language": "python",
     "metadata": {},
     "outputs": []
    },
    {
     "cell_type": "code",
     "collapsed": false,
     "input": [
      "cp73_m.select( lambda x: cp73_m.ix[x, \"highlevo_vs_saline_tukey_bh\"] <= 0.10 \n",
      "                            and cp73_m.ix[x, ('cp73_high_vs_saline', 'fc_exp')] <= -1)"
     ],
     "language": "python",
     "metadata": {},
     "outputs": [
      {
       "ename": "NameError",
       "evalue": "name 'cp73_m' is not defined",
       "output_type": "pyerr",
       "traceback": [
        "\u001b[0;31m---------------------------------------------------------------------------\u001b[0m\n\u001b[0;31mNameError\u001b[0m                                 Traceback (most recent call last)",
        "\u001b[0;32m<ipython-input-1-64c66211d84f>\u001b[0m in \u001b[0;36m<module>\u001b[0;34m()\u001b[0m\n\u001b[0;32m----> 1\u001b[0;31m cp73_m.select( lambda x: cp73_m.ix[x, \"highlevo_vs_saline_tukey_bh\"] <= 0.10 \n\u001b[0m\u001b[1;32m      2\u001b[0m                             and cp73_m.ix[x, ('cp73_high_vs_saline', 'fc_exp')] <= -1)\n",
        "\u001b[0;31mNameError\u001b[0m: name 'cp73_m' is not defined"
       ]
      }
     ],
     "prompt_number": 1
    },
    {
     "cell_type": "code",
     "collapsed": false,
     "input": [],
     "language": "python",
     "metadata": {},
     "outputs": []
    }
   ],
   "metadata": {}
  }
 ]
}