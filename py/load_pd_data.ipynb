{
 "metadata": {
  "name": ""
 },
 "nbformat": 3,
 "nbformat_minor": 0,
 "worksheets": [
  {
   "cells": [
    {
     "cell_type": "code",
     "collapsed": false,
     "input": [
      "import pandas\n",
      "import pd_locals"
     ],
     "language": "python",
     "metadata": {},
     "outputs": [
      {
       "output_type": "stream",
       "stream": "stderr",
       "text": [
        "/data/adrian/anaconda/lib/python2.7/site-packages/pytz/__init__.py:35: UserWarning: Module argparse was already imported from /data/adrian/anaconda/lib/python2.7/argparse.pyc, but /data/adrian/anaconda/lib/python2.7/site-packages is being added to sys.path\n",
        "  from pkg_resources import resource_stream\n"
       ]
      }
     ],
     "prompt_number": 2
    },
    {
     "cell_type": "code",
     "collapsed": false,
     "input": [
      "# load data \n",
      "pd_all = pandas.read_table(pd_locals.datadir + \"/2012_10_29/PD_arraydata.tab\")\n",
      "pd_covar = pandas.read_table(pd_locals.datadir + \"/2012_10_29/pd.covar.tab\")\n",
      "\n",
      "mo430symbol = pandas.read_table(pd_locals.datadir + \"/2013_july_9/mo4302symbols.tab\")\n",
      "mo430symbol.index = mo430symbol.probe_id\n",
      "\n",
      "mo430names = pandas.read_table(pd_locals.datadir + \"/2013_july_9/mo4302genenames.tab\")\n",
      "mo430names.index =  mo430names.probe_id\n",
      "\n",
      "mo430info = mo430symbol.merge(mo430names)\n",
      "mo430info.index = mo430info.probe_id"
     ],
     "language": "python",
     "metadata": {},
     "outputs": [],
     "prompt_number": 3
    },
    {
     "cell_type": "code",
     "collapsed": false,
     "input": [],
     "language": "python",
     "metadata": {},
     "outputs": []
    }
   ],
   "metadata": {}
  }
 ]
}