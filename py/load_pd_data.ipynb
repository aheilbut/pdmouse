{
 "metadata": {
  "name": "load_pd_data"
 },
 "nbformat": 3,
 "nbformat_minor": 0,
 "worksheets": [
  {
   "cells": [
    {
     "cell_type": "code",
     "collapsed": false,
     "input": [
      "import pandas"
     ],
     "language": "python",
     "metadata": {},
     "outputs": [],
     "prompt_number": 1
    },
    {
     "cell_type": "code",
     "collapsed": false,
     "input": [
      "# load data \n",
      "pd_all = pandas.read_table(\"/Users/heilbut/Dropbox/Projects/Broad/PD_mouse/results/Oct29/PD_arraydata.tab\")\n",
      "pd_covar = pandas.read_table(\"/Users/heilbut/Dropbox/Projects/Broad/PD_mouse/results/Oct29/pd.covar.tab\")\n",
      "\n",
      "mo430symbol = pandas.read_table(\"/Users/heilbut/Dropbox/Projects/Broad/PD_mouse/results/Oct29/mo4302symbols.tab\")\n",
      "mo430symbol.index = mo430symbol.probe_id\n",
      "\n",
      "mo430names = pandas.read_table(\"/Users/heilbut/Dropbox/Projects/Broad/PD_mouse/results/Oct29/mo4302genenames.tab\")\n",
      "mo430names.index =  mo430names.probe_id\n",
      "\n",
      "mo430info = mo430symbol.merge(mo430names)\n",
      "mo430info.index = mo430info.probe_id"
     ],
     "language": "python",
     "metadata": {},
     "outputs": [],
     "prompt_number": 2
    },
    {
     "cell_type": "code",
     "collapsed": false,
     "input": [],
     "language": "python",
     "metadata": {},
     "outputs": []
    },
    {
     "cell_type": "code",
     "collapsed": false,
     "input": [],
     "language": "python",
     "metadata": {},
     "outputs": []
    }
   ],
   "metadata": {}
  }
 ]
}