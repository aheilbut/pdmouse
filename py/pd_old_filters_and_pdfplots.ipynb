{
 "metadata": {
  "name": "pd_old_filters_and_pdfplots"
 },
 "nbformat": 3,
 "nbformat_minor": 0,
 "worksheets": [
  {
   "cells": [
    {
     "cell_type": "code",
     "collapsed": false,
     "input": [
      "import pd_analysis as pda"
     ],
     "language": "python",
     "metadata": {},
     "outputs": []
    },
    {
     "cell_type": "code",
     "collapsed": false,
     "input": [],
     "language": "python",
     "metadata": {},
     "outputs": []
    },
    {
     "cell_type": "code",
     "collapsed": false,
     "input": [
      "pda.makePlots( pd_all, pd_covar, mo430info.merge( cp101_wide.select( lambda x:\n",
      "                          cp101_wide.ix[x, ('cp101_low_vs_saline', 'fc_exp')] > 1\n",
      "                      and cp101_wide.ix[x, ('cp101_low_vs_saline', 'bh')] < 0.05\n",
      "                      and  cp101_wide.ix[x, ('cp101_high_vs_low', 'fc_exp')] > 0.2 \n",
      "                      and  ( cp101_wide.ix[x, ('cp101_lowchronic_AIM', 'pval')] < 0.25 or cp101_wide.ix[x, ('cp101_highchronic_AIM', 'pval')] < 0.25)\n",
      "                      and  cp101_wide.ix[x, ('cp101_lowchronic_AIM', 'sign')] > 0\n",
      "                      and  cp101_wide.ix[x, ('cp101_highchronic_AIM', 'sign')] > 0\n",
      "                 ), how=\"right\", left_index=True, right_index=True), \"/data/adrian/Dropbox/sscp101.pdf\")"
     ],
     "language": "python",
     "metadata": {},
     "outputs": []
    },
    {
     "cell_type": "code",
     "collapsed": false,
     "input": [
      "pda.makePlots( pd_all, pd_covar, mo430info.merge( cp73_wide.select( lambda x:\n",
      "                          cp73_wide.ix[x, ('cp73_low_vs_saline', 'fc_exp')] > 1\n",
      "                      and cp73_wide.ix[x, ('cp73_low_vs_saline', 'bh')] < 0.05\n",
      "                      and  cp73_wide.ix[x, ('cp73_high_vs_low', 'fc_exp')] > 0.2 \n",
      "                      and  (cp73_wide.ix[x, ('cp73_lowchronic_AIM', 'pval')] < 0.25 or cp73_wide.ix[x, ('cp73_highchronic_AIM', 'pval')] < 0.25)\n",
      "                      and  cp73_wide.ix[x, ('cp73_lowchronic_AIM', 'sign')] > 0\n",
      "                      and  cp73_wide.ix[x, ('cp73_highchronic_AIM', 'sign')] > 0\n",
      "                 ), how=\"right\", left_index=True, right_index=True), \"/data/adrian/Dropbox/sscp73.pdf\")"
     ],
     "language": "python",
     "metadata": {},
     "outputs": []
    },
    {
     "cell_type": "code",
     "collapsed": false,
     "input": [
      "pda.makePlots( pd_all, pd_covar, mo430info.merge( cp73_wide.select( lambda x:\n",
      "                           cp73_wide.ix[x, ('cp73_low_vs_saline', 'fc_exp')] > 1\n",
      "                      and  cp73_wide.ix[x, ('cp73_low_vs_saline', 'bh')] < 0.20\n",
      "                      and  cp73_wide.ix[x, ('cp73_high_vs_low', 'fc_exp')] > 0.2 \n",
      "                      and (cp73_wide.ix[x, ('cp73_lowchronic_AIM', 'pval')] < 0.10 and cp73_wide.ix[x, ('cp73_highchronic_AIM', 'pval')] < 0.10)\n",
      "                      and  cp73_wide.ix[x, ('cp73_lowchronic_AIM', 'sign')] > 0\n",
      "                      and  cp73_wide.ix[x, ('cp73_highchronic_AIM', 'sign')] > 0\n",
      "                 ), how=\"right\", left_index=True, right_index=True), \"/data/adrian/Dropbox/sscp73.pdf\")"
     ],
     "language": "python",
     "metadata": {},
     "outputs": []
    },
    {
     "cell_type": "code",
     "collapsed": false,
     "input": [
      "ss = mo430info.merge( cp73_wide.select( lambda x:\n",
      "                          cp73_wide.ix[x, ('cp73_low_vs_saline', 'fc_exp')] > 1\n",
      "                      and cp73_wide.ix[x, ('cp73_low_vs_saline', 'bh')] < 0.20\n",
      "                      and  cp73_wide.ix[x, ('cp73_high_vs_low', 'fc_exp')] > 0.2 \n",
      "                      and  (cp73_wide.ix[x, ('cp73_lowchronic_AIM', 'pval')] < 0.10 or cp73_wide.ix[x, ('cp73_highchronic_AIM', 'pval')] < 0.10) \n",
      "                      and  cp73_wide.ix[x, ('cp73_lowchronic_AIM', 'sign')] > 0\n",
      "                      and  cp73_wide.ix[x, ('cp73_highchronic_AIM', 'sign')] > 0 ), how=\"right\", left_index=True, right_index=True)"
     ],
     "language": "python",
     "metadata": {},
     "outputs": []
    },
    {
     "cell_type": "code",
     "collapsed": false,
     "input": [
      "ss_cp73_filtered_withinDoseAIMcorr = mo430info.merge( cp73_wide.select( lambda x:\n",
      "                          cp73_wide.ix[x, ('cp73_low_vs_saline', 'fc_exp')] > 1\n",
      "                      and cp73_wide.ix[x, ('cp73_low_vs_saline', 'bh')] < 0.20\n",
      "                      and  cp73_wide.ix[x, ('cp73_high_vs_low', 'fc_exp')] > 0.2 \n",
      "                      and  (cp73_wide.ix[x, ('cp73_lowchronic_AIM', 'pval')] < 0.10 or cp73_wide.ix[x, ('cp73_highchronic_AIM', 'pval')] < 0.10) \n",
      "                      and  cp73_wide.ix[x, ('cp73_lowchronic_AIM', 'sign')] > 0\n",
      "                      and  cp73_wide.ix[x, ('cp73_highchronic_AIM', 'sign')] > 0 ), how=\"right\", left_index=True, right_index=True)"
     ],
     "language": "python",
     "metadata": {},
     "outputs": []
    },
    {
     "cell_type": "code",
     "collapsed": false,
     "input": [
      "ss = mo430info.merge( cp73_wide.select( lambda x:\n",
      "                          cp73_wide.ix[x, ('cp73_low_vs_saline', 'fc_exp')] > 1\n",
      "                      and cp73_wide.ix[x, ('cp73_low_vs_saline', 'bh')] < 0.05\n",
      "                      and  cp73_wide.ix[x, ('cp73_high_vs_low', 'fc_exp')] > 0.2 \n",
      "                      and  cp73_wide.ix[x, ('cp73_lowchronic_AIM', 'pval')] < 0.25\n",
      "                      and  cp73_wide.ix[x, ('cp73_lowchronic_AIM', 'sign')] > 0\n",
      "                      and  cp73_wide.ix[x, ('cp73_highchronic_AIM', 'pval')] < 0.25\n",
      "                      and  cp73_wide.ix[x, ('cp73_highchronic_AIM', 'sign')] > 0\n",
      "                 ), how=\"right\", left_index=True, right_index=True)"
     ],
     "language": "python",
     "metadata": {},
     "outputs": []
    },
    {
     "cell_type": "code",
     "collapsed": false,
     "input": [
      "ss_cp101_filtered_withinDoseAIMcorr = mo430info.merge( cp101_wide.select( lambda x:\n",
      "                          cp101_wide.ix[x, ('cp101_low_vs_saline', 'fc_exp')] > 1\n",
      "                      and cp101_wide.ix[x, ('cp101_low_vs_saline', 'bh')] < 0.20\n",
      "                      and  cp101_wide.ix[x, ('cp101_high_vs_low', 'fc_exp')] > 0.2 \n",
      "                      and  (cp101_wide.ix[x, ('cp101_lowchronic_AIM', 'pval')] < 0.10 or cp101_wide.ix[x, ('cp101_highchronic_AIM', 'pval')] < 0.10) \n",
      "                      and  cp101_wide.ix[x, ('cp101_lowchronic_AIM', 'sign')] > 0\n",
      "                      and  cp101_wide.ix[x, ('cp101_highchronic_AIM', 'sign')] > 0 ), how=\"right\", left_index=True, right_index=True)"
     ],
     "language": "python",
     "metadata": {},
     "outputs": []
    },
    {
     "cell_type": "code",
     "collapsed": false,
     "input": [
      "ss_cp73_filtered_withinDoseAIMcorr = mo430info.merge( cp73_wide.select( lambda x:\n",
      "                          cp73_wide.ix[x, ('cp73_low_vs_saline', 'fc_exp')] > 1\n",
      "                      and cp73_wide.ix[x, ('cp73_low_vs_saline', 'bh')] < 0.20\n",
      "                      and  cp73_wide.ix[x, ('cp73_high_vs_low', 'fc_exp')] > 0.2 \n",
      "                      and  (cp73_wide.ix[x, ('cp73_lowchronic_AIM', 'pval')] < 0.10 or cp73_wide.ix[x, ('cp73_highchronic_AIM', 'pval')] < 0.10) \n",
      "                      and  cp73_wide.ix[x, ('cp73_lowchronic_AIM', 'sign')] > 0\n",
      "                      and  cp73_wide.ix[x, ('cp73_highchronic_AIM', 'sign')] > 0 ), how=\"right\", left_index=True, right_index=True)"
     ],
     "language": "python",
     "metadata": {},
     "outputs": []
    },
    {
     "cell_type": "code",
     "collapsed": false,
     "input": [
      "ss_cp101_filtered_allDoseAIMcorr = mo430info.merge( cp101_wide.select( lambda x:\n",
      "                          cp101_wide.ix[x, ('cp101_low_vs_saline', 'fc_exp')] > 1\n",
      "                      and cp101_wide.ix[x, ('cp101_low_vs_saline', 'bh')] < 0.20\n",
      "                      and  cp101_wide.ix[x, ('cp101_high_vs_low', 'fc_exp')] > 0.2 \n",
      "                      and  (cp101_wide.ix[x, ('cp101_allchronic_AIM', 'pval')] < 0.10) \n",
      "                      and  cp101_wide.ix[x, ('cp101_lowchronic_AIM', 'sign')] > 0\n",
      "                      and  cp101_wide.ix[x, ('cp101_highchronic_AIM', 'sign')] > 0 ), how=\"right\", left_index=True, right_index=True)"
     ],
     "language": "python",
     "metadata": {},
     "outputs": []
    },
    {
     "cell_type": "code",
     "collapsed": false,
     "input": [
      "ss_cp73_filtered_allDoseAIMcorr = mo430info.merge( cp73_wide.select( lambda x:\n",
      "                          cp73_wide.ix[x, ('cp73_low_vs_saline', 'fc_exp')] > 1\n",
      "                      and cp73_wide.ix[x, ('cp73_low_vs_saline', 'bh')] < 0.20\n",
      "                      and  cp73_wide.ix[x, ('cp73_high_vs_low', 'fc_exp')] > 0.2 \n",
      "                      and  (cp73_wide.ix[x, ('cp73_allchronic_AIM', 'pval')] < 0.10) \n",
      "                      and  cp73_wide.ix[x, ('cp73_lowchronic_AIM', 'sign')] > 0\n",
      "                      and  cp73_wide.ix[x, ('cp73_highchronic_AIM', 'sign')] > 0 ), how=\"right\", left_index=True, right_index=True)"
     ],
     "language": "python",
     "metadata": {},
     "outputs": []
    },
    {
     "cell_type": "code",
     "collapsed": false,
     "input": [
      "ss_cp101_filtered_allDoseAIMneg = mo430info.merge( cp101_wide.select( lambda x:\n",
      "                          cp101_wide.ix[x, ('cp101_low_vs_saline', 'fc_exp')] < -1\n",
      "                      and cp101_wide.ix[x, ('cp101_low_vs_saline', 'bh')] < 0.20\n",
      "                      and  cp101_wide.ix[x, ('cp101_high_vs_low', 'fc_exp')] < 0.2 \n",
      "                      and  (cp101_wide.ix[x, ('cp101_allchronic_AIM', 'pval')] < 0.10) \n",
      "                      and  cp101_wide.ix[x, ('cp101_allchronic_AIM', 'sign')] < 0 ), how=\"right\", left_index=True, right_index=True).sort(columns=[('cp101_allchronic_AIM', 'pval')])"
     ],
     "language": "python",
     "metadata": {},
     "outputs": []
    },
    {
     "cell_type": "code",
     "collapsed": false,
     "input": [
      "ss_cp73_filtered_allDoseAIMneg = mo430info.merge( cp73_wide.select( lambda x:\n",
      "                          cp73_wide.ix[x, ('cp73_low_vs_saline', 'fc_exp')] < -1\n",
      "                      and cp73_wide.ix[x, ('cp73_low_vs_saline', 'bh')] < 0.20\n",
      "                      and  cp73_wide.ix[x, ('cp73_high_vs_low', 'fc_exp')] < 0.2 \n",
      "                      and  (cp73_wide.ix[x, ('cp73_allchronic_AIM', 'pval')] < 0.10) \n",
      "                      and  cp73_wide.ix[x, ('cp73_allchronic_AIM', 'sign')] < 0 ), how=\"right\", left_index=True, right_index=True).sort(columns=[('cp73_allchronic_AIM', 'pval')])"
     ],
     "language": "python",
     "metadata": {},
     "outputs": []
    },
    {
     "cell_type": "code",
     "collapsed": false,
     "input": [],
     "language": "python",
     "metadata": {},
     "outputs": []
    },
    {
     "cell_type": "code",
     "collapsed": false,
     "input": [],
     "language": "python",
     "metadata": {},
     "outputs": []
    },
    {
     "cell_type": "code",
     "collapsed": false,
     "input": [],
     "language": "python",
     "metadata": {},
     "outputs": []
    },
    {
     "cell_type": "code",
     "collapsed": false,
     "input": [
      "pda.makePlots( pd_all, pd_covar, ss_cp73_filtered_allDoseAIMcorr,\n",
      " \"/data/adrian/Dropbox/Projects/Broad/PD_mouse/results/Nov15/ss_cp73_filtered_allDoseAIMcorr.pdf\")"
     ],
     "language": "python",
     "metadata": {},
     "outputs": []
    },
    {
     "cell_type": "code",
     "collapsed": false,
     "input": [
      "pda.makePlots( pd_all, pd_covar, ss_cp101_filtered_allDoseAIMcorr,\n",
      "     \"/data/adrian/Dropbox/Projects/Broad/PD_mouse/results/Nov15/ss_cp101_filtered_allDoseAIMcorr.pdf\")"
     ],
     "language": "python",
     "metadata": {},
     "outputs": []
    },
    {
     "cell_type": "code",
     "collapsed": false,
     "input": [],
     "language": "python",
     "metadata": {},
     "outputs": []
    },
    {
     "cell_type": "code",
     "collapsed": false,
     "input": [
      "\n",
      "cp101_High_2xFC_AIMcorr = pda.changeFilter(aim_models_cp101_chronicHigh,\n",
      "                                       cp101_highVsSaline_changeStats, mo430info)\n",
      "\n",
      "cp101_Low_2xFC_AIMcorr = pda.changeFilter(aim_models_cp101_chronicLow, \n",
      "                                      cp101_lowVsSaline_changeStats, mo430info)\n",
      "\n",
      "cp73_High_2xFC_AIMcorr = pda.changeFilter(aim_models_cp73_chronicHigh, \n",
      "                                      cp73_highVsSaline_changeStats, mo430info)\n",
      "cp73_Low_2xFC_AIMcorr = pda.changeFilter(aim_models_cp73_chronicLow, \n",
      "                                     cp73_lowVsSaline_changeStats, mo430info)\n",
      "\n",
      "cp101_High_AIMcorr = pda.changeFilter(aim_models_cp101_chronicHigh, cp101_highVsSaline_changeStats, mo430info,\n",
      "                                  aim_fit_max_pval=0.01, \n",
      "                                  fc_min=0,\n",
      "                                  diff_max_bh_pval=1)\n",
      "cp101_Low_AIMcorr = pda.changeFilter(aim_models_cp101_chronicLow, cp101_lowVsSaline_changeStats, \n",
      "                            mo430info, aim_fit_max_pval=0.01, fc_min=0, diff_max_bh_pval=1)\n",
      "\n",
      "cp73_High_AIMcorr = pda.changeFilter(aim_models_cp73_chronicHigh, cp73_highVsSaline_changeStats, mo430info, \n",
      "                        aim_fit_max_pval=0.01, fc_min=0, diff_max_bh_pval=1)\n",
      "cp73_Low_AIMcorr = pda.changeFilter(aim_models_cp73_chronicLow, cp73_lowVsSaline_changeStats, mo430info, aim_fit_max_pval=0.01, fc_min=0, diff_max_bh_pval=1)\n"
     ],
     "language": "python",
     "metadata": {},
     "outputs": []
    },
    {
     "cell_type": "code",
     "collapsed": false,
     "input": [],
     "language": "python",
     "metadata": {},
     "outputs": []
    },
    {
     "cell_type": "code",
     "collapsed": false,
     "input": [],
     "language": "python",
     "metadata": {},
     "outputs": []
    }
   ],
   "metadata": {}
  }
 ]
}