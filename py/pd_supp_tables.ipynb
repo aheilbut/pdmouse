{
 "metadata": {
  "name": "pd_supp_tables"
 },
 "nbformat": 3,
 "nbformat_minor": 0,
 "worksheets": [
  {
   "cells": [
    {
     "cell_type": "code",
     "collapsed": false,
     "input": [
      "import pandas\n",
      "import cPickle\n",
      "import pd_analysis as pdaa"
     ],
     "language": "python",
     "metadata": {},
     "outputs": [],
     "prompt_number": 2
    },
    {
     "cell_type": "code",
     "collapsed": false,
     "input": [
      "cp_both_wide_info = cPickle.load( open(\"/data/adrian/Dropbox/Projects/Broad/PD_mouse/results/2013_june_13/cp_both_wide_info.pandas.pickle\") )"
     ],
     "language": "python",
     "metadata": {},
     "outputs": [],
     "prompt_number": 3
    },
    {
     "cell_type": "heading",
     "level": 4,
     "metadata": {},
     "source": [
      "Supplementary Table 1: "
     ]
    },
    {
     "cell_type": "code",
     "collapsed": false,
     "input": [
      "cp_73_dopamine_depletion = (cp_both_wide_info.select(\n",
      "    lambda x: cp_both_wide_info.ix[x, \n",
      "        pda.tm.e([  (\"cmp\", [\"6-OHDA, chronicSaline\", \"Ascorbate, chronicSaline\"]),\n",
      "            (\"ct\", \"cp73\"),\n",
      "            (\"mc\", \"bh\"),\n",
      "            (\"st\", \"pval\"),\n",
      "            (\"tt\", \"welch ttest\")\n",
      "        ])] < 0.10\n",
      "    and\n",
      "        abs(cp_both_wide_info.ix[x, \n",
      "        pda.tm.e([  (\"cmp\", [\"6-OHDA, chronicSaline\", \"Ascorbate, chronicSaline\"]),\n",
      "            (\"ct\", \"cp73\"),\n",
      "            (\"st\", \"fc_medians\"),\n",
      "        ])]) >= 1\n",
      "))"
     ],
     "language": "python",
     "metadata": {},
     "outputs": [],
     "prompt_number": 37
    },
    {
     "cell_type": "code",
     "collapsed": false,
     "input": [
      "cp_73_dopamine_depletion_genes = set(cp_73_dopamine_depletion.symbol.unique())\n",
      "cp_73_dopamine_depletion_genes.discard(nan)"
     ],
     "language": "python",
     "metadata": {},
     "outputs": [],
     "prompt_number": 85
    },
    {
     "cell_type": "code",
     "collapsed": false,
     "input": [
      "print \"CP73 Dopamine Depletion >= or <= 2-fold differentially expressed genes (unique Entrez gene symbols)): \", len(cp_73_dopamine_depletion_genes)"
     ],
     "language": "python",
     "metadata": {},
     "outputs": [
      {
       "output_type": "stream",
       "stream": "stdout",
       "text": [
        "CP73 Dopamine Depletion >= or <= 2-fold differentially expressed genes (unique Entrez gene symbols)):  67\n"
       ]
      }
     ],
     "prompt_number": 94
    },
    {
     "cell_type": "code",
     "collapsed": false,
     "input": [
      "cp_73_dopamine_depletion"
     ],
     "language": "python",
     "metadata": {},
     "outputs": [
      {
       "html": [
        "<pre>\n",
        "&lt;class 'pandas.core.frame.DataFrame'&gt;\n",
        "Index: 91 entries, 1415834_at to 1459941_at\n",
        "Columns: 199 entries, [[\"cg\", \"ctrl\"], [\"cmp\", [\"6-OHDA, chronicSaline\", \"Ascorbate, chronicSaline\"]], [\"ct\", \"cp73\"], [\"st\", \"stddev\"]] to gene_name\n",
        "dtypes: float64(186), object(13)\n",
        "</pre>"
       ],
       "output_type": "pyout",
       "prompt_number": 92,
       "text": [
        "<class 'pandas.core.frame.DataFrame'>\n",
        "Index: 91 entries, 1415834_at to 1459941_at\n",
        "Columns: 199 entries, [[\"cg\", \"ctrl\"], [\"cmp\", [\"6-OHDA, chronicSaline\", \"Ascorbate, chronicSaline\"]], [\"ct\", \"cp73\"], [\"st\", \"stddev\"]] to gene_name\n",
        "dtypes: float64(186), object(13)"
       ]
      }
     ],
     "prompt_number": 92
    },
    {
     "cell_type": "heading",
     "level": 4,
     "metadata": {},
     "source": [
      "Supplementary Table 2: 2-fold Differentially Expressed genes in CP101"
     ]
    },
    {
     "cell_type": "code",
     "collapsed": false,
     "input": [
      "cp_101_dopamine_depletion = (cp_both_wide_info.select(\n",
      "    lambda x: cp_both_wide_info.ix[x, \n",
      "        pda.tm.e([  (\"cmp\", [\"6-OHDA, chronicSaline\", \"Ascorbate, chronicSaline\"]),\n",
      "            (\"ct\", \"cp101\"),\n",
      "            (\"mc\", \"bh\"),\n",
      "            (\"st\", \"pval\"),\n",
      "            (\"tt\", \"welch ttest\")\n",
      "        ])] < 0.10\n",
      "    and\n",
      "        abs(cp_both_wide_info.ix[x, \n",
      "        pda.tm.e([  (\"cmp\", [\"6-OHDA, chronicSaline\", \"Ascorbate, chronicSaline\"]),\n",
      "            (\"ct\", \"cp101\"),\n",
      "            (\"st\", \"fc_medians\"),\n",
      "        ])]) >= 1\n",
      "))"
     ],
     "language": "python",
     "metadata": {},
     "outputs": [],
     "prompt_number": 38
    },
    {
     "cell_type": "code",
     "collapsed": false,
     "input": [
      "cp_101_dopamine_depletion_genes = set(cp_101_dopamine_depletion.symbol.unique())\n",
      "cp_101_dopamine_depletion_genes.discard(nan)"
     ],
     "language": "python",
     "metadata": {},
     "outputs": [],
     "prompt_number": 80
    },
    {
     "cell_type": "heading",
     "level": 4,
     "metadata": {},
     "source": [
      "Genes changing in both cell types:"
     ]
    },
    {
     "cell_type": "code",
     "collapsed": false,
     "input": [
      "cp_73_dopamine_depletion_genes.intersection( cp_101_dopamine_depletion_genes )"
     ],
     "language": "python",
     "metadata": {},
     "outputs": [
      {
       "output_type": "pyout",
       "prompt_number": 87,
       "text": [
        "set(['Tnnt2',\n",
        "     'Nr4a3',\n",
        "     'Vgf',\n",
        "     'Rnd3',\n",
        "     'Tiparp',\n",
        "     'Shisa2',\n",
        "     'Dusp3',\n",
        "     'C030013G03Rik'])"
       ]
      }
     ],
     "prompt_number": 87
    },
    {
     "cell_type": "heading",
     "level": 4,
     "metadata": {},
     "source": [
      "Supplementary Table 3: Pathway Enrichment for differentially expressed genes in CP73"
     ]
    },
    {
     "cell_type": "code",
     "collapsed": false,
     "input": [],
     "language": "python",
     "metadata": {},
     "outputs": []
    },
    {
     "cell_type": "heading",
     "level": 4,
     "metadata": {},
     "source": [
      "Supplementary Table 4: Pathway enrichment for differentially expressed genes in CP101"
     ]
    },
    {
     "cell_type": "code",
     "collapsed": false,
     "input": [],
     "language": "python",
     "metadata": {},
     "outputs": [
      {
       "html": [
        "<pre>\n",
        "&lt;class 'pandas.core.frame.DataFrame'&gt;\n",
        "Index: 1433 entries, 1415800_at to 1460700_at\n",
        "Columns: 199 entries, [[\"cg\", \"ctrl\"], [\"cmp\", [\"6-OHDA, chronicSaline\", \"Ascorbate, chronicSaline\"]], [\"ct\", \"cp73\"], [\"st\", \"stddev\"]] to gene_name\n",
        "dtypes: float64(186), object(13)\n",
        "</pre>"
       ],
       "output_type": "pyout",
       "prompt_number": 95,
       "text": [
        "<class 'pandas.core.frame.DataFrame'>\n",
        "Index: 1433 entries, 1415800_at to 1460700_at\n",
        "Columns: 199 entries, [[\"cg\", \"ctrl\"], [\"cmp\", [\"6-OHDA, chronicSaline\", \"Ascorbate, chronicSaline\"]], [\"ct\", \"cp73\"], [\"st\", \"stddev\"]] to gene_name\n",
        "dtypes: float64(186), object(13)"
       ]
      }
     ],
     "prompt_number": 95
    },
    {
     "cell_type": "heading",
     "level": 4,
     "metadata": {},
     "source": [
      "Supplementary Table 5: Differential expression in CP73 on chronic low-dose L-DOPA"
     ]
    },
    {
     "cell_type": "code",
     "collapsed": false,
     "input": [
      "cp73_chronicLow = (cp_both_wide_info.select(\n",
      "    lambda x: cp_both_wide_info.ix[x, \n",
      "        pda.tm.e([  (\"cmp\", [\"6-OHDA, chronicLow\", \"6-OHDA, chronicSaline\"]),\n",
      "            (\"ct\", \"cp73\"),\n",
      "            (\"mc\", \"bh\"),\n",
      "            (\"st\", \"pval\"),\n",
      "            (\"tt\", \"welch ttest\")\n",
      "        ])] < 0.10\n",
      "    and\n",
      "        abs(cp_both_wide_info.ix[x, \n",
      "        pda.tm.e([  (\"cmp\", [\"6-OHDA, chronicLow\", \"6-OHDA, chronicSaline\"]),\n",
      "            (\"ct\", \"cp73\"),\n",
      "            (\"st\", \"fc_medians\"),\n",
      "        ])]) >= 1\n",
      "))"
     ],
     "language": "python",
     "metadata": {},
     "outputs": [],
     "prompt_number": 96
    },
    {
     "cell_type": "code",
     "collapsed": false,
     "input": [
      "cp73_chronicLow_genes = set(cp73_chronicLow.symbol.unique())\n",
      "cp73_chronicLow_genes.discard(nan)"
     ],
     "language": "python",
     "metadata": {},
     "outputs": [],
     "prompt_number": 98
    },
    {
     "cell_type": "code",
     "collapsed": false,
     "input": [
      "len(cp73_chronicLow_genes)"
     ],
     "language": "python",
     "metadata": {},
     "outputs": [
      {
       "output_type": "pyout",
       "prompt_number": 100,
       "text": [
        "1046"
       ]
      }
     ],
     "prompt_number": 100
    },
    {
     "cell_type": "code",
     "collapsed": false,
     "input": [
      "cp73_chronicLow_anymagnitude = (cp_both_wide_info.select(\n",
      "    lambda x: cp_both_wide_info.ix[x, \n",
      "        pda.tm.e([  (\"cmp\", [\"6-OHDA, chronicLow\", \"6-OHDA, chronicSaline\"]),\n",
      "            (\"ct\", \"cp73\"),\n",
      "            (\"mc\", \"bh\"),\n",
      "            (\"st\", \"pval\"),\n",
      "            (\"tt\", \"welch ttest\")\n",
      "        ])] < 0.10\n",
      "))"
     ],
     "language": "python",
     "metadata": {},
     "outputs": [],
     "prompt_number": 112
    },
    {
     "cell_type": "heading",
     "level": 4,
     "metadata": {},
     "source": [
      "Supplementary Table 6: Enriched Pathways in CP73 low-dose altered genes"
     ]
    },
    {
     "cell_type": "code",
     "collapsed": false,
     "input": [],
     "language": "python",
     "metadata": {},
     "outputs": []
    },
    {
     "cell_type": "heading",
     "level": 4,
     "metadata": {},
     "source": [
      "Supplementary Table 7: Differential expression in CP73 on chronic high-dose"
     ]
    },
    {
     "cell_type": "code",
     "collapsed": false,
     "input": [
      "cp73_chronicHigh = (cp_both_wide_info.select(\n",
      "    lambda x: cp_both_wide_info.ix[x, \n",
      "        pda.tm.e([  (\"cmp\", [\"6-OHDA, chronicHigh\", \"6-OHDA, chronicSaline\"]),\n",
      "            (\"ct\", \"cp73\"),\n",
      "            (\"mc\", \"bh\"),\n",
      "            (\"st\", \"pval\"),\n",
      "            (\"tt\", \"welch ttest\")\n",
      "        ])] < 0.10\n",
      "    and\n",
      "        abs(cp_both_wide_info.ix[x, \n",
      "        pda.tm.e([  (\"cmp\", [\"6-OHDA, chronicHigh\", \"6-OHDA, chronicSaline\"]),\n",
      "            (\"ct\", \"cp73\"),\n",
      "            (\"st\", \"fc_medians\"),\n",
      "        ])]) >= 1\n",
      "))"
     ],
     "language": "python",
     "metadata": {},
     "outputs": [],
     "prompt_number": 107
    },
    {
     "cell_type": "code",
     "collapsed": false,
     "input": [
      "cp73_chronicHigh_genes = set(cp73_chronicHigh.symbol.unique())\n",
      "cp73_chronicHigh_genes.discard(nan)"
     ],
     "language": "python",
     "metadata": {},
     "outputs": [],
     "prompt_number": 108
    },
    {
     "cell_type": "code",
     "collapsed": false,
     "input": [
      "len(cp73_chronicHigh_genes)"
     ],
     "language": "python",
     "metadata": {},
     "outputs": [
      {
       "output_type": "pyout",
       "prompt_number": 109,
       "text": [
        "2000"
       ]
      }
     ],
     "prompt_number": 109
    },
    {
     "cell_type": "code",
     "collapsed": false,
     "input": [
      "len( cp73_chronicHigh_genes.intersection( cp73_chronicLow_genes ) )"
     ],
     "language": "python",
     "metadata": {},
     "outputs": [
      {
       "output_type": "pyout",
       "prompt_number": 111,
       "text": [
        "926"
       ]
      }
     ],
     "prompt_number": 111
    },
    {
     "cell_type": "heading",
     "level": 4,
     "metadata": {},
     "source": [
      "Supplementary Table 8: Differential expression (>= 2-fold) in CP73 and any significant change in CP101"
     ]
    },
    {
     "cell_type": "code",
     "collapsed": false,
     "input": [
      "cp73_chronicHigh_alsoLow = (cp_both_wide_info.select(\n",
      "    lambda x: cp_both_wide_info.ix[x, \n",
      "        pda.tm.e([  (\"cmp\", [\"6-OHDA, chronicHigh\", \"6-OHDA, chronicSaline\"]),\n",
      "            (\"ct\", \"cp73\"),\n",
      "            (\"mc\", \"bh\"),\n",
      "            (\"st\", \"pval\"),\n",
      "            (\"tt\", \"welch ttest\")\n",
      "        ])] < 0.10\n",
      "    and\n",
      "        abs(cp_both_wide_info.ix[x, \n",
      "        pda.tm.e([  (\"cmp\", [\"6-OHDA, chronicHigh\", \"6-OHDA, chronicSaline\"]),\n",
      "            (\"ct\", \"cp73\"),\n",
      "            (\"st\", \"fc_medians\"),\n",
      "        ])]) >= 1\n",
      "    and\n",
      "        cp_both_wide_info.ix[x, \n",
      "        pda.tm.e([  (\"cmp\", [\"6-OHDA, chronicLow\", \"6-OHDA, chronicSaline\"]),\n",
      "            (\"ct\", \"cp73\"),\n",
      "            (\"mc\", \"bh\"),\n",
      "            (\"st\", \"pval\"),\n",
      "            (\"tt\", \"welch ttest\")\n",
      "        ])] < 0.10        \n",
      "))"
     ],
     "language": "python",
     "metadata": {},
     "outputs": [],
     "prompt_number": 113
    },
    {
     "cell_type": "code",
     "collapsed": false,
     "input": [
      "cp73_chronicHigh_alsoLow_genes = set(cp73_chronicHigh_alsoLow.symbol.unique() )\n",
      "cp73_chronicHigh_alsoLow_genes.discard(nan)"
     ],
     "language": "python",
     "metadata": {},
     "outputs": [],
     "prompt_number": 120
    },
    {
     "cell_type": "code",
     "collapsed": false,
     "input": [
      "len(cp73_chronicHigh_alsoLow_genes)"
     ],
     "language": "python",
     "metadata": {},
     "outputs": [
      {
       "output_type": "pyout",
       "prompt_number": 121,
       "text": [
        "1748"
       ]
      }
     ],
     "prompt_number": 121
    },
    {
     "cell_type": "code",
     "collapsed": false,
     "input": [
      "cp73_chronicHigh_NotLow = (cp_both_wide_info.select(\n",
      "    lambda x: cp_both_wide_info.ix[x, \n",
      "        pda.tm.e([  (\"cmp\", [\"6-OHDA, chronicHigh\", \"6-OHDA, chronicSaline\"]),\n",
      "            (\"ct\", \"cp73\"),\n",
      "            (\"mc\", \"bh\"),\n",
      "            (\"st\", \"pval\"),\n",
      "            (\"tt\", \"welch ttest\")\n",
      "        ])] < 0.10\n",
      "    and\n",
      "        abs(cp_both_wide_info.ix[x, \n",
      "        pda.tm.e([  (\"cmp\", [\"6-OHDA, chronicHigh\", \"6-OHDA, chronicSaline\"]),\n",
      "            (\"ct\", \"cp73\"),\n",
      "            (\"st\", \"fc_medians\"),\n",
      "        ])]) >= 1\n",
      "    and\n",
      "        cp_both_wide_info.ix[x, \n",
      "        pda.tm.e([  (\"cmp\", [\"6-OHDA, chronicLow\", \"6-OHDA, chronicSaline\"]),\n",
      "            (\"ct\", \"cp73\"),\n",
      "            (\"mc\", \"bh\"),\n",
      "            (\"st\", \"pval\"),\n",
      "            (\"tt\", \"welch ttest\")\n",
      "        ])] > 0.10        \n",
      "))"
     ],
     "language": "python",
     "metadata": {},
     "outputs": [],
     "prompt_number": 117
    },
    {
     "cell_type": "heading",
     "level": 4,
     "metadata": {},
     "source": [
      "Supplementary Table 9: Differential expression in CP101, low dose"
     ]
    },
    {
     "cell_type": "code",
     "collapsed": false,
     "input": [
      "cp_101_chronic_low = (cp_both_wide_info.select(\n",
      "    lambda x: cp_both_wide_info.ix[x, \n",
      "        pda.tm.e([  (\"cmp\", [\"6-OHDA, chronicLow\", \"6-OHDA, chronicSaline\"]),\n",
      "            (\"ct\", \"cp101\"),\n",
      "            (\"mc\", \"bh\"),\n",
      "            (\"st\", \"pval\"),\n",
      "            (\"tt\", \"welch ttest\")\n",
      "        ])] < 0.10\n",
      "    and\n",
      "        abs(cp_both_wide_info.ix[x, \n",
      "        pda.tm.e([  (\"cmp\", [\"6-OHDA, chronicLow\", \"6-OHDA, chronicSaline\"]),\n",
      "            (\"ct\", \"cp101\"),\n",
      "            (\"st\", \"fc_medians\"),\n",
      "        ])]) >= 1\n",
      "))"
     ],
     "language": "python",
     "metadata": {},
     "outputs": [],
     "prompt_number": 123
    },
    {
     "cell_type": "code",
     "collapsed": false,
     "input": [
      "len ( cp_101_chronic_low.symbol.unique() )"
     ],
     "language": "python",
     "metadata": {},
     "outputs": [
      {
       "output_type": "pyout",
       "prompt_number": 135,
       "text": [
        "41"
       ]
      }
     ],
     "prompt_number": 135
    },
    {
     "cell_type": "code",
     "collapsed": false,
     "input": [
      "h(cp_101_chronic_low)"
     ],
     "language": "python",
     "metadata": {},
     "outputs": [
      {
       "ename": "NameError",
       "evalue": "name 'h' is not defined",
       "output_type": "pyerr",
       "traceback": [
        "\u001b[1;31m---------------------------------------------------------------------------\u001b[0m\n\u001b[1;31mNameError\u001b[0m                                 Traceback (most recent call last)",
        "\u001b[1;32m<ipython-input-128-683383cc0319>\u001b[0m in \u001b[0;36m<module>\u001b[1;34m()\u001b[0m\n\u001b[1;32m----> 1\u001b[1;33m \u001b[0mh\u001b[0m\u001b[1;33m(\u001b[0m\u001b[0mcp_101_chronic_low\u001b[0m\u001b[1;33m)\u001b[0m\u001b[1;33m\u001b[0m\u001b[0m\n\u001b[0m",
        "\u001b[1;31mNameError\u001b[0m: name 'h' is not defined"
       ]
      }
     ],
     "prompt_number": 128
    },
    {
     "cell_type": "heading",
     "level": 4,
     "metadata": {},
     "source": [
      "Supplementary Table 10: Differential expression in CP101, high dose"
     ]
    },
    {
     "cell_type": "code",
     "collapsed": false,
     "input": [
      "cp_101_chronic_high = (cp_both_wide_info.select(\n",
      "    lambda x: cp_both_wide_info.ix[x, \n",
      "        pda.tm.e([  (\"cmp\", [\"6-OHDA, chronicHigh\", \"6-OHDA, chronicSaline\"]),\n",
      "            (\"ct\", \"cp101\"),\n",
      "            (\"mc\", \"bh\"),\n",
      "            (\"st\", \"pval\"),\n",
      "            (\"tt\", \"welch ttest\")\n",
      "        ])] < 0.10\n",
      "    and\n",
      "        abs(cp_both_wide_info.ix[x, \n",
      "        pda.tm.e([  (\"cmp\", [\"6-OHDA, chronicHich\", \"6-OHDA, chronicSaline\"]),\n",
      "            (\"ct\", \"cp101\"),\n",
      "            (\"st\", \"fc_medians\"),\n",
      "        ])]) >= 1\n",
      "))"
     ],
     "language": "python",
     "metadata": {},
     "outputs": [],
     "prompt_number": 131
    },
    {
     "cell_type": "code",
     "collapsed": false,
     "input": [
      "len( cp_101_chronic_high.symbol.unique() )"
     ],
     "language": "python",
     "metadata": {},
     "outputs": [
      {
       "output_type": "pyout",
       "prompt_number": 134,
       "text": [
        "181"
       ]
      }
     ],
     "prompt_number": 134
    },
    {
     "cell_type": "heading",
     "level": 4,
     "metadata": {},
     "source": [
      "Supplementary Table 11: Comparison between genes altered by high dose in CP101 vs CP73"
     ]
    },
    {
     "cell_type": "code",
     "collapsed": false,
     "input": [],
     "language": "python",
     "metadata": {},
     "outputs": []
    },
    {
     "cell_type": "heading",
     "level": 4,
     "metadata": {},
     "source": [
      "Supplementary Table 12: Pathways altered by high doses of L-DOPA in CP101 "
     ]
    },
    {
     "cell_type": "code",
     "collapsed": false,
     "input": [],
     "language": "python",
     "metadata": {},
     "outputs": []
    },
    {
     "cell_type": "code",
     "collapsed": false,
     "input": [],
     "language": "python",
     "metadata": {},
     "outputs": []
    },
    {
     "cell_type": "code",
     "collapsed": false,
     "input": [],
     "language": "python",
     "metadata": {},
     "outputs": []
    },
    {
     "cell_type": "heading",
     "level": 4,
     "metadata": {},
     "source": [
      "Supplementary Table 13: Significant differences between High and low-dose, CP73"
     ]
    },
    {
     "cell_type": "code",
     "collapsed": false,
     "input": [
      "cp_73_chronic_high_vs_low_up = (cp_both_wide_info.select(\n",
      "    lambda x: cp_both_wide_info.ix[x, \n",
      "        pda.tm.e([  (\"cmp\", [\"6-OHDA, chronicHigh\", \"6-OHDA, chronicLow\"]),\n",
      "            (\"ct\", \"cp73\"),\n",
      "            (\"mc\", \"bh\"),\n",
      "            (\"st\", \"pval\"),\n",
      "            (\"tt\", \"welch ttest\")\n",
      "        ])] < 0.10\n",
      "    and\n",
      "        cp_both_wide_info.ix[x, \n",
      "        pda.tm.e([  (\"cmp\", [\"6-OHDA, chronicHigh\", \"6-OHDA, chronicLow\"]),\n",
      "            (\"ct\", \"cp73\"),\n",
      "            (\"st\", \"fc_medians\"),\n",
      "        ])] >= 1\n",
      "))"
     ],
     "language": "python",
     "metadata": {},
     "outputs": [],
     "prompt_number": 141
    },
    {
     "cell_type": "code",
     "collapsed": false,
     "input": [
      "len( cp_73_chronic_high_vs_low_up.symbol.unique() )"
     ],
     "language": "python",
     "metadata": {},
     "outputs": [
      {
       "output_type": "pyout",
       "prompt_number": 143,
       "text": [
        "100"
       ]
      }
     ],
     "prompt_number": 143
    },
    {
     "cell_type": "code",
     "collapsed": false,
     "input": [
      "cp_73_chronic_high_vs_low_down = (cp_both_wide_info.select(\n",
      "    lambda x: cp_both_wide_info.ix[x, \n",
      "        pda.tm.e([  (\"cmp\", [\"6-OHDA, chronicHigh\", \"6-OHDA, chronicLow\"]),\n",
      "            (\"ct\", \"cp73\"),\n",
      "            (\"mc\", \"bh\"),\n",
      "            (\"st\", \"pval\"),\n",
      "            (\"tt\", \"welch ttest\")\n",
      "        ])] < 0.10\n",
      "    and\n",
      "        cp_both_wide_info.ix[x, \n",
      "        pda.tm.e([  (\"cmp\", [\"6-OHDA, chronicHigh\", \"6-OHDA, chronicLow\"]),\n",
      "            (\"ct\", \"cp73\"),\n",
      "            (\"st\", \"fc_medians\"),\n",
      "        ])] <= -1\n",
      "))"
     ],
     "language": "python",
     "metadata": {},
     "outputs": [],
     "prompt_number": 146
    },
    {
     "cell_type": "code",
     "collapsed": false,
     "input": [
      "len( cp_73_chronic_high_vs_low_down.symbol.unique() )"
     ],
     "language": "python",
     "metadata": {},
     "outputs": [
      {
       "output_type": "pyout",
       "prompt_number": 148,
       "text": [
        "31"
       ]
      }
     ],
     "prompt_number": 148
    },
    {
     "cell_type": "code",
     "collapsed": false,
     "input": [
      "Supplementary Table 14: Pathway enrichment in CP73 dose-dependent positively-correlated genes"
     ],
     "language": "python",
     "metadata": {},
     "outputs": []
    },
    {
     "cell_type": "code",
     "collapsed": false,
     "input": [
      "Supplementary Table 15: Pathways enriched in CP73 dose-dependent negatively correlated genes"
     ],
     "language": "python",
     "metadata": {},
     "outputs": []
    },
    {
     "cell_type": "code",
     "collapsed": false,
     "input": [
      "Supplementary Table 16: Significant differences between High and low dose, CP101"
     ],
     "language": "python",
     "metadata": {},
     "outputs": []
    }
   ],
   "metadata": {}
  }
 ]
}